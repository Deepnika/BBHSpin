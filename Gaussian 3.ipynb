{
 "cells": [
  {
   "cell_type": "markdown",
   "metadata": {},
   "source": [
    "## Imports"
   ]
  },
  {
   "cell_type": "code",
   "execution_count": 1,
   "metadata": {},
   "outputs": [
    {
     "name": "stdout",
     "output_type": "stream",
     "text": [
      "Populating the interactive namespace from numpy and matplotlib\n"
     ]
    }
   ],
   "source": [
    "import bilby\n",
    "import gwpopulation as gwpop\n",
    "import numpy as np\n",
    "import matplotlib.pyplot as plt\n",
    "import h5py\n",
    "import pandas as pd\n",
    "import corner\n",
    "import seaborn as sns\n",
    "\n",
    "from astropy import cosmology, units\n",
    "from scipy.interpolate import interp1d\n",
    "from scipy.stats import gaussian_kde\n",
    "\n",
    "from bilby.core.prior import Uniform, Constraint, PriorDict, LogUniform\n",
    "from bilby.gw.prior import BBHPriorDict\n",
    "from gwpopulation.models import mass, spin\n",
    "\n",
    "xp = gwpop.cupy_utils.xp\n",
    "\n",
    "%pylab inline"
   ]
  },
  {
   "cell_type": "code",
   "execution_count": 2,
   "metadata": {},
   "outputs": [
    {
     "name": "stdout",
     "output_type": "stream",
     "text": [
      "<module 'cupy' from '/home/deepnika.jain/anaconda3/envs/gwspin/lib/python3.8/site-packages/cupy/__init__.py'>\n"
     ]
    }
   ],
   "source": [
    "print(xp)"
   ]
  },
  {
   "cell_type": "markdown",
   "metadata": {},
   "source": [
    "# Model B - Gaussian\n",
    "\n",
    "This paper uses `Overall_posterior`."
   ]
  },
  {
   "cell_type": "code",
   "execution_count": 3,
   "metadata": {},
   "outputs": [],
   "source": [
    "parameter_translator = dict(\n",
    "    mass_1_det = 'm1_detector_frame_Msun',\n",
    "    mass_2_det = 'm2_detector_frame_Msun',\n",
    "    luminosity_distance = 'luminosity_distance_Mpc',\n",
    "    a_1 = 'spin1',\n",
    "    a_2 = 'spin2',\n",
    "    cos_tilt_1 = 'costilt1',\n",
    "    cos_tilt_2 = 'costilt2')"
   ]
  },
  {
   "cell_type": "code",
   "execution_count": 4,
   "metadata": {},
   "outputs": [],
   "source": [
    "file = 'GWTC-1_sample_release/GW{}_GWTC-1.hdf5'\n",
    "\n",
    "events = ['150914', '151012', '151226', '170104', '170608', '170729', '170809', '170814', \n",
    "          '170818', '170823']\n",
    "\n",
    "posteriorsB = []\n",
    "priorsB = []\n",
    "event_name = []\n",
    "\n",
    "for event in events:\n",
    "    _posterior = pd.DataFrame()\n",
    "    _prior = pd.DataFrame()\n",
    "    with h5py.File(file.format(event), 'r') as ff:\n",
    "        for my_key, gwtc_key in parameter_translator.items():\n",
    "            _posterior[my_key] = ff['Overall_posterior'][gwtc_key]\n",
    "    posteriorsB.append(_posterior)\n",
    "    event_name.append(event)"
   ]
  },
  {
   "cell_type": "code",
   "execution_count": 5,
   "metadata": {},
   "outputs": [],
   "source": [
    "luminosity_distances = np.linspace(1, 10000, 1000)\n",
    "redshifts = np.array([cosmology.z_at_value(cosmology.Planck15.luminosity_distance, \n",
    "                                                   dl * units.Mpc) for dl in luminosity_distances])\n",
    "dl_to_z = interp1d(luminosity_distances, redshifts)"
   ]
  },
  {
   "cell_type": "code",
   "execution_count": 6,
   "metadata": {},
   "outputs": [],
   "source": [
    "for posterior in posteriorsB:\n",
    "    posterior['redshift'] = dl_to_z(posterior['luminosity_distance'])\n",
    "    posterior['mass_1'] = posterior['mass_1_det'] / (1 + posterior['redshift'])\n",
    "    posterior['mass_2'] = posterior['mass_2_det'] / (1 + posterior['redshift'])\n",
    "    posterior['mass_ratio'] = posterior['mass_2'] / posterior['mass_1']"
   ]
  },
  {
   "cell_type": "markdown",
   "metadata": {},
   "source": [
    "### Sampling effective spins ($\\chi_{\\mathrm{eff}}$) by parameter estimation\n",
    "\n",
    "$$\\chi_{\\mathrm{eff}} = \\frac{a_1 cost_1 + a_2 q cost_2}{1 + q}$$\n",
    "\n",
    "For each gravitational wave we obtain a set of discrete samples p($\\chi_{\\mathrm{eff}}$|data) (given by `posterior['chieff']` here)\n",
    "\n",
    "Effective spins are drawn from a simple truncated Gaussian.\n",
    "\n",
    "### Sampling effective precession spin ($\\chi_{\\mathrm{p}}$) by parameter estimation\n",
    "\n",
    "$$\\chi_{\\mathrm{p}} = max \\bigg[a_1sint_1 , \\bigg(\\frac{4q + 3}{4 + 3q}\\bigg)q a_2sint_2\\bigg]$$\n",
    "\n",
    "\n",
    "$q = \\frac{m_2}{m_1}$"
   ]
  },
  {
   "cell_type": "code",
   "execution_count": 7,
   "metadata": {},
   "outputs": [],
   "source": [
    "def chieff(a1, a2, q, cost1, cost2):\n",
    "    chi_eff = (a1*cost1 + a2*q*cost2)/(1+q)\n",
    "    return chi_eff\n",
    "\n",
    "def chiP(a1, a2, q, cost1, cost2):\n",
    "    q1 = a1 * sin(arccos(cost1))\n",
    "    q2 = ((4*q + 3)/(4 + 3*q)) * q * a2 * sin(arccos(cost2))\n",
    "    return np.max([q1, q2])"
   ]
  },
  {
   "cell_type": "code",
   "execution_count": 8,
   "metadata": {},
   "outputs": [],
   "source": [
    "for posterior in posteriorsB:\n",
    "    posterior['chi_eff'] = chieff(posterior['a_1'], posterior['a_2'], posterior['mass_ratio'],\n",
    "                                  posterior['cos_tilt_1'], posterior['cos_tilt_2'])\n",
    "    posterior['chi_p'] = chiP(posterior['a_1'], posterior['a_2'],\n",
    "                              posterior['mass_ratio'], posterior['cos_tilt_1'], posterior['cos_tilt_2'])"
   ]
  },
  {
   "cell_type": "code",
   "execution_count": 9,
   "metadata": {
    "scrolled": false
   },
   "outputs": [
    {
     "data": {
      "text/html": [
       "<div>\n",
       "<style scoped>\n",
       "    .dataframe tbody tr th:only-of-type {\n",
       "        vertical-align: middle;\n",
       "    }\n",
       "\n",
       "    .dataframe tbody tr th {\n",
       "        vertical-align: top;\n",
       "    }\n",
       "\n",
       "    .dataframe thead th {\n",
       "        text-align: right;\n",
       "    }\n",
       "</style>\n",
       "<table border=\"1\" class=\"dataframe\">\n",
       "  <thead>\n",
       "    <tr style=\"text-align: right;\">\n",
       "      <th></th>\n",
       "      <th>mass_1_det</th>\n",
       "      <th>mass_2_det</th>\n",
       "      <th>luminosity_distance</th>\n",
       "      <th>a_1</th>\n",
       "      <th>a_2</th>\n",
       "      <th>cos_tilt_1</th>\n",
       "      <th>cos_tilt_2</th>\n",
       "      <th>redshift</th>\n",
       "      <th>mass_1</th>\n",
       "      <th>mass_2</th>\n",
       "      <th>mass_ratio</th>\n",
       "      <th>chi_eff</th>\n",
       "      <th>chi_p</th>\n",
       "    </tr>\n",
       "  </thead>\n",
       "  <tbody>\n",
       "    <tr>\n",
       "      <th>0</th>\n",
       "      <td>40.823686</td>\n",
       "      <td>26.440697</td>\n",
       "      <td>429.439630</td>\n",
       "      <td>0.720602</td>\n",
       "      <td>0.536915</td>\n",
       "      <td>-0.591917</td>\n",
       "      <td>0.188768</td>\n",
       "      <td>0.090895</td>\n",
       "      <td>37.422188</td>\n",
       "      <td>24.237614</td>\n",
       "      <td>0.647680</td>\n",
       "      <td>-0.219031</td>\n",
       "      <td>0.984303</td>\n",
       "    </tr>\n",
       "    <tr>\n",
       "      <th>1</th>\n",
       "      <td>34.626875</td>\n",
       "      <td>34.212308</td>\n",
       "      <td>337.154490</td>\n",
       "      <td>0.238156</td>\n",
       "      <td>0.410068</td>\n",
       "      <td>-0.076179</td>\n",
       "      <td>-0.517005</td>\n",
       "      <td>0.072273</td>\n",
       "      <td>32.292953</td>\n",
       "      <td>31.906329</td>\n",
       "      <td>0.988028</td>\n",
       "      <td>-0.114491</td>\n",
       "      <td>0.984303</td>\n",
       "    </tr>\n",
       "    <tr>\n",
       "      <th>2</th>\n",
       "      <td>36.142271</td>\n",
       "      <td>33.174642</td>\n",
       "      <td>487.316326</td>\n",
       "      <td>0.297883</td>\n",
       "      <td>0.187064</td>\n",
       "      <td>-0.335351</td>\n",
       "      <td>-0.821574</td>\n",
       "      <td>0.102359</td>\n",
       "      <td>32.786286</td>\n",
       "      <td>30.094216</td>\n",
       "      <td>0.917890</td>\n",
       "      <td>-0.125640</td>\n",
       "      <td>0.984303</td>\n",
       "    </tr>\n",
       "    <tr>\n",
       "      <th>3</th>\n",
       "      <td>41.569619</td>\n",
       "      <td>31.876132</td>\n",
       "      <td>488.540224</td>\n",
       "      <td>0.347413</td>\n",
       "      <td>0.059700</td>\n",
       "      <td>0.109706</td>\n",
       "      <td>-0.500742</td>\n",
       "      <td>0.102600</td>\n",
       "      <td>37.701443</td>\n",
       "      <td>28.909964</td>\n",
       "      <td>0.766813</td>\n",
       "      <td>0.008597</td>\n",
       "      <td>0.984303</td>\n",
       "    </tr>\n",
       "    <tr>\n",
       "      <th>4</th>\n",
       "      <td>37.869125</td>\n",
       "      <td>33.759950</td>\n",
       "      <td>463.788715</td>\n",
       "      <td>0.147665</td>\n",
       "      <td>0.086681</td>\n",
       "      <td>-0.761297</td>\n",
       "      <td>0.988754</td>\n",
       "      <td>0.097718</td>\n",
       "      <td>34.498038</td>\n",
       "      <td>30.754659</td>\n",
       "      <td>0.891490</td>\n",
       "      <td>-0.019038</td>\n",
       "      <td>0.984303</td>\n",
       "    </tr>\n",
       "    <tr>\n",
       "      <th>...</th>\n",
       "      <td>...</td>\n",
       "      <td>...</td>\n",
       "      <td>...</td>\n",
       "      <td>...</td>\n",
       "      <td>...</td>\n",
       "      <td>...</td>\n",
       "      <td>...</td>\n",
       "      <td>...</td>\n",
       "      <td>...</td>\n",
       "      <td>...</td>\n",
       "      <td>...</td>\n",
       "      <td>...</td>\n",
       "      <td>...</td>\n",
       "    </tr>\n",
       "    <tr>\n",
       "      <th>8345</th>\n",
       "      <td>40.383795</td>\n",
       "      <td>31.959753</td>\n",
       "      <td>460.559361</td>\n",
       "      <td>0.088515</td>\n",
       "      <td>0.577331</td>\n",
       "      <td>0.870492</td>\n",
       "      <td>-0.264759</td>\n",
       "      <td>0.097079</td>\n",
       "      <td>36.810276</td>\n",
       "      <td>29.131669</td>\n",
       "      <td>0.791400</td>\n",
       "      <td>-0.024515</td>\n",
       "      <td>0.984303</td>\n",
       "    </tr>\n",
       "    <tr>\n",
       "      <th>8346</th>\n",
       "      <td>38.164225</td>\n",
       "      <td>35.639218</td>\n",
       "      <td>449.985818</td>\n",
       "      <td>0.122339</td>\n",
       "      <td>0.190940</td>\n",
       "      <td>0.783595</td>\n",
       "      <td>0.267030</td>\n",
       "      <td>0.094983</td>\n",
       "      <td>34.853703</td>\n",
       "      <td>32.547725</td>\n",
       "      <td>0.933838</td>\n",
       "      <td>0.074193</td>\n",
       "      <td>0.984303</td>\n",
       "    </tr>\n",
       "    <tr>\n",
       "      <th>8347</th>\n",
       "      <td>37.670359</td>\n",
       "      <td>34.004716</td>\n",
       "      <td>513.756334</td>\n",
       "      <td>0.439794</td>\n",
       "      <td>0.470269</td>\n",
       "      <td>-0.208949</td>\n",
       "      <td>0.113237</td>\n",
       "      <td>0.107545</td>\n",
       "      <td>34.012487</td>\n",
       "      <td>30.702786</td>\n",
       "      <td>0.902692</td>\n",
       "      <td>-0.023033</td>\n",
       "      <td>0.984303</td>\n",
       "    </tr>\n",
       "    <tr>\n",
       "      <th>8348</th>\n",
       "      <td>36.746741</td>\n",
       "      <td>35.672009</td>\n",
       "      <td>399.113830</td>\n",
       "      <td>0.163340</td>\n",
       "      <td>0.423884</td>\n",
       "      <td>0.160240</td>\n",
       "      <td>0.171165</td>\n",
       "      <td>0.084824</td>\n",
       "      <td>33.873472</td>\n",
       "      <td>32.882775</td>\n",
       "      <td>0.970753</td>\n",
       "      <td>0.049020</td>\n",
       "      <td>0.984303</td>\n",
       "    </tr>\n",
       "    <tr>\n",
       "      <th>8349</th>\n",
       "      <td>36.593879</td>\n",
       "      <td>35.531190</td>\n",
       "      <td>356.054689</td>\n",
       "      <td>0.269740</td>\n",
       "      <td>0.290810</td>\n",
       "      <td>0.706934</td>\n",
       "      <td>-0.714106</td>\n",
       "      <td>0.076123</td>\n",
       "      <td>34.005300</td>\n",
       "      <td>33.017783</td>\n",
       "      <td>0.970960</td>\n",
       "      <td>-0.005556</td>\n",
       "      <td>0.984303</td>\n",
       "    </tr>\n",
       "  </tbody>\n",
       "</table>\n",
       "<p>8350 rows × 13 columns</p>\n",
       "</div>"
      ],
      "text/plain": [
       "      mass_1_det  mass_2_det  luminosity_distance       a_1       a_2  \\\n",
       "0      40.823686   26.440697           429.439630  0.720602  0.536915   \n",
       "1      34.626875   34.212308           337.154490  0.238156  0.410068   \n",
       "2      36.142271   33.174642           487.316326  0.297883  0.187064   \n",
       "3      41.569619   31.876132           488.540224  0.347413  0.059700   \n",
       "4      37.869125   33.759950           463.788715  0.147665  0.086681   \n",
       "...          ...         ...                  ...       ...       ...   \n",
       "8345   40.383795   31.959753           460.559361  0.088515  0.577331   \n",
       "8346   38.164225   35.639218           449.985818  0.122339  0.190940   \n",
       "8347   37.670359   34.004716           513.756334  0.439794  0.470269   \n",
       "8348   36.746741   35.672009           399.113830  0.163340  0.423884   \n",
       "8349   36.593879   35.531190           356.054689  0.269740  0.290810   \n",
       "\n",
       "      cos_tilt_1  cos_tilt_2  redshift     mass_1     mass_2  mass_ratio  \\\n",
       "0      -0.591917    0.188768  0.090895  37.422188  24.237614    0.647680   \n",
       "1      -0.076179   -0.517005  0.072273  32.292953  31.906329    0.988028   \n",
       "2      -0.335351   -0.821574  0.102359  32.786286  30.094216    0.917890   \n",
       "3       0.109706   -0.500742  0.102600  37.701443  28.909964    0.766813   \n",
       "4      -0.761297    0.988754  0.097718  34.498038  30.754659    0.891490   \n",
       "...          ...         ...       ...        ...        ...         ...   \n",
       "8345    0.870492   -0.264759  0.097079  36.810276  29.131669    0.791400   \n",
       "8346    0.783595    0.267030  0.094983  34.853703  32.547725    0.933838   \n",
       "8347   -0.208949    0.113237  0.107545  34.012487  30.702786    0.902692   \n",
       "8348    0.160240    0.171165  0.084824  33.873472  32.882775    0.970753   \n",
       "8349    0.706934   -0.714106  0.076123  34.005300  33.017783    0.970960   \n",
       "\n",
       "       chi_eff     chi_p  \n",
       "0    -0.219031  0.984303  \n",
       "1    -0.114491  0.984303  \n",
       "2    -0.125640  0.984303  \n",
       "3     0.008597  0.984303  \n",
       "4    -0.019038  0.984303  \n",
       "...        ...       ...  \n",
       "8345 -0.024515  0.984303  \n",
       "8346  0.074193  0.984303  \n",
       "8347 -0.023033  0.984303  \n",
       "8348  0.049020  0.984303  \n",
       "8349 -0.005556  0.984303  \n",
       "\n",
       "[8350 rows x 13 columns]"
      ]
     },
     "execution_count": 9,
     "metadata": {},
     "output_type": "execute_result"
    }
   ],
   "source": [
    "posteriorsB[0]"
   ]
  },
  {
   "cell_type": "markdown",
   "metadata": {},
   "source": [
    "Here, simulating the LALprior for $\\chi_{\\mathrm{eff}}$:"
   ]
  },
  {
   "cell_type": "code",
   "execution_count": 10,
   "metadata": {},
   "outputs": [
    {
     "name": "stderr",
     "output_type": "stream",
     "text": [
      "21:08 bilby INFO    : No prior given, using default BBH priors in /home/deepnika.jain/anaconda3/envs/gwspin/lib/python3.8/site-packages/bilby/gw/prior_files/precessing_spins_bbh.prior.\n"
     ]
    }
   ],
   "source": [
    "simulated_LALprior = BBHPriorDict()\n",
    "\n",
    "# mass -- these are detector frame masses\n",
    "simulated_LALprior[\"mass_1\"] = Uniform(minimum = 0, maximum = 1, latex_label = 'm1')\n",
    "simulated_LALprior[\"mass_2\"] = Uniform(minimum = 0, maximum = 1, latex_label = 'm2')\n",
    "simulated_LALprior[\"mass_ratio\"] = Constraint(minimum = 0, maximum = 1)\n",
    "\n",
    "# spin\n",
    "simulated_LALprior[\"a_1\"] = Uniform(minimum = 0, maximum = 1, latex_label = 'a1')\n",
    "simulated_LALprior[\"a_2\"] = Uniform(minimum = 0, maximum = 1, latex_label = 'a2')\n",
    "simulated_LALprior[\"cos_tilt_1\"] = Uniform(minimum = -1, maximum = 1, latex_label = 'cost1')\n",
    "simulated_LALprior[\"cos_tilt_2\"] = Uniform(minimum = -1, maximum = 1, latex_label = 'cost2')"
   ]
  },
  {
   "cell_type": "code",
   "execution_count": 11,
   "metadata": {},
   "outputs": [],
   "source": [
    "del simulated_LALprior[\"chirp_mass\"]"
   ]
  },
  {
   "cell_type": "code",
   "execution_count": 12,
   "metadata": {},
   "outputs": [],
   "source": [
    "simulated_LALprior_samples = simulated_LALprior.sample(100000)"
   ]
  },
  {
   "cell_type": "code",
   "execution_count": 13,
   "metadata": {},
   "outputs": [
    {
     "data": {
      "text/html": [
       "<div>\n",
       "<style scoped>\n",
       "    .dataframe tbody tr th:only-of-type {\n",
       "        vertical-align: middle;\n",
       "    }\n",
       "\n",
       "    .dataframe tbody tr th {\n",
       "        vertical-align: top;\n",
       "    }\n",
       "\n",
       "    .dataframe thead th {\n",
       "        text-align: right;\n",
       "    }\n",
       "</style>\n",
       "<table border=\"1\" class=\"dataframe\">\n",
       "  <thead>\n",
       "    <tr style=\"text-align: right;\">\n",
       "      <th></th>\n",
       "      <th>mass_1</th>\n",
       "      <th>mass_2</th>\n",
       "      <th>luminosity_distance</th>\n",
       "      <th>dec</th>\n",
       "      <th>ra</th>\n",
       "      <th>theta_jn</th>\n",
       "      <th>psi</th>\n",
       "      <th>phase</th>\n",
       "      <th>a_1</th>\n",
       "      <th>a_2</th>\n",
       "      <th>tilt_1</th>\n",
       "      <th>tilt_2</th>\n",
       "      <th>phi_12</th>\n",
       "      <th>phi_jl</th>\n",
       "      <th>cos_tilt_1</th>\n",
       "      <th>cos_tilt_2</th>\n",
       "      <th>mass_ratio</th>\n",
       "    </tr>\n",
       "  </thead>\n",
       "  <tbody>\n",
       "    <tr>\n",
       "      <th>0</th>\n",
       "      <td>0.950079</td>\n",
       "      <td>0.701466</td>\n",
       "      <td>4689.089487</td>\n",
       "      <td>0.081148</td>\n",
       "      <td>1.197446</td>\n",
       "      <td>2.996967</td>\n",
       "      <td>0.207457</td>\n",
       "      <td>1.208921</td>\n",
       "      <td>0.344980</td>\n",
       "      <td>0.321974</td>\n",
       "      <td>1.509880</td>\n",
       "      <td>1.115525</td>\n",
       "      <td>6.039174</td>\n",
       "      <td>0.449851</td>\n",
       "      <td>-0.779320</td>\n",
       "      <td>0.808178</td>\n",
       "      <td>0.738324</td>\n",
       "    </tr>\n",
       "    <tr>\n",
       "      <th>1</th>\n",
       "      <td>0.323463</td>\n",
       "      <td>0.154500</td>\n",
       "      <td>4607.311610</td>\n",
       "      <td>-0.139463</td>\n",
       "      <td>5.625822</td>\n",
       "      <td>2.459460</td>\n",
       "      <td>2.979637</td>\n",
       "      <td>4.479693</td>\n",
       "      <td>0.880815</td>\n",
       "      <td>0.948277</td>\n",
       "      <td>2.708317</td>\n",
       "      <td>2.493246</td>\n",
       "      <td>2.973768</td>\n",
       "      <td>4.294076</td>\n",
       "      <td>0.113163</td>\n",
       "      <td>0.791876</td>\n",
       "      <td>0.477644</td>\n",
       "    </tr>\n",
       "    <tr>\n",
       "      <th>2</th>\n",
       "      <td>0.743647</td>\n",
       "      <td>0.471976</td>\n",
       "      <td>3799.197013</td>\n",
       "      <td>-0.371309</td>\n",
       "      <td>4.459670</td>\n",
       "      <td>0.140931</td>\n",
       "      <td>2.271942</td>\n",
       "      <td>1.358859</td>\n",
       "      <td>0.914842</td>\n",
       "      <td>0.787778</td>\n",
       "      <td>1.292247</td>\n",
       "      <td>1.313930</td>\n",
       "      <td>3.059391</td>\n",
       "      <td>4.698431</td>\n",
       "      <td>-0.987423</td>\n",
       "      <td>-0.933857</td>\n",
       "      <td>0.634678</td>\n",
       "    </tr>\n",
       "    <tr>\n",
       "      <th>3</th>\n",
       "      <td>0.934393</td>\n",
       "      <td>0.273282</td>\n",
       "      <td>4014.247669</td>\n",
       "      <td>0.577615</td>\n",
       "      <td>6.220614</td>\n",
       "      <td>1.542368</td>\n",
       "      <td>2.709524</td>\n",
       "      <td>3.810465</td>\n",
       "      <td>0.752124</td>\n",
       "      <td>0.322351</td>\n",
       "      <td>1.469485</td>\n",
       "      <td>2.174308</td>\n",
       "      <td>0.699531</td>\n",
       "      <td>2.983117</td>\n",
       "      <td>0.276982</td>\n",
       "      <td>0.577729</td>\n",
       "      <td>0.292470</td>\n",
       "    </tr>\n",
       "    <tr>\n",
       "      <th>4</th>\n",
       "      <td>0.669778</td>\n",
       "      <td>0.380313</td>\n",
       "      <td>3766.457646</td>\n",
       "      <td>-0.684574</td>\n",
       "      <td>4.781919</td>\n",
       "      <td>2.620424</td>\n",
       "      <td>2.400079</td>\n",
       "      <td>4.635570</td>\n",
       "      <td>0.396396</td>\n",
       "      <td>0.538427</td>\n",
       "      <td>0.539315</td>\n",
       "      <td>1.787313</td>\n",
       "      <td>2.511514</td>\n",
       "      <td>5.094862</td>\n",
       "      <td>-0.020785</td>\n",
       "      <td>-0.380077</td>\n",
       "      <td>0.567819</td>\n",
       "    </tr>\n",
       "    <tr>\n",
       "      <th>...</th>\n",
       "      <td>...</td>\n",
       "      <td>...</td>\n",
       "      <td>...</td>\n",
       "      <td>...</td>\n",
       "      <td>...</td>\n",
       "      <td>...</td>\n",
       "      <td>...</td>\n",
       "      <td>...</td>\n",
       "      <td>...</td>\n",
       "      <td>...</td>\n",
       "      <td>...</td>\n",
       "      <td>...</td>\n",
       "      <td>...</td>\n",
       "      <td>...</td>\n",
       "      <td>...</td>\n",
       "      <td>...</td>\n",
       "      <td>...</td>\n",
       "    </tr>\n",
       "    <tr>\n",
       "      <th>99995</th>\n",
       "      <td>0.805084</td>\n",
       "      <td>0.688821</td>\n",
       "      <td>4623.834895</td>\n",
       "      <td>-1.233986</td>\n",
       "      <td>3.715961</td>\n",
       "      <td>2.066858</td>\n",
       "      <td>2.365715</td>\n",
       "      <td>1.618979</td>\n",
       "      <td>0.538114</td>\n",
       "      <td>0.421734</td>\n",
       "      <td>1.687714</td>\n",
       "      <td>1.695105</td>\n",
       "      <td>4.413301</td>\n",
       "      <td>3.421710</td>\n",
       "      <td>0.263680</td>\n",
       "      <td>-0.355683</td>\n",
       "      <td>0.855589</td>\n",
       "    </tr>\n",
       "    <tr>\n",
       "      <th>99996</th>\n",
       "      <td>0.789699</td>\n",
       "      <td>0.405945</td>\n",
       "      <td>2136.803326</td>\n",
       "      <td>-0.671542</td>\n",
       "      <td>5.014503</td>\n",
       "      <td>0.869351</td>\n",
       "      <td>1.330423</td>\n",
       "      <td>1.105019</td>\n",
       "      <td>0.833688</td>\n",
       "      <td>0.029060</td>\n",
       "      <td>0.846091</td>\n",
       "      <td>1.316572</td>\n",
       "      <td>3.542774</td>\n",
       "      <td>4.991360</td>\n",
       "      <td>-0.200146</td>\n",
       "      <td>-0.210748</td>\n",
       "      <td>0.514050</td>\n",
       "    </tr>\n",
       "    <tr>\n",
       "      <th>99997</th>\n",
       "      <td>0.867681</td>\n",
       "      <td>0.563337</td>\n",
       "      <td>3487.252235</td>\n",
       "      <td>-1.022131</td>\n",
       "      <td>4.089540</td>\n",
       "      <td>2.939863</td>\n",
       "      <td>0.796326</td>\n",
       "      <td>1.236799</td>\n",
       "      <td>0.934243</td>\n",
       "      <td>0.205631</td>\n",
       "      <td>1.523335</td>\n",
       "      <td>2.199838</td>\n",
       "      <td>2.928171</td>\n",
       "      <td>5.471237</td>\n",
       "      <td>0.736877</td>\n",
       "      <td>0.764611</td>\n",
       "      <td>0.649245</td>\n",
       "    </tr>\n",
       "    <tr>\n",
       "      <th>99998</th>\n",
       "      <td>0.396147</td>\n",
       "      <td>0.207895</td>\n",
       "      <td>2458.874722</td>\n",
       "      <td>0.299221</td>\n",
       "      <td>5.030888</td>\n",
       "      <td>0.859096</td>\n",
       "      <td>1.341225</td>\n",
       "      <td>0.343435</td>\n",
       "      <td>0.533457</td>\n",
       "      <td>0.229192</td>\n",
       "      <td>0.882748</td>\n",
       "      <td>1.442214</td>\n",
       "      <td>0.883444</td>\n",
       "      <td>5.262815</td>\n",
       "      <td>-0.621535</td>\n",
       "      <td>0.261623</td>\n",
       "      <td>0.524793</td>\n",
       "    </tr>\n",
       "    <tr>\n",
       "      <th>99999</th>\n",
       "      <td>0.817181</td>\n",
       "      <td>0.324888</td>\n",
       "      <td>4961.920107</td>\n",
       "      <td>0.293667</td>\n",
       "      <td>0.499827</td>\n",
       "      <td>1.488640</td>\n",
       "      <td>0.857058</td>\n",
       "      <td>5.820866</td>\n",
       "      <td>0.040822</td>\n",
       "      <td>0.655087</td>\n",
       "      <td>1.475329</td>\n",
       "      <td>1.539548</td>\n",
       "      <td>3.181601</td>\n",
       "      <td>4.095587</td>\n",
       "      <td>-0.540922</td>\n",
       "      <td>-0.837509</td>\n",
       "      <td>0.397571</td>\n",
       "    </tr>\n",
       "  </tbody>\n",
       "</table>\n",
       "<p>100000 rows × 17 columns</p>\n",
       "</div>"
      ],
      "text/plain": [
       "         mass_1    mass_2  luminosity_distance       dec        ra  theta_jn  \\\n",
       "0      0.950079  0.701466          4689.089487  0.081148  1.197446  2.996967   \n",
       "1      0.323463  0.154500          4607.311610 -0.139463  5.625822  2.459460   \n",
       "2      0.743647  0.471976          3799.197013 -0.371309  4.459670  0.140931   \n",
       "3      0.934393  0.273282          4014.247669  0.577615  6.220614  1.542368   \n",
       "4      0.669778  0.380313          3766.457646 -0.684574  4.781919  2.620424   \n",
       "...         ...       ...                  ...       ...       ...       ...   \n",
       "99995  0.805084  0.688821          4623.834895 -1.233986  3.715961  2.066858   \n",
       "99996  0.789699  0.405945          2136.803326 -0.671542  5.014503  0.869351   \n",
       "99997  0.867681  0.563337          3487.252235 -1.022131  4.089540  2.939863   \n",
       "99998  0.396147  0.207895          2458.874722  0.299221  5.030888  0.859096   \n",
       "99999  0.817181  0.324888          4961.920107  0.293667  0.499827  1.488640   \n",
       "\n",
       "            psi     phase       a_1       a_2    tilt_1    tilt_2    phi_12  \\\n",
       "0      0.207457  1.208921  0.344980  0.321974  1.509880  1.115525  6.039174   \n",
       "1      2.979637  4.479693  0.880815  0.948277  2.708317  2.493246  2.973768   \n",
       "2      2.271942  1.358859  0.914842  0.787778  1.292247  1.313930  3.059391   \n",
       "3      2.709524  3.810465  0.752124  0.322351  1.469485  2.174308  0.699531   \n",
       "4      2.400079  4.635570  0.396396  0.538427  0.539315  1.787313  2.511514   \n",
       "...         ...       ...       ...       ...       ...       ...       ...   \n",
       "99995  2.365715  1.618979  0.538114  0.421734  1.687714  1.695105  4.413301   \n",
       "99996  1.330423  1.105019  0.833688  0.029060  0.846091  1.316572  3.542774   \n",
       "99997  0.796326  1.236799  0.934243  0.205631  1.523335  2.199838  2.928171   \n",
       "99998  1.341225  0.343435  0.533457  0.229192  0.882748  1.442214  0.883444   \n",
       "99999  0.857058  5.820866  0.040822  0.655087  1.475329  1.539548  3.181601   \n",
       "\n",
       "         phi_jl  cos_tilt_1  cos_tilt_2  mass_ratio  \n",
       "0      0.449851   -0.779320    0.808178    0.738324  \n",
       "1      4.294076    0.113163    0.791876    0.477644  \n",
       "2      4.698431   -0.987423   -0.933857    0.634678  \n",
       "3      2.983117    0.276982    0.577729    0.292470  \n",
       "4      5.094862   -0.020785   -0.380077    0.567819  \n",
       "...         ...         ...         ...         ...  \n",
       "99995  3.421710    0.263680   -0.355683    0.855589  \n",
       "99996  4.991360   -0.200146   -0.210748    0.514050  \n",
       "99997  5.471237    0.736877    0.764611    0.649245  \n",
       "99998  5.262815   -0.621535    0.261623    0.524793  \n",
       "99999  4.095587   -0.540922   -0.837509    0.397571  \n",
       "\n",
       "[100000 rows x 17 columns]"
      ]
     },
     "execution_count": 13,
     "metadata": {},
     "output_type": "execute_result"
    }
   ],
   "source": [
    "simulated_LALprior_samples = pd.DataFrame(simulated_LALprior_samples)\n",
    "simulated_LALprior_samples[\"mass_ratio\"] = simulated_LALprior_samples[\"mass_2\"]/simulated_LALprior_samples[\"mass_1\"]\n",
    "simulated_LALprior_samples "
   ]
  },
  {
   "cell_type": "code",
   "execution_count": 15,
   "metadata": {},
   "outputs": [
    {
     "data": {
      "image/png": "[encoded data removed]",
      "text/plain": [
       "<Figure size 432x288 with 1 Axes>"
      ]
     },
     "metadata": {
      "needs_background": "light"
     },
     "output_type": "display_data"
    }
   ],
   "source": [
    "plt.hist2d(simulated_LALprior_samples['mass_1'], simulated_LALprior_samples['mass_2'], bins=100, cmap='Blues')\n",
    "plt.xlabel('$mass_1$')\n",
    "plt.ylabel('$mass_2$')\n",
    "plt.tight_layout()\n",
    "plt.show()\n",
    "plt.close()"
   ]
  },
  {
   "cell_type": "code",
   "execution_count": 16,
   "metadata": {},
   "outputs": [],
   "source": [
    "simulated_LALprior_samples[\"chi_eff\"] = chieff(simulated_LALprior_samples[\"a_1\"], \n",
    "                                               simulated_LALprior_samples[\"a_2\"], \n",
    "                                               simulated_LALprior_samples[\"mass_ratio\"],\n",
    "                                               simulated_LALprior_samples[\"cos_tilt_1\"], \n",
    "                                               simulated_LALprior_samples[\"cos_tilt_2\"])\n",
    "\n",
    "simulated_LALprior_samples['chi_p'] = chiP(simulated_LALprior_samples['a_1'], \n",
    "                                           simulated_LALprior_samples['a_2'],\n",
    "                                           simulated_LALprior_samples['mass_ratio'],\n",
    "                                           simulated_LALprior_samples['cos_tilt_1'],\n",
    "                                           simulated_LALprior_samples['cos_tilt_2'])"
   ]
  },
  {
   "cell_type": "code",
   "execution_count": 22,
   "metadata": {},
   "outputs": [
    {
     "data": {
      "image/png": "[encoded data removed]",
      "text/plain": [
       "<Figure size 432x288 with 1 Axes>"
      ]
     },
     "metadata": {
      "needs_background": "light"
     },
     "output_type": "display_data"
    },
    {
     "data": {
      "image/png": "[encoded data removed]",
      "text/plain": [
       "<Figure size 432x288 with 1 Axes>"
      ]
     },
     "metadata": {
      "needs_background": "light"
     },
     "output_type": "display_data"
    }
   ],
   "source": [
    "plt.hist(simulated_LALprior_samples['chi_eff'], bins = 50)\n",
    "plt.xlabel('$\\\\chi_{\\mathrm{eff}}$')\n",
    "plt.tight_layout()\n",
    "plt.show()\n",
    "plt.close()\n",
    "\n",
    "plt.hist(simulated_LALprior_samples['chi_p'], bins = 50)\n",
    "plt.xlabel('$\\\\chi_{\\mathrm{p}}$')\n",
    "plt.tight_layout()\n",
    "plt.show()\n",
    "plt.close()"
   ]
  },
  {
   "cell_type": "code",
   "execution_count": 18,
   "metadata": {},
   "outputs": [
    {
     "data": {
      "text/plain": [
       "<AxesSubplot:xlabel='chi_eff'>"
      ]
     },
     "execution_count": 18,
     "metadata": {},
     "output_type": "execute_result"
    },
    {
     "data": {
      "image/png": "[encoded data removed]",
      "text/plain": [
       "<Figure size 432x288 with 1 Axes>"
      ]
     },
     "metadata": {
      "needs_background": "light"
     },
     "output_type": "display_data"
    }
   ],
   "source": [
    "sns.distplot(simulated_LALprior_samples['chi_eff'], bins=50)"
   ]
  },
  {
   "cell_type": "code",
   "execution_count": 19,
   "metadata": {},
   "outputs": [
    {
     "data": {
      "text/plain": [
       "<AxesSubplot:xlabel='chi_p'>"
      ]
     },
     "execution_count": 19,
     "metadata": {},
     "output_type": "execute_result"
    },
    {
     "data": {
      "image/png": "[encoded data removed]",
      "text/plain": [
       "<Figure size 432x288 with 1 Axes>"
      ]
     },
     "metadata": {
      "needs_background": "light"
     },
     "output_type": "display_data"
    }
   ],
   "source": [
    "sns.distplot(simulated_LALprior_samples['chi_p'], bins=50)"
   ]
  },
  {
   "cell_type": "markdown",
   "metadata": {},
   "source": [
    "Good place to know about KDE https://jakevdp.github.io/blog/2013/12/01/kernel-density-estimation/\n",
    "\n",
    "Here I just go with the SciPy Gaussian KDE."
   ]
  },
  {
   "cell_type": "code",
   "execution_count": 30,
   "metadata": {},
   "outputs": [],
   "source": [
    "from scipy.stats import gaussian_kde\n",
    "\n",
    "simulated_LAL_chi_prior = gaussian_kde(simulated_LALprior_samples[\"chi_eff\"])"
   ]
  },
  {
   "cell_type": "code",
   "execution_count": 31,
   "metadata": {},
   "outputs": [
    {
     "data": {
      "image/png": "[encoded data removed]",
      "text/plain": [
       "<Figure size 432x288 with 1 Axes>"
      ]
     },
     "metadata": {
      "needs_background": "light"
     },
     "output_type": "display_data"
    }
   ],
   "source": [
    "plt.plot(simulated_LALprior_samples[\"chi_eff\"], \n",
    "         simulated_LAL_chi_prior(simulated_LALprior_samples[\"chi_eff\"]), '.')\n",
    "plt.xlabel(\"$\\\\chi_{\\mathrm{eff}}$\")\n",
    "plt.ylabel(\"$PDF(\\\\chi_{\\mathrm{eff}})$\")\n",
    "plt.show()"
   ]
  },
  {
   "cell_type": "markdown",
   "metadata": {},
   "source": [
    "To put it in terms of the notation given <a href = \"https://arxiv.org/pdf/2001.06051.pdf\">here</a>, this PDF given above is $p_{pe}$($\\chi_{\\mathrm{eff,j}}$). Now we need to reweight it with $p_{pe}$($m_{1,j}, m_{2,j}, z_j$)\n",
    "\n",
    "$$p_{pe}(m_1, m_2, z) \\propto (1+z)^2 D_L(z)^2  \\bigg[ D_c(z) + \\frac{c(1+z)}{H(z)}\\bigg]$$\n",
    "\n",
    "To calculate Hubble Parameter https://docs.astropy.org/en/stable/_modules/astropy/cosmology/core.html"
   ]
  },
  {
   "cell_type": "code",
   "execution_count": 19,
   "metadata": {},
   "outputs": [],
   "source": [
    "from astropy.cosmology import Planck15 as cosmo\n",
    "import astropy.units as u\n",
    "import astropy\n",
    "\n",
    "def LALprior_wt(z, chi_eff):\n",
    "    d_l = cosmo.luminosity_distance(z).to(u.Mpc).value\n",
    "    d_c = cosmo.comoving_distance(z).to(u.Mpc).value\n",
    "    h_z = cosmo.efunc(z) * cosmo.H(0).value\n",
    "    c = astropy.constants.c.to('km/s').value\n",
    "    weight = (1+z)**2 * d_l**2 * (d_c + (c * (1+z)) / h_z)\n",
    "    return weight * simulated_LAL_chi_prior(chi_eff)"
   ]
  },
  {
   "cell_type": "code",
   "execution_count": 20,
   "metadata": {},
   "outputs": [
    {
     "data": {
      "image/png": "[encoded data removed]",
      "text/plain": [
       "<Figure size 432x288 with 1 Axes>"
      ]
     },
     "metadata": {
      "needs_background": "light"
     },
     "output_type": "display_data"
    }
   ],
   "source": [
    "lal = LALprior_wt(4, simulated_LALprior_samples[\"chi_eff\"])\n",
    "plt.plot(simulated_LALprior_samples[\"chi_eff\"], lal, '.')\n",
    "plt.xlabel(\"$\\\\chi_{\\mathrm{eff}}$\")\n",
    "plt.ylabel(\"$PDF(LAL\\\\chi_{\\mathrm{eff}})$\")\n",
    "plt.show()"
   ]
  },
  {
   "cell_type": "markdown",
   "metadata": {},
   "source": [
    "Next we need $p$($\\chi_{\\mathrm{eff}, j} | \\mu, \\sigma^2 $) and reweight it with $p_{astro}$($m_{1,j}, m_{2,j}, z_j$)\n",
    "\n",
    "$$p_{astro}(m_1, m_2, z) \\propto \\frac{(1+z)^{1.7}}{m_1 (m_1 - M_{min})} \\frac{dV_c}{dz}$$\n",
    "\n",
    "To calculate $\\frac{dV_c}{dz}$ :  https://docs.astropy.org/en/stable/_modules/astropy/cosmology/core.html"
   ]
  },
  {
   "cell_type": "code",
   "execution_count": 21,
   "metadata": {},
   "outputs": [],
   "source": [
    "def astro_prior_wt(m1, z):\n",
    "    mmin = 5\n",
    "    dVc_dz = cosmo.differential_comoving_volume(z).to(u.Mpc**3/u.sr).value * 4 * pi\n",
    "    weight = (1+z)**1.7 / (m1 * (m1 - mmin)) * dVc_dz\n",
    "    return weight"
   ]
  },
  {
   "cell_type": "code",
   "execution_count": 22,
   "metadata": {},
   "outputs": [],
   "source": [
    "for posterior in posteriorsB:\n",
    "    posterior[\"LALprior\"] = LALprior_wt(posterior[\"redshift\"], posterior[\"chi_eff\"]) \n",
    "    posterior[\"astro_prior\"] = astro_prior_wt(posterior[\"mass_1\"], posterior[\"redshift\"])\n",
    "    posterior[\"prior\"] = posterior[\"astro_prior\"] / posterior[\"LALprior\"]"
   ]
  },
  {
   "cell_type": "code",
   "execution_count": 23,
   "metadata": {},
   "outputs": [
    {
     "data": {
      "text/html": [
       "<div>\n",
       "<style scoped>\n",
       "    .dataframe tbody tr th:only-of-type {\n",
       "        vertical-align: middle;\n",
       "    }\n",
       "\n",
       "    .dataframe tbody tr th {\n",
       "        vertical-align: top;\n",
       "    }\n",
       "\n",
       "    .dataframe thead th {\n",
       "        text-align: right;\n",
       "    }\n",
       "</style>\n",
       "<table border=\"1\" class=\"dataframe\">\n",
       "  <thead>\n",
       "    <tr style=\"text-align: right;\">\n",
       "      <th></th>\n",
       "      <th>mass_1_det</th>\n",
       "      <th>mass_2_det</th>\n",
       "      <th>luminosity_distance</th>\n",
       "      <th>a_1</th>\n",
       "      <th>a_2</th>\n",
       "      <th>cos_tilt_1</th>\n",
       "      <th>cos_tilt_2</th>\n",
       "      <th>redshift</th>\n",
       "      <th>mass_1</th>\n",
       "      <th>mass_2</th>\n",
       "      <th>mass_ratio</th>\n",
       "      <th>chi_eff</th>\n",
       "      <th>LALprior</th>\n",
       "      <th>astro_prior</th>\n",
       "      <th>prior</th>\n",
       "    </tr>\n",
       "  </thead>\n",
       "  <tbody>\n",
       "    <tr>\n",
       "      <th>0</th>\n",
       "      <td>40.823686</td>\n",
       "      <td>26.440697</td>\n",
       "      <td>429.439630</td>\n",
       "      <td>0.720602</td>\n",
       "      <td>0.536915</td>\n",
       "      <td>-0.591917</td>\n",
       "      <td>0.188768</td>\n",
       "      <td>0.090895</td>\n",
       "      <td>37.422188</td>\n",
       "      <td>24.237614</td>\n",
       "      <td>0.647680</td>\n",
       "      <td>-0.219031</td>\n",
       "      <td>1.090058e+09</td>\n",
       "      <td>7.880192e+06</td>\n",
       "      <td>0.007229</td>\n",
       "    </tr>\n",
       "    <tr>\n",
       "      <th>1</th>\n",
       "      <td>34.626875</td>\n",
       "      <td>34.212308</td>\n",
       "      <td>337.154490</td>\n",
       "      <td>0.238156</td>\n",
       "      <td>0.410068</td>\n",
       "      <td>-0.076179</td>\n",
       "      <td>-0.517005</td>\n",
       "      <td>0.072273</td>\n",
       "      <td>32.292953</td>\n",
       "      <td>31.906329</td>\n",
       "      <td>0.988028</td>\n",
       "      <td>-0.114491</td>\n",
       "      <td>9.455759e+08</td>\n",
       "      <td>6.784153e+06</td>\n",
       "      <td>0.007175</td>\n",
       "    </tr>\n",
       "    <tr>\n",
       "      <th>2</th>\n",
       "      <td>36.142271</td>\n",
       "      <td>33.174642</td>\n",
       "      <td>487.316326</td>\n",
       "      <td>0.297883</td>\n",
       "      <td>0.187064</td>\n",
       "      <td>-0.335351</td>\n",
       "      <td>-0.821574</td>\n",
       "      <td>0.102359</td>\n",
       "      <td>32.786286</td>\n",
       "      <td>30.094216</td>\n",
       "      <td>0.917890</td>\n",
       "      <td>-0.125640</td>\n",
       "      <td>2.090279e+09</td>\n",
       "      <td>1.339410e+07</td>\n",
       "      <td>0.006408</td>\n",
       "    </tr>\n",
       "    <tr>\n",
       "      <th>3</th>\n",
       "      <td>41.569619</td>\n",
       "      <td>31.876132</td>\n",
       "      <td>488.540224</td>\n",
       "      <td>0.347413</td>\n",
       "      <td>0.059700</td>\n",
       "      <td>0.109706</td>\n",
       "      <td>-0.500742</td>\n",
       "      <td>0.102600</td>\n",
       "      <td>37.701443</td>\n",
       "      <td>28.909964</td>\n",
       "      <td>0.766813</td>\n",
       "      <td>0.008597</td>\n",
       "      <td>2.647661e+09</td>\n",
       "      <td>9.945097e+06</td>\n",
       "      <td>0.003756</td>\n",
       "    </tr>\n",
       "    <tr>\n",
       "      <th>4</th>\n",
       "      <td>37.869125</td>\n",
       "      <td>33.759950</td>\n",
       "      <td>463.788715</td>\n",
       "      <td>0.147665</td>\n",
       "      <td>0.086681</td>\n",
       "      <td>-0.761297</td>\n",
       "      <td>0.988754</td>\n",
       "      <td>0.097718</td>\n",
       "      <td>34.498038</td>\n",
       "      <td>30.754659</td>\n",
       "      <td>0.891490</td>\n",
       "      <td>-0.019038</td>\n",
       "      <td>2.361129e+09</td>\n",
       "      <td>1.090043e+07</td>\n",
       "      <td>0.004617</td>\n",
       "    </tr>\n",
       "    <tr>\n",
       "      <th>...</th>\n",
       "      <td>...</td>\n",
       "      <td>...</td>\n",
       "      <td>...</td>\n",
       "      <td>...</td>\n",
       "      <td>...</td>\n",
       "      <td>...</td>\n",
       "      <td>...</td>\n",
       "      <td>...</td>\n",
       "      <td>...</td>\n",
       "      <td>...</td>\n",
       "      <td>...</td>\n",
       "      <td>...</td>\n",
       "      <td>...</td>\n",
       "      <td>...</td>\n",
       "      <td>...</td>\n",
       "    </tr>\n",
       "    <tr>\n",
       "      <th>8345</th>\n",
       "      <td>40.383795</td>\n",
       "      <td>31.959753</td>\n",
       "      <td>460.559361</td>\n",
       "      <td>0.088515</td>\n",
       "      <td>0.577331</td>\n",
       "      <td>0.870492</td>\n",
       "      <td>-0.264759</td>\n",
       "      <td>0.097079</td>\n",
       "      <td>36.810276</td>\n",
       "      <td>29.131669</td>\n",
       "      <td>0.791400</td>\n",
       "      <td>-0.024515</td>\n",
       "      <td>2.316641e+09</td>\n",
       "      <td>9.346400e+06</td>\n",
       "      <td>0.004034</td>\n",
       "    </tr>\n",
       "    <tr>\n",
       "      <th>8346</th>\n",
       "      <td>38.164225</td>\n",
       "      <td>35.639218</td>\n",
       "      <td>449.985818</td>\n",
       "      <td>0.122339</td>\n",
       "      <td>0.190940</td>\n",
       "      <td>0.783595</td>\n",
       "      <td>0.267030</td>\n",
       "      <td>0.094983</td>\n",
       "      <td>34.853703</td>\n",
       "      <td>32.547725</td>\n",
       "      <td>0.933838</td>\n",
       "      <td>0.074193</td>\n",
       "      <td>1.929859e+09</td>\n",
       "      <td>1.005704e+07</td>\n",
       "      <td>0.005211</td>\n",
       "    </tr>\n",
       "    <tr>\n",
       "      <th>8347</th>\n",
       "      <td>37.670359</td>\n",
       "      <td>34.004716</td>\n",
       "      <td>513.756334</td>\n",
       "      <td>0.439794</td>\n",
       "      <td>0.470269</td>\n",
       "      <td>-0.208949</td>\n",
       "      <td>0.113237</td>\n",
       "      <td>0.107545</td>\n",
       "      <td>34.012487</td>\n",
       "      <td>30.702786</td>\n",
       "      <td>0.902692</td>\n",
       "      <td>-0.023033</td>\n",
       "      <td>2.977712e+09</td>\n",
       "      <td>1.368816e+07</td>\n",
       "      <td>0.004597</td>\n",
       "    </tr>\n",
       "    <tr>\n",
       "      <th>8348</th>\n",
       "      <td>36.746741</td>\n",
       "      <td>35.672009</td>\n",
       "      <td>399.113830</td>\n",
       "      <td>0.163340</td>\n",
       "      <td>0.423884</td>\n",
       "      <td>0.160240</td>\n",
       "      <td>0.171165</td>\n",
       "      <td>0.084824</td>\n",
       "      <td>33.873472</td>\n",
       "      <td>32.882775</td>\n",
       "      <td>0.970753</td>\n",
       "      <td>0.049020</td>\n",
       "      <td>1.572236e+09</td>\n",
       "      <td>8.483864e+06</td>\n",
       "      <td>0.005396</td>\n",
       "    </tr>\n",
       "    <tr>\n",
       "      <th>8349</th>\n",
       "      <td>36.593879</td>\n",
       "      <td>35.531190</td>\n",
       "      <td>356.054689</td>\n",
       "      <td>0.269740</td>\n",
       "      <td>0.290810</td>\n",
       "      <td>0.706934</td>\n",
       "      <td>-0.714106</td>\n",
       "      <td>0.076123</td>\n",
       "      <td>34.005300</td>\n",
       "      <td>33.017783</td>\n",
       "      <td>0.970960</td>\n",
       "      <td>-0.005556</td>\n",
       "      <td>1.304925e+09</td>\n",
       "      <td>6.740721e+06</td>\n",
       "      <td>0.005166</td>\n",
       "    </tr>\n",
       "  </tbody>\n",
       "</table>\n",
       "<p>8350 rows × 15 columns</p>\n",
       "</div>"
      ],
      "text/plain": [
       "      mass_1_det  mass_2_det  luminosity_distance       a_1       a_2  \\\n",
       "0      40.823686   26.440697           429.439630  0.720602  0.536915   \n",
       "1      34.626875   34.212308           337.154490  0.238156  0.410068   \n",
       "2      36.142271   33.174642           487.316326  0.297883  0.187064   \n",
       "3      41.569619   31.876132           488.540224  0.347413  0.059700   \n",
       "4      37.869125   33.759950           463.788715  0.147665  0.086681   \n",
       "...          ...         ...                  ...       ...       ...   \n",
       "8345   40.383795   31.959753           460.559361  0.088515  0.577331   \n",
       "8346   38.164225   35.639218           449.985818  0.122339  0.190940   \n",
       "8347   37.670359   34.004716           513.756334  0.439794  0.470269   \n",
       "8348   36.746741   35.672009           399.113830  0.163340  0.423884   \n",
       "8349   36.593879   35.531190           356.054689  0.269740  0.290810   \n",
       "\n",
       "      cos_tilt_1  cos_tilt_2  redshift     mass_1     mass_2  mass_ratio  \\\n",
       "0      -0.591917    0.188768  0.090895  37.422188  24.237614    0.647680   \n",
       "1      -0.076179   -0.517005  0.072273  32.292953  31.906329    0.988028   \n",
       "2      -0.335351   -0.821574  0.102359  32.786286  30.094216    0.917890   \n",
       "3       0.109706   -0.500742  0.102600  37.701443  28.909964    0.766813   \n",
       "4      -0.761297    0.988754  0.097718  34.498038  30.754659    0.891490   \n",
       "...          ...         ...       ...        ...        ...         ...   \n",
       "8345    0.870492   -0.264759  0.097079  36.810276  29.131669    0.791400   \n",
       "8346    0.783595    0.267030  0.094983  34.853703  32.547725    0.933838   \n",
       "8347   -0.208949    0.113237  0.107545  34.012487  30.702786    0.902692   \n",
       "8348    0.160240    0.171165  0.084824  33.873472  32.882775    0.970753   \n",
       "8349    0.706934   -0.714106  0.076123  34.005300  33.017783    0.970960   \n",
       "\n",
       "       chi_eff      LALprior   astro_prior     prior  \n",
       "0    -0.219031  1.090058e+09  7.880192e+06  0.007229  \n",
       "1    -0.114491  9.455759e+08  6.784153e+06  0.007175  \n",
       "2    -0.125640  2.090279e+09  1.339410e+07  0.006408  \n",
       "3     0.008597  2.647661e+09  9.945097e+06  0.003756  \n",
       "4    -0.019038  2.361129e+09  1.090043e+07  0.004617  \n",
       "...        ...           ...           ...       ...  \n",
       "8345 -0.024515  2.316641e+09  9.346400e+06  0.004034  \n",
       "8346  0.074193  1.929859e+09  1.005704e+07  0.005211  \n",
       "8347 -0.023033  2.977712e+09  1.368816e+07  0.004597  \n",
       "8348  0.049020  1.572236e+09  8.483864e+06  0.005396  \n",
       "8349 -0.005556  1.304925e+09  6.740721e+06  0.005166  \n",
       "\n",
       "[8350 rows x 15 columns]"
      ]
     },
     "execution_count": 23,
     "metadata": {},
     "output_type": "execute_result"
    }
   ],
   "source": [
    "posteriorsB[0]"
   ]
  },
  {
   "cell_type": "code",
   "execution_count": 24,
   "metadata": {},
   "outputs": [
    {
     "data": {
      "text/plain": [
       "<AxesSubplot:xlabel='prior'>"
      ]
     },
     "execution_count": 24,
     "metadata": {},
     "output_type": "execute_result"
    },
    {
     "data": {
      "image/png": "[encoded data removed]",
      "text/plain": [
       "<Figure size 432x288 with 1 Axes>"
      ]
     },
     "metadata": {
      "needs_background": "light"
     },
     "output_type": "display_data"
    }
   ],
   "source": [
    "sns.distplot(posteriorsB[0][\"prior\"], bins = 50)"
   ]
  },
  {
   "cell_type": "markdown",
   "metadata": {},
   "source": [
    "## Hyper-prior model\n",
    "\n",
    "### $\\chi_{\\mathrm{eff}}$ \n",
    "\n",
    "Effective spins are drawn from a simple truncated Gaussian."
   ]
  },
  {
   "cell_type": "code",
   "execution_count": 25,
   "metadata": {},
   "outputs": [],
   "source": [
    "# from scipy.special import erf\n",
    "\n",
    "# def truncated_gaussian(dataset, mu, var):\n",
    "#     norm = (2/(xp.pi*var))**0.5 * (erf((1-mu)/(2*var)**0.5) + erf((1+mu)/(2*var)**0.5))**(-1)\n",
    "#     prob = xp.exp(-(dataset['chi_eff'] - mu)**2 / (2 * var))\n",
    "#     return norm*prob"
   ]
  },
  {
   "cell_type": "code",
   "execution_count": 85,
   "metadata": {},
   "outputs": [],
   "source": [
    "def modelB(dataset, mu, sigma):\n",
    "    \n",
    "    # Truncated Gaussian for chi_eff\n",
    "    prob1 = gwpop.utils.truncnorm(dataset['chi_eff'], mu = mu_eff, sigma = sigma_eff, low = -1, high = 1)\n",
    "    \n",
    "    # Truncated Gaussian for chi_p\n",
    "    prob2 = gwpop.utils.truncnorm(dataset['chi_p'], mu = mu_p, sigma = sigma_p, low = 0, high = 1)\n",
    "    prob = prob1 * prob2\n",
    "    \n",
    "    # covariance matrix\n",
    "    \n",
    "    \n",
    "    return prob"
   ]
  },
  {
   "cell_type": "code",
   "execution_count": null,
   "metadata": {},
   "outputs": [],
   "source": [
    "def convert_to_bivariate_gaussian():\n",
    "    # covariance matrix\n",
    "    "
   ]
  },
  {
   "cell_type": "code",
   "execution_count": 33,
   "metadata": {},
   "outputs": [],
   "source": [
    "chieff_prior = PriorDict(dict(\n",
    "    mu_eff = Uniform(minimum = -1, maximum = 1, latex_label ='$\\\\mu_{\\mathrm{eff}}$'),\n",
    "    sigma_eff = Uniform(minimum = 0.05, maximum = 1, latex_label ='$\\\\sigma_{\\mathrm{eff}}$'),\n",
    "    mu_p = Uniform(minimum = 0, maximum = 1, latex_label ='$\\\\mu_{p}$'),\n",
    "    sigma_p = Uniform(minimum = 0.05, maximum = 1, latex_label ='$\\\\sigma_{p}$'),\n",
    "    rho = Uniform(minimum = -0.9, maximum = 0.9, latex_label ='$\\\\rho$')))"
   ]
  },
  {
   "cell_type": "code",
   "execution_count": 34,
   "metadata": {},
   "outputs": [],
   "source": [
    "likelihoodB = gwpop.hyperpe.HyperparameterLikelihood(posteriors = posteriorsB, \n",
    "                                                     hyper_prior = truncated_gaussian)"
   ]
  },
  {
   "cell_type": "code",
   "execution_count": 51,
   "metadata": {
    "scrolled": false
   },
   "outputs": [
    {
     "name": "stderr",
     "output_type": "stream",
     "text": [
      "12:09 bilby INFO    : Running for label 'e1', output will be saved to 'e1'\n",
      "12:09 bilby INFO    : Search parameters:\n",
      "12:09 bilby INFO    :   mu = Uniform(minimum=-1, maximum=1, name=None, latex_label='$\\\\mu_{chi}$', unit=None, boundary=None)\n",
      "12:09 bilby INFO    :   var = Uniform(minimum=0, maximum=1, name=None, latex_label='$\\\\sigma_{chi}^2$', unit=None, boundary=None)\n",
      "12:09 bilby INFO    : Single likelihood evaluation took 1.415e-03 s\n",
      "12:09 bilby WARNING : Supplied argument 'npool' not an argument of 'Emcee', removing.\n",
      "12:09 bilby INFO    : Using sampler Emcee with kwargs {'nwalkers': 500, 'a': 2, 'args': [], 'kwargs': {}, 'postargs': None, 'pool': None, 'live_dangerously': False, 'runtime_sortingfn': None, 'lnprob0': None, 'rstate0': None, 'blobs0': None, 'iterations': 1000, 'thin': 1, 'storechain': True, 'mh_proposal': None}\n",
      "100%|██████████| 1000/1000 [15:16<00:00,  1.09it/s]\n",
      "12:24 bilby INFO    : Checkpointing sampler to file e1/emcee_e1/sampler.pickle\n",
      "12:24 bilby INFO    : Max autocorr time = 44\n",
      "12:24 bilby INFO    : Discarding 100 steps for burn-in\n",
      "12:24 bilby INFO    : Sampling time: 0:15:17.575624\n",
      "12:25 bilby INFO    : Summary of results:\n",
      "nsamples: 450000\n",
      "ln_noise_evidence:    nan\n",
      "ln_evidence:    nan +/-    nan\n",
      "ln_bayes_factor:    nan +/-    nan\n",
      "\n"
     ]
    }
   ],
   "source": [
    "likelihoodB.parameters.update(chieff_prior.sample())\n",
    "# likelihoodB.log_likelihood_ratio()\n",
    "\n",
    "resultB = bilby.run_sampler(likelihood = likelihoodB, priors = chieff_prior, sampler='emcee', nwalkers = 500, \n",
    "                            nsteps = 1000, nburn = 100, label = 'e1', outdir = 'e1', clean = True)"
   ]
  },
  {
   "cell_type": "code",
   "execution_count": 52,
   "metadata": {},
   "outputs": [
    {
     "data": {
      "image/png": "[encoded data removed]",
      "text/plain": [
       "<Figure size 396x396 with 4 Axes>"
      ]
     },
     "execution_count": 52,
     "metadata": {},
     "output_type": "execute_result"
    }
   ],
   "source": [
    "resultB.plot_corner(color='g', range = [(-0.2,0.3), (0, 0.05)])"
   ]
  },
  {
   "cell_type": "code",
   "execution_count": null,
   "metadata": {},
   "outputs": [],
   "source": [
    "resultB = "
   ]
  },
  {
   "cell_type": "markdown",
   "metadata": {},
   "source": [
    "### Sampling effective precession spin ($\\chi_{\\mathrm{p}}$) by parameter estimation\n",
    "\n",
    "$$\\chi_{\\mathrm{p}} = max \\bigg[a_1sin\\theta_1 , \\bigg(\\frac{4q + 3}{4 + 3q}\\bigg)q a_2sin\\theta_2\\bigg]$$\n",
    "\n",
    "For each gravitational wave we obtain a set of discrete samples p($\\chi_{\\mathrm{eff}}$|data) (given by `posterior['chieff']` here)\n",
    "\n",
    "Effective spins are drawn from a simple truncated Gaussian."
   ]
  },
  {
   "cell_type": "code",
   "execution_count": null,
   "metadata": {},
   "outputs": [],
   "source": []
  },
  {
   "cell_type": "code",
   "execution_count": null,
   "metadata": {},
   "outputs": [],
   "source": [
    "for posterior in posteriorsB:\n",
    "    posterior['chi_p'] = chiP(posterior['a_1'], posterior['a_2'],\n",
    "                              posterior['mass_ratio'], posterior['cos_tilt_1'], posterior['cos_tilt_2'])"
   ]
  },
  {
   "cell_type": "code",
   "execution_count": null,
   "metadata": {},
   "outputs": [],
   "source": []
  },
  {
   "cell_type": "code",
   "execution_count": null,
   "metadata": {},
   "outputs": [],
   "source": []
  },
  {
   "cell_type": "code",
   "execution_count": null,
   "metadata": {},
   "outputs": [],
   "source": []
  },
  {
   "cell_type": "code",
   "execution_count": null,
   "metadata": {},
   "outputs": [],
   "source": []
  },
  {
   "cell_type": "markdown",
   "metadata": {},
   "source": [
    "###  IGNORE THIS --- Joint mass and redshift model:\n",
    "\n",
    "$$p_{astro}(m_1, m_2, z) \\propto \\frac{(1+z)^{1.7}}{m_1(m_1 - M_{min})} \\frac{dV_c}{dz}$$\n",
    "\n",
    "where $m_1$ and $m_2$ are source frame masses.\n",
    "\n",
    "As a first step, we assume that the underlying mass distribution does not vary across cosmic time, so that we can factor the joint mass-redshift distribution as:\n",
    "\n",
    "$$p(m_1, m_2, z) = p(m_1, m_2) p(z)$$\n",
    "\n",
    "This assumption may break down over a large range of redshifts, as many formation scenarios predict some dependence of the mass distribution on the merger redshift. However, LIGO is only sensitive to redshifts z <~ 1.5, for which this is a good approximation. \n",
    "\n",
    "<br>\n",
    "\n",
    "<font color = 'green'>\n",
    "I am highly skeptical about my implementation of the mass model. Please suggest corrections. Note that this model does not impose a maximum mass cutoff.\n",
    "</font>\n",
    "\n",
    "This is the model given in gwpop.models.redshift:\n",
    "\n",
    "$$p(z|\\gamma, \\kappa, z_p) \\propto \\frac{1}{1 + z}\\frac{dV_c}{dz} \\psi(z|\\gamma, \\kappa, z_p)$$\n",
    "\n",
    "$$\\psi(z|\\gamma, \\kappa, z_p) = \\frac{(1 + z)^\\gamma}{1 + (\\frac{1 + z}{1 + z_p})^\\kappa}$$\n",
    "\n",
    "However, I rewrote its simplified version here, (to account for f(z) as in https://arxiv.org/pdf/1805.10270.pdf (9))"
   ]
  }
 ],
 "metadata": {
  "kernelspec": {
   "display_name": "Python 3",
   "language": "python",
   "name": "python3"
  },
  "language_info": {
   "codemirror_mode": {
    "name": "ipython",
    "version": 3
   },
   "file_extension": ".py",
   "mimetype": "text/x-python",
   "name": "python",
   "nbconvert_exporter": "python",
   "pygments_lexer": "ipython3",
   "version": "3.8.5"
  }
 },
 "nbformat": 4,
 "nbformat_minor": 4
}
