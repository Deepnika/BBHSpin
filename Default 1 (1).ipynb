{
 "cells": [
  {
   "cell_type": "code",
   "execution_count": 1,
   "metadata": {},
   "outputs": [
    {
     "name": "stdout",
     "output_type": "stream",
     "text": [
      "Populating the interactive namespace from numpy and matplotlib\n"
     ]
    }
   ],
   "source": [
    "import bilby\n",
    "import gwpopulation as gwpop\n",
    "import numpy as np\n",
    "import matplotlib.pyplot as plt\n",
    "import h5py\n",
    "import pandas as pd\n",
    "import corner\n",
    "\n",
    "from astropy import cosmology, units\n",
    "from scipy.interpolate import interp1d\n",
    "\n",
    "from bilby.core.prior import Uniform, LogUniform, PriorDict, Constraint\n",
    "from gwpopulation.models import mass, spin\n",
    "\n",
    "xp = gwpop.cupy_utils.xp\n",
    "\n",
    "%pylab inline"
   ]
  },
  {
   "cell_type": "code",
   "execution_count": 2,
   "metadata": {},
   "outputs": [
    {
     "name": "stdout",
     "output_type": "stream",
     "text": [
      "<module 'cupy' from '/home/deepnika.jain/anaconda3/envs/gwspin/lib/python3.8/site-packages/cupy/__init__.py'>\n"
     ]
    }
   ],
   "source": [
    "print(xp)"
   ]
  },
  {
   "cell_type": "code",
   "execution_count": 3,
   "metadata": {},
   "outputs": [],
   "source": [
    "parameter_translator = dict(\n",
    "    mass_1_det = 'm1_detector_frame_Msun',\n",
    "    mass_2_det = 'm2_detector_frame_Msun',\n",
    "    luminosity_distance = 'luminosity_distance_Mpc',\n",
    "    a_1 = 'spin1',\n",
    "    a_2 = 'spin2',\n",
    "    cos_tilt_1 = 'costilt1',\n",
    "    cos_tilt_2 = 'costilt2')"
   ]
  },
  {
   "cell_type": "code",
   "execution_count": 4,
   "metadata": {},
   "outputs": [],
   "source": [
    "posteriors = list()\n",
    "\n",
    "file = 'GWTC-1_sample_release/GW{}_GWTC-1.hdf5'\n",
    "\n",
    "events = ['150914', '151012', '151226', '170104', '170608', '170729', '170809', '170814', \n",
    "          '170818', '170823']\n",
    "\n",
    "for event in events:\n",
    "    _posterior = pd.DataFrame()\n",
    "    with h5py.File(file.format(event), 'r') as ff:\n",
    "        for my_key, gwtc_key in parameter_translator.items():\n",
    "            _posterior[my_key] = ff['IMRPhenomPv2_posterior'][gwtc_key]\n",
    "    posteriors.append(_posterior)"
   ]
  },
  {
   "cell_type": "code",
   "execution_count": 5,
   "metadata": {},
   "outputs": [],
   "source": [
    "luminosity_distances = np.linspace(1, 10000, 1000)\n",
    "redshifts = np.array([cosmology.z_at_value(cosmology.Planck15.luminosity_distance, \n",
    "                                                   dl * units.Mpc) for dl in luminosity_distances])\n",
    "dl_to_z = interp1d(luminosity_distances, redshifts)"
   ]
  },
  {
   "cell_type": "code",
   "execution_count": 6,
   "metadata": {},
   "outputs": [],
   "source": [
    "for posterior in posteriors:\n",
    "    posterior['redshift'] = dl_to_z(posterior['luminosity_distance'])\n",
    "    posterior['mass_1'] = posterior['mass_1_det'] / (1 + posterior['redshift'])\n",
    "    posterior['mass_2'] = posterior['mass_2_det'] / (1 + posterior['redshift'])\n",
    "    posterior['mass_ratio'] = posterior['mass_2'] / posterior['mass_1']"
   ]
  },
  {
   "cell_type": "code",
   "execution_count": 7,
   "metadata": {},
   "outputs": [],
   "source": [
    "modelA = bilby.hyper.model.Model([mass.SinglePeakSmoothedMassDistribution(),\n",
    "                                  spin.independent_spin_magnitude_beta])"
   ]
  },
  {
   "cell_type": "markdown",
   "metadata": {},
   "source": [
    "### Default Model Parameters \n",
    "\n",
    "| $\\alpha$ | $m_{max}$ | $m_{min}$ | $\\beta_q$ | $\\lambda_m$ | $\\mu_m$ | $\\sigma_m$ | $\\delta_m$ | E[a] | Var[a] |   $\\chi$ | $\\sigma_a$ | \n",
    "|----------|-----------|-----------|-----------|-------------|---------|------------|------------|------|-------|----------|------------|\n",
    "| [-4, 12] | [30, 100] | [5, 10] | [-4, 12] | [0, 1] | [20, 50] | (0, 10] | [0, 10] | [0, 1] | [0, 0.25] | [0, 1] | [0, 4] |"
   ]
  },
  {
   "cell_type": "code",
   "execution_count": 8,
   "metadata": {},
   "outputs": [],
   "source": [
    "from gwpopulation.conversions import convert_to_beta_parameters\n",
    "\n",
    "def prior_conversion(parameters):\n",
    "    parameters = parameters.copy()\n",
    "    \"\"\"Wrapper around conversion for prior constraints\"\"\"\n",
    "    for key in [\"amax_1\", \"amax_2\"]:\n",
    "        if key not in parameters:\n",
    "            parameters[key] = 1\n",
    "    parameters, _ = convert_to_beta_parameters(parameters)\n",
    "    return parameters"
   ]
  },
  {
   "cell_type": "code",
   "execution_count": 9,
   "metadata": {},
   "outputs": [],
   "source": [
    "priorsA = PriorDict(conversion_function = prior_conversion)\n",
    "          \n",
    "# mass\n",
    "priorsA[\"alpha\"] = Uniform(minimum = -4, maximum = 12, latex_label = \"$\\\\alpha$\")\n",
    "priorsA[\"beta\"] = Uniform(minimum = -4, maximum = 12, latex_label = \"$\\\\beta$\")\n",
    "priorsA[\"mmin\"] = Uniform(minimum = 5, maximum = 10, latex_label = \"$M_{min}$\")\n",
    "priorsA[\"mmax\"] = Uniform(minimum = 30, maximum = 100, latex_label = \"$M_{max}$\")\n",
    "priorsA[\"lam\"] = Uniform(minimum = 0, maximum = 1, latex_label = \"$\\\\lambda$\")\n",
    "priorsA[\"mpp\"] = Uniform(minimum=20, maximum=50, latex_label='$\\\\mu_{m}$')\n",
    "priorsA[\"sigpp\"] = Uniform(minimum=0, maximum=10, latex_label='$\\\\sigma_{m}$') # sigpp != 0\n",
    "priorsA[\"delta_m\"] = Uniform(minimum=0, maximum=10, latex_label='$\\\\delta_{m}$') \n",
    "\n",
    "# spin magnitude \n",
    "priorsA[\"amax_1\"] = 1\n",
    "priorsA[\"amax_2\"] = 1\n",
    "priorsA[\"mu_chi_1\"] = Uniform(minimum=0, maximum=1, latex_label = '$\\\\mu_{\\\\chi_1}$')\n",
    "priorsA[\"mu_chi_2\"] = Uniform(minimum=0, maximum=1, latex_label = '$\\\\mu_{\\\\chi_2}$')\n",
    "priorsA[\"sigma_chi_1\"] = Uniform(minimum=0, maximum=0.5, latex_label = '$\\\\sigma_{\\\\chi_1}$')\n",
    "priorsA[\"sigma_chi_2\"] = Uniform(minimum=0, maximum=0.5, latex_label = '$\\\\sigma_{\\\\chi_2}$')\n",
    "\n",
    "# spin orientation\n",
    "priorsA[\"xi_spin\"] = Uniform(minimum=0, maximum=1, latex_label='$\\\\xi$')\n",
    "priorsA[\"sigma_1\"] = Uniform(minimum=0, maximum=4, latex_label='$\\\\sigma{1}$')\n",
    "priorsA[\"sigma_2\"] = Uniform(minimum=0, maximum=4, latex_label='$\\\\sigma{2}$')"
   ]
  },
  {
   "cell_type": "code",
   "execution_count": 10,
   "metadata": {},
   "outputs": [
    {
     "name": "stderr",
     "output_type": "stream",
     "text": [
      "18:17 bilby INFO    : No prior values provided, defaulting to 1.\n"
     ]
    }
   ],
   "source": [
    "likelihoodA = gwpop.hyperpe.HyperparameterLikelihood(posteriors=posteriors, \n",
    "                                                     hyper_prior=modelA,\n",
    "                                                     conversion_function = convert_to_beta_parameters)"
   ]
  },
  {
   "cell_type": "code",
   "execution_count": 11,
   "metadata": {},
   "outputs": [
    {
     "data": {
      "text/plain": [
       "-1.7976931348623157e+308"
      ]
     },
     "execution_count": 11,
     "metadata": {},
     "output_type": "execute_result"
    }
   ],
   "source": [
    "likelihoodA.parameters.update(priorsA.sample())\n",
    "likelihoodA.log_likelihood_ratio()"
   ]
  },
  {
   "cell_type": "code",
   "execution_count": null,
   "metadata": {
    "scrolled": false
   },
   "outputs": [
    {
     "name": "stderr",
     "output_type": "stream",
     "text": [
      "18:17 bilby INFO    : Running for label 'd1', output will be saved to 'd1'\n",
      "18:17 bilby INFO    : Search parameters:\n",
      "18:17 bilby INFO    :   alpha = Uniform(minimum=-4, maximum=12, name=None, latex_label='$\\\\alpha$', unit=None, boundary=None)\n",
      "18:17 bilby INFO    :   beta = Uniform(minimum=-4, maximum=12, name=None, latex_label='$\\\\beta$', unit=None, boundary=None)\n",
      "18:17 bilby INFO    :   mmin = Uniform(minimum=5, maximum=10, name=None, latex_label='$M_{min}$', unit=None, boundary=None)\n",
      "18:17 bilby INFO    :   mmax = Uniform(minimum=30, maximum=100, name=None, latex_label='$M_{max}$', unit=None, boundary=None)\n",
      "18:17 bilby INFO    :   lam = Uniform(minimum=0, maximum=1, name=None, latex_label='$\\\\lambda$', unit=None, boundary=None)\n",
      "18:17 bilby INFO    :   mpp = Uniform(minimum=20, maximum=50, name=None, latex_label='$\\\\mu_{m}$', unit=None, boundary=None)\n",
      "18:17 bilby INFO    :   sigpp = Uniform(minimum=0, maximum=10, name=None, latex_label='$\\\\sigma_{m}$', unit=None, boundary=None)\n",
      "18:17 bilby INFO    :   delta_m = Uniform(minimum=0, maximum=10, name=None, latex_label='$\\\\delta_{m}$', unit=None, boundary=None)\n",
      "18:17 bilby INFO    :   mu_chi_1 = Uniform(minimum=0, maximum=1, name=None, latex_label='$\\\\mu_{\\\\chi_1}$', unit=None, boundary=None)\n",
      "18:17 bilby INFO    :   mu_chi_2 = Uniform(minimum=0, maximum=1, name=None, latex_label='$\\\\mu_{\\\\chi_2}$', unit=None, boundary=None)\n",
      "18:17 bilby INFO    :   sigma_chi_1 = Uniform(minimum=0, maximum=0.5, name=None, latex_label='$\\\\sigma_{\\\\chi_1}$', unit=None, boundary=None)\n",
      "18:17 bilby INFO    :   sigma_chi_2 = Uniform(minimum=0, maximum=0.5, name=None, latex_label='$\\\\sigma_{\\\\chi_2}$', unit=None, boundary=None)\n",
      "18:17 bilby INFO    :   xi_spin = Uniform(minimum=0, maximum=1, name=None, latex_label='$\\\\xi$', unit=None, boundary=None)\n",
      "18:17 bilby INFO    :   sigma_1 = Uniform(minimum=0, maximum=4, name=None, latex_label='$\\\\sigma{1}$', unit=None, boundary=None)\n",
      "18:17 bilby INFO    :   sigma_2 = Uniform(minimum=0, maximum=4, name=None, latex_label='$\\\\sigma{2}$', unit=None, boundary=None)\n",
      "18:17 bilby INFO    :   amax_1 = 1\n",
      "18:17 bilby INFO    :   amax_2 = 1\n",
      "18:17 bilby INFO    : Single likelihood evaluation took 1.620e-02 s\n"
     ]
    },
    {
     "name": "stdout",
     "output_type": "stream",
     "text": [
      "0it [00:00, ?it/s]"
     ]
    },
    {
     "name": "stderr",
     "output_type": "stream",
     "text": [
      "18:17 bilby INFO    : Using sampler Dynesty with kwargs {'bound': 'multi', 'sample': 'rwalk', 'verbose': True, 'periodic': None, 'reflective': None, 'check_point_delta_t': 600, 'nlive': 200, 'first_update': None, 'walks': 10, 'npdim': None, 'rstate': None, 'queue_size': 1, 'pool': None, 'use_pool': None, 'live_points': None, 'logl_args': None, 'logl_kwargs': None, 'ptform_args': None, 'ptform_kwargs': None, 'enlarge': 1.5, 'bootstrap': None, 'vol_dec': 0.5, 'vol_check': 8.0, 'facc': 0.2, 'slices': 5, 'update_interval': 120, 'print_func': <bound method Dynesty._print_func of <bilby.core.sampler.dynesty.Dynesty object at 0x7fa79d1539d0>>, 'dlogz': 0.1, 'maxiter': None, 'maxcall': None, 'logl_max': inf, 'add_live': True, 'print_progress': True, 'save_bounds': False, 'n_effective': None, 'maxmcmc': 5000, 'nact': 5}\n",
      "18:17 bilby INFO    : Checkpoint every check_point_delta_t = 600s\n",
      "18:17 bilby INFO    : Using dynesty version 1.0.1\n",
      "18:17 bilby INFO    : Generating initial points from the prior\n",
      "18:18 bilby INFO    : Using the bilby-implemented rwalk sample method with ACT estimated walks\n"
     ]
    },
    {
     "name": "stdout",
     "output_type": "stream",
     "text": [
      "81it [01:53,  2.41s/it, bound:7 nc: 11 ncall:1.2e+03 eff:6.7% logz-ratio=-67.93+/-0.17 dlogz:35.743>0.1] "
     ]
    },
    {
     "name": "stderr",
     "output_type": "stream",
     "text": [
      "18:19 bilby INFO    : Written checkpoint file d1/d1_resume.pickle\n"
     ]
    },
    {
     "name": "stdout",
     "output_type": "stream",
     "text": [
      "216it [12:23,  7.41s/it, bound:70 nc:326 ncall:1.3e+04 eff:1.7% logz-ratio=-53.34+/-0.17 dlogz:22.656>0.1]"
     ]
    },
    {
     "name": "stderr",
     "output_type": "stream",
     "text": [
      "18:30 bilby INFO    : Written checkpoint file d1/d1_resume.pickle\n"
     ]
    },
    {
     "name": "stdout",
     "output_type": "stream",
     "text": [
      "294it [22:25,  9.56s/it, bound:138 nc:227 ncall:3.4e+04 eff:0.9% logz-ratio=-48.67+/-0.17 dlogz:17.532>0.1]"
     ]
    },
    {
     "name": "stderr",
     "output_type": "stream",
     "text": [
      "18:40 bilby INFO    : Written checkpoint file d1/d1_resume.pickle\n"
     ]
    },
    {
     "name": "stdout",
     "output_type": "stream",
     "text": [
      "354it [32:32, 15.01s/it, bound:198 nc:780 ncall:5.9e+04 eff:0.6% logz-ratio=-45.97+/-0.17 dlogz:14.522>0.1] "
     ]
    },
    {
     "name": "stderr",
     "output_type": "stream",
     "text": [
      "18:50 bilby INFO    : Written checkpoint file d1/d1_resume.pickle\n"
     ]
    },
    {
     "name": "stdout",
     "output_type": "stream",
     "text": [
      "402it [42:41, 18.57s/it, bound:246 nc:982 ncall:8.6e+04 eff:0.5% logz-ratio=-44.53+/-0.16 dlogz:14.554>0.1] "
     ]
    },
    {
     "name": "stderr",
     "output_type": "stream",
     "text": [
      "19:00 bilby INFO    : Written checkpoint file d1/d1_resume.pickle\n"
     ]
    },
    {
     "name": "stdout",
     "output_type": "stream",
     "text": [
      "436it [52:58, 21.15s/it, bound:280 nc:1104 ncall:1.2e+05 eff:0.4% logz-ratio=-43.55+/-0.17 dlogz:13.405>0.1]"
     ]
    },
    {
     "name": "stderr",
     "output_type": "stream",
     "text": [
      "19:10 bilby INFO    : Written checkpoint file d1/d1_resume.pickle\n"
     ]
    },
    {
     "name": "stdout",
     "output_type": "stream",
     "text": [
      "463it [1:03:01, 22.36s/it, bound:307 nc:1123 ncall:1.5e+05 eff:0.3% logz-ratio=-42.78+/-0.17 dlogz:12.495>0.1]"
     ]
    },
    {
     "name": "stderr",
     "output_type": "stream",
     "text": [
      "19:20 bilby INFO    : Written checkpoint file d1/d1_resume.pickle\n"
     ]
    },
    {
     "name": "stdout",
     "output_type": "stream",
     "text": [
      "491it [1:13:14, 23.66s/it, bound:335 nc:1484 ncall:1.8e+05 eff:0.3% logz-ratio=-42.14+/-0.17 dlogz:11.713>0.1]"
     ]
    },
    {
     "name": "stderr",
     "output_type": "stream",
     "text": [
      "19:30 bilby INFO    : Written checkpoint file d1/d1_resume.pickle\n"
     ]
    },
    {
     "name": "stdout",
     "output_type": "stream",
     "text": [
      "520it [1:23:27, 22.03s/it, bound:364 nc:1167 ncall:2.1e+05 eff:0.3% logz-ratio=-41.53+/-0.17 dlogz:10.960>0.1]"
     ]
    },
    {
     "name": "stderr",
     "output_type": "stream",
     "text": [
      "19:41 bilby INFO    : Written checkpoint file d1/d1_resume.pickle\n"
     ]
    },
    {
     "name": "stdout",
     "output_type": "stream",
     "text": [
      "544it [1:33:45, 23.61s/it, bound:388 nc:1097 ncall:2.4e+05 eff:0.2% logz-ratio=-41.11+/-0.17 dlogz:10.411>0.1]"
     ]
    },
    {
     "name": "stderr",
     "output_type": "stream",
     "text": [
      "19:51 bilby INFO    : Written checkpoint file d1/d1_resume.pickle\n"
     ]
    },
    {
     "name": "stdout",
     "output_type": "stream",
     "text": [
      "568it [1:44:10, 26.76s/it, bound:412 nc:1535 ncall:2.7e+05 eff:0.2% logz-ratio=-40.76+/-0.17 dlogz:9.936>0.1] "
     ]
    },
    {
     "name": "stderr",
     "output_type": "stream",
     "text": [
      "20:01 bilby INFO    : Written checkpoint file d1/d1_resume.pickle\n"
     ]
    },
    {
     "name": "stdout",
     "output_type": "stream",
     "text": [
      "589it [1:54:11, 28.83s/it, bound:433 nc:1680 ncall:3.0e+05 eff:0.2% logz-ratio=-40.46+/-0.17 dlogz:9.533>0.1]"
     ]
    },
    {
     "name": "stderr",
     "output_type": "stream",
     "text": [
      "20:11 bilby INFO    : Written checkpoint file d1/d1_resume.pickle\n"
     ]
    },
    {
     "name": "stdout",
     "output_type": "stream",
     "text": [
      "610it [2:04:28, 27.69s/it, bound:454 nc:1441 ncall:3.3e+05 eff:0.2% logz-ratio=-40.20+/-0.17 dlogz:9.164>0.1]"
     ]
    },
    {
     "name": "stderr",
     "output_type": "stream",
     "text": [
      "20:22 bilby INFO    : Written checkpoint file d1/d1_resume.pickle\n"
     ]
    },
    {
     "name": "stdout",
     "output_type": "stream",
     "text": [
      "631it [2:14:46, 29.72s/it, bound:475 nc:1649 ncall:3.6e+05 eff:0.2% logz-ratio=-39.94+/-0.17 dlogz:8.802>0.1]"
     ]
    },
    {
     "name": "stderr",
     "output_type": "stream",
     "text": [
      "20:32 bilby INFO    : Written checkpoint file d1/d1_resume.pickle\n"
     ]
    },
    {
     "name": "stdout",
     "output_type": "stream",
     "text": [
      "650it [2:25:18, 34.19s/it, bound:494 nc:2128 ncall:4.0e+05 eff:0.2% logz-ratio=-39.71+/-0.17 dlogz:8.478>0.1]"
     ]
    },
    {
     "name": "stderr",
     "output_type": "stream",
     "text": [
      "20:43 bilby INFO    : Written checkpoint file d1/d1_resume.pickle\n"
     ]
    },
    {
     "name": "stdout",
     "output_type": "stream",
     "text": [
      "669it [2:35:27, 33.35s/it, bound:513 nc:2217 ncall:4.3e+05 eff:0.2% logz-ratio=-39.50+/-0.17 dlogz:8.175>0.1]"
     ]
    },
    {
     "name": "stderr",
     "output_type": "stream",
     "text": [
      "20:53 bilby INFO    : Written checkpoint file d1/d1_resume.pickle\n"
     ]
    },
    {
     "name": "stdout",
     "output_type": "stream",
     "text": [
      "691it [2:45:44, 27.87s/it, bound:535 nc:1389 ncall:4.6e+05 eff:0.2% logz-ratio=-39.26+/-0.17 dlogz:7.822>0.1]"
     ]
    },
    {
     "name": "stderr",
     "output_type": "stream",
     "text": [
      "21:03 bilby INFO    : Written checkpoint file d1/d1_resume.pickle\n"
     ]
    },
    {
     "name": "stdout",
     "output_type": "stream",
     "text": [
      "711it [2:55:45, 35.11s/it, bound:555 nc:1424 ncall:4.9e+05 eff:0.1% logz-ratio=-39.04+/-0.18 dlogz:7.506>0.1]"
     ]
    },
    {
     "name": "stderr",
     "output_type": "stream",
     "text": [
      "21:13 bilby INFO    : Written checkpoint file d1/d1_resume.pickle\n"
     ]
    },
    {
     "name": "stdout",
     "output_type": "stream",
     "text": [
      "731it [3:05:51, 30.61s/it, bound:575 nc:1689 ncall:5.2e+05 eff:0.1% logz-ratio=-38.85+/-0.18 dlogz:7.211>0.1]"
     ]
    },
    {
     "name": "stderr",
     "output_type": "stream",
     "text": [
      "21:23 bilby INFO    : Written checkpoint file d1/d1_resume.pickle\n"
     ]
    },
    {
     "name": "stdout",
     "output_type": "stream",
     "text": [
      "752it [3:16:16, 33.91s/it, bound:596 nc:1997 ncall:5.5e+05 eff:0.1% logz-ratio=-38.65+/-0.18 dlogz:6.910>0.1]"
     ]
    },
    {
     "name": "stderr",
     "output_type": "stream",
     "text": [
      "21:34 bilby INFO    : Written checkpoint file d1/d1_resume.pickle\n"
     ]
    },
    {
     "name": "stdout",
     "output_type": "stream",
     "text": [
      "768it [3:26:22, 39.41s/it, bound:612 nc:2453 ncall:5.9e+05 eff:0.1% logz-ratio=-38.51+/-0.18 dlogz:6.689>0.1]"
     ]
    },
    {
     "name": "stderr",
     "output_type": "stream",
     "text": [
      "21:44 bilby INFO    : Written checkpoint file d1/d1_resume.pickle\n"
     ]
    },
    {
     "name": "stdout",
     "output_type": "stream",
     "text": [
      "783it [3:36:59, 41.59s/it, bound:627 nc:2445 ncall:6.2e+05 eff:0.1% logz-ratio=-38.38+/-0.18 dlogz:6.484>0.1]"
     ]
    },
    {
     "name": "stderr",
     "output_type": "stream",
     "text": [
      "21:54 bilby INFO    : Written checkpoint file d1/d1_resume.pickle\n"
     ]
    },
    {
     "name": "stdout",
     "output_type": "stream",
     "text": [
      "801it [3:47:21, 36.32s/it, bound:645 nc:1842 ncall:6.5e+05 eff:0.1% logz-ratio=-38.23+/-0.18 dlogz:13.464>0.1]"
     ]
    },
    {
     "name": "stderr",
     "output_type": "stream",
     "text": [
      "22:05 bilby INFO    : Written checkpoint file d1/d1_resume.pickle\n"
     ]
    },
    {
     "name": "stdout",
     "output_type": "stream",
     "text": [
      "817it [3:57:39, 32.44s/it, bound:661 nc:1622 ncall:6.9e+05 eff:0.1% logz-ratio=-38.11+/-0.18 dlogz:13.264>0.1]"
     ]
    },
    {
     "name": "stderr",
     "output_type": "stream",
     "text": [
      "22:15 bilby INFO    : Written checkpoint file d1/d1_resume.pickle\n"
     ]
    },
    {
     "name": "stdout",
     "output_type": "stream",
     "text": [
      "837it [4:07:53, 31.13s/it, bound:681 nc:1712 ncall:7.2e+05 eff:0.1% logz-ratio=-37.97+/-0.18 dlogz:23.266>0.1]"
     ]
    },
    {
     "name": "stderr",
     "output_type": "stream",
     "text": [
      "22:25 bilby INFO    : Written checkpoint file d1/d1_resume.pickle\n"
     ]
    },
    {
     "name": "stdout",
     "output_type": "stream",
     "text": [
      "854it [4:18:19, 41.49s/it, bound:698 nc:2247 ncall:7.5e+05 eff:0.1% logz-ratio=-37.85+/-0.18 dlogz:23.061>0.1]"
     ]
    },
    {
     "name": "stderr",
     "output_type": "stream",
     "text": [
      "22:36 bilby INFO    : Written checkpoint file d1/d1_resume.pickle\n"
     ]
    },
    {
     "name": "stdout",
     "output_type": "stream",
     "text": [
      "869it [4:28:55, 42.34s/it, bound:713 nc:2222 ncall:7.8e+05 eff:0.1% logz-ratio=-37.75+/-0.18 dlogz:22.883>0.1]"
     ]
    },
    {
     "name": "stderr",
     "output_type": "stream",
     "text": [
      "22:46 bilby INFO    : Written checkpoint file d1/d1_resume.pickle\n"
     ]
    },
    {
     "name": "stdout",
     "output_type": "stream",
     "text": [
      "886it [4:39:28, 38.15s/it, bound:730 nc:2090 ncall:8.2e+05 eff:0.1% logz-ratio=-37.63+/-0.18 dlogz:22.685>0.1]"
     ]
    },
    {
     "name": "stderr",
     "output_type": "stream",
     "text": [
      "22:57 bilby INFO    : Written checkpoint file d1/d1_resume.pickle\n",
      "22:57 bilby WARNING : singular matrix\n",
      "22:57 bilby WARNING : Failed to create dynesty state plot at checkpoint\n",
      "22:57 bilby WARNING : singular matrix\n",
      "22:57 bilby WARNING : Failed to create dynesty run plot at checkpoint\n"
     ]
    },
    {
     "name": "stdout",
     "output_type": "stream",
     "text": [
      "902it [4:49:57, 40.85s/it, bound:746 nc:2361 ncall:8.5e+05 eff:0.1% logz-ratio=-37.54+/-0.18 dlogz:22.506>0.1]"
     ]
    },
    {
     "name": "stderr",
     "output_type": "stream",
     "text": [
      "23:07 bilby INFO    : Written checkpoint file d1/d1_resume.pickle\n"
     ]
    },
    {
     "name": "stdout",
     "output_type": "stream",
     "text": [
      "918it [5:00:03, 35.93s/it, bound:762 nc:1775 ncall:8.8e+05 eff:0.1% logz-ratio=-37.44+/-0.19 dlogz:22.332>0.1]"
     ]
    },
    {
     "name": "stderr",
     "output_type": "stream",
     "text": [
      "23:17 bilby INFO    : Written checkpoint file d1/d1_resume.pickle\n",
      "23:17 bilby WARNING : singular matrix\n",
      "23:17 bilby WARNING : Failed to create dynesty state plot at checkpoint\n",
      "23:17 bilby WARNING : singular matrix\n",
      "23:17 bilby WARNING : Failed to create dynesty run plot at checkpoint\n"
     ]
    },
    {
     "name": "stdout",
     "output_type": "stream",
     "text": [
      "936it [5:10:39, 35.25s/it, bound:780 nc:2124 ncall:9.2e+05 eff:0.1% logz-ratio=-37.34+/-0.19 dlogz:22.142>0.1]"
     ]
    },
    {
     "name": "stderr",
     "output_type": "stream",
     "text": [
      "23:28 bilby INFO    : Written checkpoint file d1/d1_resume.pickle\n"
     ]
    },
    {
     "name": "stdout",
     "output_type": "stream",
     "text": [
      "954it [5:21:02, 31.73s/it, bound:798 nc:1581 ncall:9.5e+05 eff:0.1% logz-ratio=-37.24+/-0.19 dlogz:21.954>0.1]"
     ]
    },
    {
     "name": "stderr",
     "output_type": "stream",
     "text": [
      "23:38 bilby INFO    : Written checkpoint file d1/d1_resume.pickle\n"
     ]
    },
    {
     "name": "stdout",
     "output_type": "stream",
     "text": [
      "972it [5:31:27, 33.36s/it, bound:816 nc:2056 ncall:9.8e+05 eff:0.1% logz-ratio=-37.15+/-0.19 dlogz:21.770>0.1]"
     ]
    },
    {
     "name": "stderr",
     "output_type": "stream",
     "text": [
      "23:49 bilby INFO    : Written checkpoint file d1/d1_resume.pickle\n"
     ]
    },
    {
     "name": "stdout",
     "output_type": "stream",
     "text": [
      "986it [5:41:38, 44.45s/it, bound:830 nc:2646 ncall:1.0e+06 eff:0.1% logz-ratio=-37.08+/-0.19 dlogz:21.629>0.1]"
     ]
    },
    {
     "name": "stderr",
     "output_type": "stream",
     "text": [
      "23:59 bilby INFO    : Written checkpoint file d1/d1_resume.pickle\n",
      "23:59 bilby WARNING : singular matrix\n",
      "23:59 bilby WARNING : Failed to create dynesty run plot at checkpoint\n"
     ]
    },
    {
     "name": "stdout",
     "output_type": "stream",
     "text": [
      "1001it [5:51:57, 39.71s/it, bound:845 nc:2006 ncall:1.0e+06 eff:0.1% logz-ratio=-37.01+/-0.19 dlogz:21.480>0.1]"
     ]
    },
    {
     "name": "stderr",
     "output_type": "stream",
     "text": [
      "00:09 bilby INFO    : Written checkpoint file d1/d1_resume.pickle\n",
      "00:09 bilby WARNING : singular matrix\n",
      "00:09 bilby WARNING : Failed to create dynesty state plot at checkpoint\n",
      "00:09 bilby WARNING : singular matrix\n",
      "00:09 bilby WARNING : Failed to create dynesty run plot at checkpoint\n"
     ]
    },
    {
     "name": "stdout",
     "output_type": "stream",
     "text": [
      "1015it [6:02:11, 45.54s/it, bound:859 nc:2277 ncall:1.1e+06 eff:0.1% logz-ratio=-36.94+/-0.19 dlogz:21.344>0.1]"
     ]
    },
    {
     "name": "stderr",
     "output_type": "stream",
     "text": [
      "00:19 bilby INFO    : Written checkpoint file d1/d1_resume.pickle\n"
     ]
    },
    {
     "name": "stdout",
     "output_type": "stream",
     "text": [
      "1030it [6:13:01, 47.59s/it, bound:874 nc:2946 ncall:1.1e+06 eff:0.1% logz-ratio=-36.87+/-0.19 dlogz:21.199>0.1]"
     ]
    },
    {
     "name": "stderr",
     "output_type": "stream",
     "text": [
      "00:30 bilby INFO    : Written checkpoint file d1/d1_resume.pickle\n",
      "00:30 bilby WARNING : singular matrix\n",
      "00:30 bilby WARNING : Failed to create dynesty state plot at checkpoint\n",
      "00:30 bilby WARNING : singular matrix\n",
      "00:30 bilby WARNING : Failed to create dynesty run plot at checkpoint\n"
     ]
    },
    {
     "name": "stdout",
     "output_type": "stream",
     "text": [
      "1044it [6:23:44, 50.21s/it, bound:888 nc:3220 ncall:1.2e+06 eff:0.1% logz-ratio=-36.80+/-0.19 dlogz:21.065>0.1]"
     ]
    },
    {
     "name": "stderr",
     "output_type": "stream",
     "text": [
      "00:41 bilby INFO    : Written checkpoint file d1/d1_resume.pickle\n"
     ]
    },
    {
     "name": "stdout",
     "output_type": "stream",
     "text": [
      "1059it [6:33:55, 40.53s/it, bound:903 nc:2195 ncall:1.2e+06 eff:0.1% logz-ratio=-36.74+/-0.19 dlogz:20.924>0.1]"
     ]
    },
    {
     "name": "stderr",
     "output_type": "stream",
     "text": [
      "00:51 bilby INFO    : Written checkpoint file d1/d1_resume.pickle\n"
     ]
    },
    {
     "name": "stdout",
     "output_type": "stream",
     "text": [
      "1073it [6:44:37, 45.88s/it, bound:917 nc:2331 ncall:1.2e+06 eff:0.1% logz-ratio=-36.68+/-0.19 dlogz:20.796>0.1]"
     ]
    },
    {
     "name": "stderr",
     "output_type": "stream",
     "text": [
      "01:02 bilby INFO    : Written checkpoint file d1/d1_resume.pickle\n"
     ]
    },
    {
     "name": "stdout",
     "output_type": "stream",
     "text": [
      "1088it [6:55:16, 44.87s/it, bound:932 nc:2627 ncall:1.3e+06 eff:0.1% logz-ratio=-36.62+/-0.19 dlogz:20.662>0.1]"
     ]
    },
    {
     "name": "stderr",
     "output_type": "stream",
     "text": [
      "01:13 bilby INFO    : Written checkpoint file d1/d1_resume.pickle\n"
     ]
    },
    {
     "name": "stdout",
     "output_type": "stream",
     "text": [
      "1102it [7:05:25, 45.44s/it, bound:946 nc:2334 ncall:1.3e+06 eff:0.1% logz-ratio=-36.57+/-0.19 dlogz:20.539>0.1]"
     ]
    },
    {
     "name": "stderr",
     "output_type": "stream",
     "text": [
      "01:23 bilby INFO    : Written checkpoint file d1/d1_resume.pickle\n"
     ]
    },
    {
     "name": "stdout",
     "output_type": "stream",
     "text": [
      "1114it [7:15:51, 56.04s/it, bound:958 nc:2197 ncall:1.3e+06 eff:0.1% logz-ratio=-36.52+/-0.19 dlogz:20.435>0.1]"
     ]
    },
    {
     "name": "stderr",
     "output_type": "stream",
     "text": [
      "01:33 bilby INFO    : Written checkpoint file d1/d1_resume.pickle\n",
      "01:33 bilby WARNING : singular matrix\n",
      "01:33 bilby WARNING : Failed to create dynesty state plot at checkpoint\n",
      "01:33 bilby WARNING : singular matrix\n",
      "01:33 bilby WARNING : Failed to create dynesty run plot at checkpoint\n"
     ]
    },
    {
     "name": "stdout",
     "output_type": "stream",
     "text": [
      "1126it [7:25:55, 51.82s/it, bound:970 nc:2486 ncall:1.3e+06 eff:0.1% logz-ratio=-36.48+/-0.19 dlogz:20.332>0.1]"
     ]
    },
    {
     "name": "stderr",
     "output_type": "stream",
     "text": [
      "01:43 bilby INFO    : Written checkpoint file d1/d1_resume.pickle\n",
      "01:43 bilby WARNING : singular matrix\n",
      "01:43 bilby WARNING : Failed to create dynesty state plot at checkpoint\n",
      "01:43 bilby WARNING : singular matrix\n",
      "01:43 bilby WARNING : Failed to create dynesty run plot at checkpoint\n"
     ]
    },
    {
     "name": "stdout",
     "output_type": "stream",
     "text": [
      "1138it [7:36:01, 52.54s/it, bound:982 nc:2208 ncall:1.4e+06 eff:0.1% logz-ratio=-36.44+/-0.20 dlogz:20.232>0.1]"
     ]
    },
    {
     "name": "stderr",
     "output_type": "stream",
     "text": [
      "01:53 bilby INFO    : Written checkpoint file d1/d1_resume.pickle\n"
     ]
    },
    {
     "name": "stdout",
     "output_type": "stream",
     "text": [
      "1150it [7:46:18, 52.30s/it, bound:994 nc:2084 ncall:1.4e+06 eff:0.1% logz-ratio=-36.40+/-0.20 dlogz:20.132>0.1]"
     ]
    },
    {
     "name": "stderr",
     "output_type": "stream",
     "text": [
      "02:04 bilby INFO    : Written checkpoint file d1/d1_resume.pickle\n"
     ]
    },
    {
     "name": "stdout",
     "output_type": "stream",
     "text": [
      "1162it [7:56:53, 54.25s/it, bound:1006 nc:2339 ncall:1.4e+06 eff:0.1% logz-ratio=-36.36+/-0.20 dlogz:20.031>0.1]"
     ]
    },
    {
     "name": "stderr",
     "output_type": "stream",
     "text": [
      "02:14 bilby INFO    : Written checkpoint file d1/d1_resume.pickle\n"
     ]
    },
    {
     "name": "stdout",
     "output_type": "stream",
     "text": [
      "1174it [8:07:30, 51.14s/it, bound:1018 nc:1975 ncall:1.5e+06 eff:0.1% logz-ratio=-36.32+/-0.20 dlogz:19.931>0.1]"
     ]
    },
    {
     "name": "stderr",
     "output_type": "stream",
     "text": [
      "02:25 bilby INFO    : Written checkpoint file d1/d1_resume.pickle\n"
     ]
    },
    {
     "name": "stdout",
     "output_type": "stream",
     "text": [
      "1188it [8:18:10, 46.06s/it, bound:1032 nc:2377 ncall:1.5e+06 eff:0.1% logz-ratio=-36.28+/-0.20 dlogz:19.817>0.1]"
     ]
    },
    {
     "name": "stderr",
     "output_type": "stream",
     "text": [
      "02:35 bilby INFO    : Written checkpoint file d1/d1_resume.pickle\n"
     ]
    },
    {
     "name": "stdout",
     "output_type": "stream",
     "text": [
      "1202it [8:28:13, 42.03s/it, bound:1046 nc:2166 ncall:1.5e+06 eff:0.1% logz-ratio=-36.23+/-0.20 dlogz:19.705>0.1]"
     ]
    },
    {
     "name": "stderr",
     "output_type": "stream",
     "text": [
      "02:45 bilby INFO    : Written checkpoint file d1/d1_resume.pickle\n"
     ]
    },
    {
     "name": "stdout",
     "output_type": "stream",
     "text": [
      "1217it [8:38:31, 38.77s/it, bound:1061 nc:1910 ncall:1.5e+06 eff:0.1% logz-ratio=-36.19+/-0.20 dlogz:19.586>0.1]"
     ]
    },
    {
     "name": "stderr",
     "output_type": "stream",
     "text": [
      "02:56 bilby INFO    : Written checkpoint file d1/d1_resume.pickle\n"
     ]
    },
    {
     "name": "stdout",
     "output_type": "stream",
     "text": [
      "1233it [8:48:43, 39.66s/it, bound:1077 nc:2433 ncall:1.6e+06 eff:0.1% logz-ratio=-36.15+/-0.20 dlogz:19.580>0.1]"
     ]
    },
    {
     "name": "stderr",
     "output_type": "stream",
     "text": [
      "03:06 bilby INFO    : Written checkpoint file d1/d1_resume.pickle\n"
     ]
    },
    {
     "name": "stdout",
     "output_type": "stream",
     "text": [
      "1250it [8:59:12, 36.33s/it, bound:1094 nc:2170 ncall:1.6e+06 eff:0.1% logz-ratio=-36.10+/-0.20 dlogz:19.450>0.1]"
     ]
    },
    {
     "name": "stderr",
     "output_type": "stream",
     "text": [
      "03:16 bilby INFO    : Written checkpoint file d1/d1_resume.pickle\n"
     ]
    },
    {
     "name": "stdout",
     "output_type": "stream",
     "text": [
      "1266it [9:09:31, 36.19s/it, bound:1110 nc:1667 ncall:1.6e+06 eff:0.1% logz-ratio=-36.06+/-0.20 dlogz:19.329>0.1]"
     ]
    },
    {
     "name": "stderr",
     "output_type": "stream",
     "text": [
      "03:27 bilby INFO    : Written checkpoint file d1/d1_resume.pickle\n"
     ]
    },
    {
     "name": "stdout",
     "output_type": "stream",
     "text": [
      "1282it [9:20:03, 40.39s/it, bound:1126 nc:2212 ncall:1.7e+06 eff:0.1% logz-ratio=-36.02+/-0.20 dlogz:19.211>0.1]"
     ]
    },
    {
     "name": "stderr",
     "output_type": "stream",
     "text": [
      "03:37 bilby INFO    : Written checkpoint file d1/d1_resume.pickle\n"
     ]
    },
    {
     "name": "stdout",
     "output_type": "stream",
     "text": [
      "1298it [9:30:06, 39.66s/it, bound:1142 nc:2624 ncall:1.7e+06 eff:0.1% logz-ratio=-35.98+/-0.20 dlogz:19.094>0.1]"
     ]
    },
    {
     "name": "stderr",
     "output_type": "stream",
     "text": [
      "03:47 bilby INFO    : Written checkpoint file d1/d1_resume.pickle\n"
     ]
    },
    {
     "name": "stdout",
     "output_type": "stream",
     "text": [
      "1315it [9:40:37, 34.92s/it, bound:1159 nc:1673 ncall:1.7e+06 eff:0.1% logz-ratio=-35.95+/-0.20 dlogz:18.972>0.1]"
     ]
    },
    {
     "name": "stderr",
     "output_type": "stream",
     "text": [
      "03:58 bilby INFO    : Written checkpoint file d1/d1_resume.pickle\n"
     ]
    },
    {
     "name": "stdout",
     "output_type": "stream",
     "text": [
      "1333it [9:51:09, 40.56s/it, bound:1177 nc:2386 ncall:1.8e+06 eff:0.1% logz-ratio=-35.91+/-0.20 dlogz:18.845>0.1]"
     ]
    },
    {
     "name": "stderr",
     "output_type": "stream",
     "text": [
      "04:08 bilby INFO    : Written checkpoint file d1/d1_resume.pickle\n"
     ]
    },
    {
     "name": "stdout",
     "output_type": "stream",
     "text": [
      "1349it [10:01:21, 34.98s/it, bound:1193 nc:1349 ncall:1.8e+06 eff:0.1% logz-ratio=-35.88+/-0.20 dlogz:18.733>0.1]"
     ]
    },
    {
     "name": "stderr",
     "output_type": "stream",
     "text": [
      "04:19 bilby INFO    : Written checkpoint file d1/d1_resume.pickle\n"
     ]
    },
    {
     "name": "stdout",
     "output_type": "stream",
     "text": [
      "1365it [10:11:34, 36.48s/it, bound:1209 nc:2200 ncall:1.8e+06 eff:0.1% logz-ratio=-35.85+/-0.20 dlogz:18.623>0.1]"
     ]
    },
    {
     "name": "stderr",
     "output_type": "stream",
     "text": [
      "04:29 bilby INFO    : Written checkpoint file d1/d1_resume.pickle\n"
     ]
    },
    {
     "name": "stdout",
     "output_type": "stream",
     "text": [
      "1380it [10:21:58, 44.09s/it, bound:1224 nc:2393 ncall:1.9e+06 eff:0.1% logz-ratio=-35.82+/-0.20 dlogz:18.522>0.1]"
     ]
    },
    {
     "name": "stderr",
     "output_type": "stream",
     "text": [
      "04:39 bilby INFO    : Written checkpoint file d1/d1_resume.pickle\n"
     ]
    },
    {
     "name": "stdout",
     "output_type": "stream",
     "text": [
      "1396it [10:32:26, 36.82s/it, bound:1240 nc:1936 ncall:1.9e+06 eff:0.1% logz-ratio=-35.79+/-0.20 dlogz:18.414>0.1]"
     ]
    },
    {
     "name": "stderr",
     "output_type": "stream",
     "text": [
      "04:50 bilby INFO    : Written checkpoint file d1/d1_resume.pickle\n"
     ]
    },
    {
     "name": "stdout",
     "output_type": "stream",
     "text": [
      "1412it [10:42:38, 39.68s/it, bound:1256 nc:2135 ncall:1.9e+06 eff:0.1% logz-ratio=-35.77+/-0.21 dlogz:18.308>0.1]"
     ]
    },
    {
     "name": "stderr",
     "output_type": "stream",
     "text": [
      "05:00 bilby INFO    : Written checkpoint file d1/d1_resume.pickle\n"
     ]
    },
    {
     "name": "stdout",
     "output_type": "stream",
     "text": [
      "1429it [10:53:01, 34.54s/it, bound:1273 nc:1900 ncall:2.0e+06 eff:0.1% logz-ratio=-35.74+/-0.21 dlogz:18.196>0.1]"
     ]
    },
    {
     "name": "stderr",
     "output_type": "stream",
     "text": [
      "05:10 bilby INFO    : Written checkpoint file d1/d1_resume.pickle\n"
     ]
    },
    {
     "name": "stdout",
     "output_type": "stream",
     "text": [
      "1444it [11:03:20, 37.86s/it, bound:1288 nc:2195 ncall:2.0e+06 eff:0.1% logz-ratio=-35.72+/-0.21 dlogz:18.098>0.1]"
     ]
    },
    {
     "name": "stderr",
     "output_type": "stream",
     "text": [
      "05:21 bilby INFO    : Written checkpoint file d1/d1_resume.pickle\n"
     ]
    },
    {
     "name": "stdout",
     "output_type": "stream",
     "text": [
      "1461it [11:13:52, 37.53s/it, bound:1305 nc:1908 ncall:2.0e+06 eff:0.1% logz-ratio=-35.69+/-0.21 dlogz:17.989>0.1]"
     ]
    },
    {
     "name": "stderr",
     "output_type": "stream",
     "text": [
      "05:31 bilby INFO    : Written checkpoint file d1/d1_resume.pickle\n"
     ]
    },
    {
     "name": "stdout",
     "output_type": "stream",
     "text": [
      "1478it [11:23:58, 34.70s/it, bound:1322 nc:1794 ncall:2.1e+06 eff:0.1% logz-ratio=-35.67+/-0.21 dlogz:17.881>0.1]"
     ]
    },
    {
     "name": "stderr",
     "output_type": "stream",
     "text": [
      "05:41 bilby INFO    : Written checkpoint file d1/d1_resume.pickle\n"
     ]
    },
    {
     "name": "stdout",
     "output_type": "stream",
     "text": [
      "1495it [11:34:21, 35.54s/it, bound:1339 nc:1745 ncall:2.1e+06 eff:0.1% logz-ratio=-35.65+/-0.21 dlogz:17.774>0.1]"
     ]
    },
    {
     "name": "stderr",
     "output_type": "stream",
     "text": [
      "05:52 bilby INFO    : Written checkpoint file d1/d1_resume.pickle\n"
     ]
    },
    {
     "name": "stdout",
     "output_type": "stream",
     "text": [
      "1512it [11:44:42, 32.70s/it, bound:1356 nc:1486 ncall:2.1e+06 eff:0.1% logz-ratio=-35.63+/-0.21 dlogz:17.668>0.1]"
     ]
    },
    {
     "name": "stderr",
     "output_type": "stream",
     "text": [
      "06:02 bilby INFO    : Written checkpoint file d1/d1_resume.pickle\n"
     ]
    },
    {
     "name": "stdout",
     "output_type": "stream",
     "text": [
      "1532it [11:55:19, 33.56s/it, bound:1376 nc:2050 ncall:2.2e+06 eff:0.1% logz-ratio=-35.60+/-0.21 dlogz:17.545>0.1]"
     ]
    },
    {
     "name": "stderr",
     "output_type": "stream",
     "text": [
      "06:13 bilby INFO    : Written checkpoint file d1/d1_resume.pickle\n"
     ]
    },
    {
     "name": "stdout",
     "output_type": "stream",
     "text": [
      "1549it [12:05:50, 35.38s/it, bound:1394 nc:2167 ncall:2.2e+06 eff:0.1% logz-ratio=-35.58+/-0.21 dlogz:17.441>0.1]"
     ]
    },
    {
     "name": "stderr",
     "output_type": "stream",
     "text": [
      "06:23 bilby INFO    : Written checkpoint file d1/d1_resume.pickle\n"
     ]
    },
    {
     "name": "stdout",
     "output_type": "stream",
     "text": [
      "1566it [12:16:05, 35.73s/it, bound:1411 nc:1883 ncall:2.2e+06 eff:0.1% logz-ratio=-35.57+/-0.21 dlogz:17.337>0.1]"
     ]
    },
    {
     "name": "stderr",
     "output_type": "stream",
     "text": [
      "06:33 bilby INFO    : Written checkpoint file d1/d1_resume.pickle\n"
     ]
    },
    {
     "name": "stdout",
     "output_type": "stream",
     "text": [
      "1584it [12:26:12, 36.20s/it, bound:1429 nc:2143 ncall:2.3e+06 eff:0.1% logz-ratio=-35.55+/-0.21 dlogz:17.229>0.1]"
     ]
    },
    {
     "name": "stderr",
     "output_type": "stream",
     "text": [
      "06:43 bilby INFO    : Written checkpoint file d1/d1_resume.pickle\n"
     ]
    },
    {
     "name": "stdout",
     "output_type": "stream",
     "text": [
      "1600it [12:36:36, 40.70s/it, bound:1445 nc:2488 ncall:2.3e+06 eff:0.1% logz-ratio=-35.53+/-0.21 dlogz:17.581>0.1]"
     ]
    },
    {
     "name": "stderr",
     "output_type": "stream",
     "text": [
      "06:54 bilby INFO    : Written checkpoint file d1/d1_resume.pickle\n"
     ]
    },
    {
     "name": "stdout",
     "output_type": "stream",
     "text": [
      "1616it [12:47:01, 42.46s/it, bound:1462 nc:2554 ncall:2.3e+06 eff:0.1% logz-ratio=-35.52+/-0.21 dlogz:17.486>0.1]"
     ]
    },
    {
     "name": "stderr",
     "output_type": "stream",
     "text": [
      "07:04 bilby INFO    : Written checkpoint file d1/d1_resume.pickle\n"
     ]
    },
    {
     "name": "stdout",
     "output_type": "stream",
     "text": [
      "1633it [12:57:35, 34.10s/it, bound:1479 nc:1839 ncall:2.4e+06 eff:0.1% logz-ratio=-35.50+/-0.21 dlogz:17.386>0.1]"
     ]
    },
    {
     "name": "stderr",
     "output_type": "stream",
     "text": [
      "07:15 bilby INFO    : Written checkpoint file d1/d1_resume.pickle\n"
     ]
    },
    {
     "name": "stdout",
     "output_type": "stream",
     "text": [
      "1648it [13:08:14, 42.13s/it, bound:1494 nc:2315 ncall:2.4e+06 eff:0.1% logz-ratio=-35.49+/-0.21 dlogz:17.298>0.1]"
     ]
    },
    {
     "name": "stderr",
     "output_type": "stream",
     "text": [
      "07:25 bilby INFO    : Written checkpoint file d1/d1_resume.pickle\n"
     ]
    },
    {
     "name": "stdout",
     "output_type": "stream",
     "text": [
      "1663it [13:18:34, 42.07s/it, bound:1509 nc:1979 ncall:2.4e+06 eff:0.1% logz-ratio=-35.47+/-0.21 dlogz:17.211>0.1]"
     ]
    },
    {
     "name": "stderr",
     "output_type": "stream",
     "text": [
      "07:36 bilby INFO    : Written checkpoint file d1/d1_resume.pickle\n"
     ]
    },
    {
     "name": "stdout",
     "output_type": "stream",
     "text": [
      "1679it [13:29:12, 39.06s/it, bound:1525 nc:2409 ncall:2.5e+06 eff:0.1% logz-ratio=-35.46+/-0.21 dlogz:17.118>0.1]"
     ]
    },
    {
     "name": "stderr",
     "output_type": "stream",
     "text": [
      "07:46 bilby INFO    : Written checkpoint file d1/d1_resume.pickle\n"
     ]
    },
    {
     "name": "stdout",
     "output_type": "stream",
     "text": [
      "1692it [13:40:02, 52.14s/it, bound:1539 nc:3713 ncall:2.5e+06 eff:0.1% logz-ratio=-35.45+/-0.21 dlogz:17.042>0.1]"
     ]
    },
    {
     "name": "stderr",
     "output_type": "stream",
     "text": [
      "07:57 bilby INFO    : Written checkpoint file d1/d1_resume.pickle\n"
     ]
    },
    {
     "name": "stdout",
     "output_type": "stream",
     "text": [
      "1705it [13:50:12, 42.55s/it, bound:1552 nc:1934 ncall:2.5e+06 eff:0.1% logz-ratio=-35.44+/-0.21 dlogz:16.967>0.1]"
     ]
    },
    {
     "name": "stderr",
     "output_type": "stream",
     "text": [
      "08:07 bilby INFO    : Written checkpoint file d1/d1_resume.pickle\n"
     ]
    },
    {
     "name": "stdout",
     "output_type": "stream",
     "text": [
      "1720it [14:00:40, 41.83s/it, bound:1567 nc:2566 ncall:2.6e+06 eff:0.1% logz-ratio=-35.43+/-0.21 dlogz:16.882>0.1]"
     ]
    },
    {
     "name": "stderr",
     "output_type": "stream",
     "text": [
      "08:18 bilby INFO    : Written checkpoint file d1/d1_resume.pickle\n"
     ]
    },
    {
     "name": "stdout",
     "output_type": "stream",
     "text": [
      "1738it [14:11:13, 38.78s/it, bound:1585 nc:2838 ncall:2.6e+06 eff:0.1% logz-ratio=-35.42+/-0.21 dlogz:16.779>0.1]"
     ]
    },
    {
     "name": "stderr",
     "output_type": "stream",
     "text": [
      "08:28 bilby INFO    : Written checkpoint file d1/d1_resume.pickle\n"
     ]
    },
    {
     "name": "stdout",
     "output_type": "stream",
     "text": [
      "1753it [14:21:43, 39.35s/it, bound:1600 nc:2111 ncall:2.6e+06 eff:0.1% logz-ratio=-35.41+/-0.21 dlogz:16.694>0.1]"
     ]
    },
    {
     "name": "stderr",
     "output_type": "stream",
     "text": [
      "08:39 bilby INFO    : Written checkpoint file d1/d1_resume.pickle\n"
     ]
    },
    {
     "name": "stdout",
     "output_type": "stream",
     "text": [
      "1768it [14:31:56, 40.86s/it, bound:1615 nc:2020 ncall:2.7e+06 eff:0.1% logz-ratio=-35.40+/-0.21 dlogz:16.610>0.1]"
     ]
    },
    {
     "name": "stderr",
     "output_type": "stream",
     "text": [
      "08:49 bilby INFO    : Written checkpoint file d1/d1_resume.pickle\n"
     ]
    },
    {
     "name": "stdout",
     "output_type": "stream",
     "text": [
      "1782it [14:42:10, 46.20s/it, bound:1629 nc:2937 ncall:2.7e+06 eff:0.1% logz-ratio=-35.39+/-0.21 dlogz:16.531>0.1]"
     ]
    },
    {
     "name": "stderr",
     "output_type": "stream",
     "text": [
      "08:59 bilby INFO    : Written checkpoint file d1/d1_resume.pickle\n"
     ]
    },
    {
     "name": "stdout",
     "output_type": "stream",
     "text": [
      "1797it [14:52:17, 34.50s/it, bound:1644 nc:1217 ncall:2.7e+06 eff:0.1% logz-ratio=-35.38+/-0.21 dlogz:18.873>0.1]"
     ]
    },
    {
     "name": "stderr",
     "output_type": "stream",
     "text": [
      "09:10 bilby INFO    : Written checkpoint file d1/d1_resume.pickle\n"
     ]
    },
    {
     "name": "stdout",
     "output_type": "stream",
     "text": [
      "1811it [15:02:41, 50.05s/it, bound:1658 nc:2886 ncall:2.8e+06 eff:0.1% logz-ratio=-35.37+/-0.21 dlogz:18.795>0.1]"
     ]
    },
    {
     "name": "stderr",
     "output_type": "stream",
     "text": [
      "09:20 bilby INFO    : Written checkpoint file d1/d1_resume.pickle\n"
     ]
    },
    {
     "name": "stdout",
     "output_type": "stream",
     "text": [
      "1826it [15:13:24, 39.06s/it, bound:1673 nc:2332 ncall:2.8e+06 eff:0.1% logz-ratio=-35.36+/-0.21 dlogz:18.712>0.1]"
     ]
    },
    {
     "name": "stderr",
     "output_type": "stream",
     "text": [
      "09:31 bilby INFO    : Written checkpoint file d1/d1_resume.pickle\n"
     ]
    },
    {
     "name": "stdout",
     "output_type": "stream",
     "text": [
      "1842it [15:23:49, 39.69s/it, bound:1689 nc:2200 ncall:2.8e+06 eff:0.1% logz-ratio=-35.36+/-0.21 dlogz:18.623>0.1]"
     ]
    },
    {
     "name": "stderr",
     "output_type": "stream",
     "text": [
      "09:41 bilby INFO    : Written checkpoint file d1/d1_resume.pickle\n"
     ]
    },
    {
     "name": "stdout",
     "output_type": "stream",
     "text": [
      "1857it [15:33:56, 43.36s/it, bound:1704 nc:2653 ncall:2.9e+06 eff:0.1% logz-ratio=-35.35+/-0.21 dlogz:18.541>0.1]"
     ]
    },
    {
     "name": "stderr",
     "output_type": "stream",
     "text": [
      "09:51 bilby INFO    : Written checkpoint file d1/d1_resume.pickle\n"
     ]
    },
    {
     "name": "stdout",
     "output_type": "stream",
     "text": [
      "1871it [15:44:26, 48.79s/it, bound:1718 nc:2764 ncall:2.9e+06 eff:0.1% logz-ratio=-35.34+/-0.21 dlogz:18.464>0.1]"
     ]
    },
    {
     "name": "stderr",
     "output_type": "stream",
     "text": [
      "10:02 bilby INFO    : Written checkpoint file d1/d1_resume.pickle\n"
     ]
    },
    {
     "name": "stdout",
     "output_type": "stream",
     "text": [
      "1885it [15:55:05, 54.78s/it, bound:1733 nc:4140 ncall:3.0e+06 eff:0.1% logz-ratio=-35.33+/-0.21 dlogz:18.388>0.1]"
     ]
    },
    {
     "name": "stderr",
     "output_type": "stream",
     "text": [
      "10:12 bilby INFO    : Written checkpoint file d1/d1_resume.pickle\n"
     ]
    },
    {
     "name": "stdout",
     "output_type": "stream",
     "text": [
      "1899it [16:05:15, 46.97s/it, bound:1747 nc:2580 ncall:3.0e+06 eff:0.1% logz-ratio=-35.33+/-0.22 dlogz:18.311>0.1]"
     ]
    },
    {
     "name": "stderr",
     "output_type": "stream",
     "text": [
      "10:23 bilby INFO    : Written checkpoint file d1/d1_resume.pickle\n"
     ]
    },
    {
     "name": "stdout",
     "output_type": "stream",
     "text": [
      "1913it [16:15:53, 47.41s/it, bound:1761 nc:2538 ncall:3.0e+06 eff:0.1% logz-ratio=-35.32+/-0.22 dlogz:18.235>0.1]"
     ]
    },
    {
     "name": "stderr",
     "output_type": "stream",
     "text": [
      "10:33 bilby INFO    : Written checkpoint file d1/d1_resume.pickle\n"
     ]
    },
    {
     "name": "stdout",
     "output_type": "stream",
     "text": [
      "1927it [16:26:43, 47.96s/it, bound:1776 nc:2858 ncall:3.1e+06 eff:0.1% logz-ratio=-35.32+/-0.22 dlogz:18.199>0.1]"
     ]
    },
    {
     "name": "stderr",
     "output_type": "stream",
     "text": [
      "10:44 bilby INFO    : Written checkpoint file d1/d1_resume.pickle\n"
     ]
    },
    {
     "name": "stdout",
     "output_type": "stream",
     "text": [
      "1940it [16:37:03, 47.68s/it, bound:1789 nc:2969 ncall:3.1e+06 eff:0.1% logz-ratio=-35.31+/-0.22 dlogz:31.091>0.1]"
     ]
    },
    {
     "name": "stderr",
     "output_type": "stream",
     "text": [
      "10:54 bilby INFO    : Written checkpoint file d1/d1_resume.pickle\n"
     ]
    },
    {
     "name": "stdout",
     "output_type": "stream",
     "text": [
      "1953it [16:47:20, 51.64s/it, bound:1802 nc:2913 ncall:3.1e+06 eff:0.1% logz-ratio=-35.30+/-0.22 dlogz:31.021>0.1]"
     ]
    },
    {
     "name": "stderr",
     "output_type": "stream",
     "text": [
      "11:05 bilby INFO    : Written checkpoint file d1/d1_resume.pickle\n",
      "11:05 bilby WARNING : singular matrix\n",
      "11:05 bilby WARNING : Failed to create dynesty state plot at checkpoint\n",
      "11:05 bilby WARNING : singular matrix\n",
      "11:05 bilby WARNING : Failed to create dynesty run plot at checkpoint\n"
     ]
    },
    {
     "name": "stdout",
     "output_type": "stream",
     "text": [
      "1964it [16:55:22, 42.63s/it, bound:1813 nc:2003 ncall:3.1e+06 eff:0.1% logz-ratio=-35.30+/-0.22 dlogz:30.962>0.1]"
     ]
    }
   ],
   "source": [
    "resultA = bilby.run_sampler(likelihood = likelihoodA, priors = priorsA, sampler='dynesty', nlive=200, walks = 10,\n",
    "                            label='d1', outdir = 'd1', clean = True)"
   ]
  },
  {
   "cell_type": "code",
   "execution_count": 1,
   "metadata": {},
   "outputs": [
    {
     "ename": "NameError",
     "evalue": "name 'resultA' is not defined",
     "output_type": "error",
     "traceback": [
      "\u001b[0;31m---------------------------------------------------------------------------\u001b[0m",
      "\u001b[0;31mNameError\u001b[0m                                 Traceback (most recent call last)",
      "\u001b[0;32m<ipython-input-1-1603839a11bf>\u001b[0m in \u001b[0;36m<module>\u001b[0;34m\u001b[0m\n\u001b[0;32m----> 1\u001b[0;31m \u001b[0mresultA\u001b[0m\u001b[0;34m.\u001b[0m\u001b[0mplot_corner\u001b[0m\u001b[0;34m(\u001b[0m\u001b[0;34m)\u001b[0m\u001b[0;34m\u001b[0m\u001b[0;34m\u001b[0m\u001b[0m\n\u001b[0m",
      "\u001b[0;31mNameError\u001b[0m: name 'resultA' is not defined"
     ]
    }
   ],
   "source": [
    "resultA.plot_corner()"
   ]
  },
  {
   "cell_type": "code",
   "execution_count": null,
   "metadata": {},
   "outputs": [],
   "source": [
    "y_pred = []\n",
    "for _, sample in result.posterior.sample(1000).iterrows():\n",
    "    y_pred.append(modelB(time, **{k:sample[k] for k in likelihood.model_parameters.keys()}))\n",
    "    \n",
    "median = np.quantile(y_pred, 0.5, axis=0)\n",
    "lower = np.quantile(y_pred, 0.01, axis=0)\n",
    "upper = np.quantile(y_pred, 0.99, axis=0)\n",
    "plt.plot(time, median, color='C1')\n",
    "plt.fill_between(time, lower, upper, color=\"C2\", alpha=0.5)\n",
    "\n",
    "plt.plot(time, yobs, 'x')\n",
    "plt.show()"
   ]
  },
  {
   "cell_type": "code",
   "execution_count": null,
   "metadata": {},
   "outputs": [],
   "source": [
    "sample = resultA.posterior.sample(1000)\n",
    "sample"
   ]
  },
  {
   "cell_type": "code",
   "execution_count": null,
   "metadata": {},
   "outputs": [],
   "source": [
    "median = np.quantile(y_pred, 0.5, axis=0)\n",
    "lower = np.quantile(y_pred, 0.01, axis=0)\n",
    "upper = np.quantile(y_pred, 0.99, axis=0)"
   ]
  }
 ],
 "metadata": {
  "kernelspec": {
   "display_name": "Python 3",
   "language": "python",
   "name": "python3"
  },
  "language_info": {
   "codemirror_mode": {
    "name": "ipython",
    "version": 3
   },
   "file_extension": ".py",
   "mimetype": "text/x-python",
   "name": "python",
   "nbconvert_exporter": "python",
   "pygments_lexer": "ipython3",
   "version": "3.8.5"
  }
 },
 "nbformat": 4,
 "nbformat_minor": 4
}
