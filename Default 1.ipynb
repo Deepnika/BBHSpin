{
 "cells": [
  {
   "cell_type": "code",
   "execution_count": 1,
   "metadata": {},
   "outputs": [
    {
     "name": "stdout",
     "output_type": "stream",
     "text": [
      "Populating the interactive namespace from numpy and matplotlib\n"
     ]
    }
   ],
   "source": [
    "import bilby\n",
    "import gwpopulation as gwpop\n",
    "import numpy as np\n",
    "import matplotlib.pyplot as plt\n",
    "import h5py\n",
    "import pandas as pd\n",
    "import corner\n",
    "\n",
    "from astropy import cosmology, units\n",
    "from scipy.interpolate import interp1d\n",
    "\n",
    "from bilby.core.prior import Uniform, LogUniform, PriorDict, Constraint\n",
    "from gwpopulation.models import mass, spin\n",
    "\n",
    "xp = gwpop.cupy_utils.xp\n",
    "\n",
    "%pylab inline"
   ]
  },
  {
   "cell_type": "code",
   "execution_count": 2,
   "metadata": {},
   "outputs": [],
   "source": [
    "parameter_translator = dict(\n",
    "    mass_1_det = 'm1_detector_frame_Msun',\n",
    "    mass_2_det = 'm2_detector_frame_Msun',\n",
    "    luminosity_distance = 'luminosity_distance_Mpc',\n",
    "    a_1 = 'spin1',\n",
    "    a_2 = 'spin2',\n",
    "    cos_tilt_1 = 'costilt1',\n",
    "    cos_tilt_2 = 'costilt2')"
   ]
  },
  {
   "cell_type": "code",
   "execution_count": 3,
   "metadata": {},
   "outputs": [],
   "source": [
    "posteriors = list()\n",
    "\n",
    "file = 'GWTC-1_sample_release/GW{}_GWTC-1.hdf5'\n",
    "\n",
    "events = ['150914', '151012', '151226', '170104', '170608', '170729', '170809', '170814', \n",
    "          '170818', '170823']\n",
    "\n",
    "for event in events:\n",
    "    _posterior = pd.DataFrame()\n",
    "    with h5py.File(file.format(event), 'r') as ff:\n",
    "        for my_key, gwtc_key in parameter_translator.items():\n",
    "            _posterior[my_key] = ff['IMRPhenomPv2_posterior'][gwtc_key]\n",
    "    posteriors.append(_posterior)"
   ]
  },
  {
   "cell_type": "code",
   "execution_count": 4,
   "metadata": {},
   "outputs": [],
   "source": [
    "luminosity_distances = np.linspace(1, 10000, 1000)\n",
    "redshifts = np.array([cosmology.z_at_value(cosmology.Planck15.luminosity_distance, \n",
    "                                                   dl * units.Mpc) for dl in luminosity_distances])\n",
    "dl_to_z = interp1d(luminosity_distances, redshifts)"
   ]
  },
  {
   "cell_type": "code",
   "execution_count": 5,
   "metadata": {},
   "outputs": [],
   "source": [
    "for posterior in posteriors:\n",
    "    posterior['redshift'] = dl_to_z(posterior['luminosity_distance'])\n",
    "    posterior['mass_1'] = posterior['mass_1_det'] / (1 + posterior['redshift'])\n",
    "    posterior['mass_2'] = posterior['mass_2_det'] / (1 + posterior['redshift'])\n",
    "    posterior['mass_ratio'] = posterior['mass_2'] / posterior['mass_1']"
   ]
  },
  {
   "cell_type": "code",
   "execution_count": 7,
   "metadata": {},
   "outputs": [],
   "source": [
    "modelA = bilby.hyper.model.Model([mass.SinglePeakSmoothedMassDistribution(),\n",
    "                                  spin.iid_spin])           #independent_spin_magnitude_beta])"
   ]
  },
  {
   "cell_type": "markdown",
   "metadata": {},
   "source": [
    "### Default Model Parameters \n",
    "\n",
    "| $\\alpha$ | $m_{max}$ | $m_{min}$ | $\\beta_q$ | $\\lambda_m$ | $\\mu_m$ | $\\sigma_m$ | $\\delta_m$ | E[a] | Var[a] |   $\\chi$ | $\\sigma_a$ | \n",
    "|----------|-----------|-----------|-----------|-------------|---------|------------|------------|------|-------|----------|------------|\n",
    "| [-4, 12] | [30, 100] | [5, 10] | [-4, 12] | [0, 1] | [20, 50] | (0, 10] | [0, 10] | [0, 1] | [0, 0.25] | [0, 1] | [0, 4] |"
   ]
  },
  {
   "cell_type": "code",
   "execution_count": 16,
   "metadata": {},
   "outputs": [],
   "source": [
    "def convert_to_beta_parameters(parameters, remove=True):\n",
    "    \"\"\"\n",
    "    Convert to parameters for standard beta distribution\n",
    "    \"\"\"\n",
    "    added_keys = list()\n",
    "    converted = parameters.copy()\n",
    "\n",
    "    def _convert(suffix):\n",
    "        alpha = f\"alpha_chi{suffix}\"\n",
    "        beta = f\"beta_chi{suffix}\"\n",
    "        mu = f\"mu_chi{suffix}\"\n",
    "        sigma = f\"sigma_chi{suffix}\"\n",
    "        amax = f\"amax{suffix}\"\n",
    "\n",
    "        if alpha not in parameters.keys() or beta not in parameters.keys():\n",
    "            needed = True\n",
    "        elif converted[alpha] is None or converted[beta] is None:\n",
    "            needed = True\n",
    "        else:\n",
    "            needed = False\n",
    "            done = True\n",
    "\n",
    "        if needed:\n",
    "            if mu in converted.keys() and sigma in converted.keys():\n",
    "                done = True\n",
    "                (\n",
    "                    converted[alpha],\n",
    "                    converted[beta],\n",
    "                    _,\n",
    "                ) = mu_chi_var_chi_max_to_alpha_beta_max(\n",
    "                    parameters[mu], parameters[sigma], parameters[amax]\n",
    "                )\n",
    "                if remove:\n",
    "                    added_keys.append(alpha)\n",
    "                    added_keys.append(beta)\n",
    "            else:\n",
    "                done = False\n",
    "        return done\n",
    "\n",
    "    done = False\n",
    "\n",
    "    for suffix in [\"_1\", \"_2\"]:\n",
    "        _done = _convert(suffix)\n",
    "        done = done or _done\n",
    "    if not done:\n",
    "        _ = _convert(\"\")\n",
    "        \n",
    "#     print(\"hi\")\n",
    "\n",
    "    return converted, added_keys\n",
    "\n",
    "\n",
    "def alpha_beta_max_to_mu_chi_var_chi_max(alpha, beta, amax):\n",
    "    \"\"\"\n",
    "    Convert between parameters for beta distribution\n",
    "    \"\"\"\n",
    "    mu_chi = alpha / (alpha + beta) * amax\n",
    "    var_chi = alpha * beta / ((alpha + beta) ** 2 * (alpha + beta + 1)) * amax ** 2\n",
    "    return mu_chi, var_chi, amax\n",
    "\n",
    "\n",
    "def mu_chi_var_chi_max_to_alpha_beta_max(mu_chi, var_chi, amax):\n",
    "    \"\"\"\n",
    "    Convert between parameters for beta distribution\n",
    "    \"\"\"\n",
    "#     print(\"hello\")\n",
    "    mu_chi /= amax\n",
    "    var_chi /= amax ** 2\n",
    "    alpha = (mu_chi ** 2 * (1 - mu_chi) - mu_chi * var_chi) / var_chi\n",
    "    beta = (mu_chi * (1 - mu_chi) ** 2 - (1 - mu_chi) * var_chi) / var_chi\n",
    "    return alpha, beta, amax"
   ]
  },
  {
   "cell_type": "code",
   "execution_count": 17,
   "metadata": {},
   "outputs": [],
   "source": [
    "# from gwpopulation.conversions import convert_to_beta_parameters\n",
    "\n",
    "def prior_conversion(parameters):\n",
    "    \"\"\"Wrapper around conversion for prior constraints\"\"\"\n",
    "    for key in [\"amax_1\", \"amax_2\"]:\n",
    "#         print(\"hello\")\n",
    "        if key not in parameters:\n",
    "            parameters[key] = 1\n",
    "    parameters, _ = convert_to_beta_parameters(parameters)\n",
    "    return parameters"
   ]
  },
  {
   "cell_type": "code",
   "execution_count": 18,
   "metadata": {},
   "outputs": [
    {
     "name": "stderr",
     "output_type": "stream",
     "text": [
      "11:39 bilby INFO    : No prior given, using default BBH priors in /home/deepnika.jain/anaconda3/envs/gwspin/lib/python3.8/site-packages/bilby/gw/prior_files/precessing_spins_bbh.prior.\n"
     ]
    }
   ],
   "source": [
    "priorsA = bilby.gw.prior.BBHPriorDict(conversion_function = prior_conversion)\n",
    "          \n",
    "# mass\n",
    "priorsA[\"alpha\"] = Uniform(minimum = -4, maximum = 12, latex_label = \"$\\\\alpha$\")\n",
    "priorsA[\"beta\"] = Uniform(minimum = -4, maximum = 12, latex_label = \"$\\\\beta$\")\n",
    "priorsA[\"mmin\"] = Uniform(minimum = 5, maximum = 10, latex_label = \"$M_{min}$\")\n",
    "priorsA[\"mmax\"] = Uniform(minimum = 30, maximum = 100, latex_label = \"$M_{max}$\")\n",
    "priorsA[\"lam\"] = Uniform(minimum = 0, maximum = 1, latex_label = \"$\\\\lambda$\")\n",
    "priorsA[\"mpp\"] = Uniform(minimum=20, maximum=50, latex_label='$\\\\mu_{m}$')\n",
    "priorsA[\"sigpp\"] = Uniform(minimum=0, maximum=10, latex_label='$\\\\sigma_{m}$') # sigpp != 0\n",
    "priorsA[\"delta_m\"] = Uniform(minimum=0, maximum=10, latex_label='$\\\\delta_{m}$') \n",
    "\n",
    "# spin magnitude \n",
    "priorsA[\"mu_chi_1\"] = Uniform(minimum=0, maximum=1, latex_label = '$\\\\mu_{\\\\chi_1}$')\n",
    "priorsA[\"mu_chi_2\"] = Uniform(minimum=0, maximum=1, latex_label = '$\\\\mu_{\\\\chi_2}$')\n",
    "priorsA[\"sigma_chi_1\"] = Uniform(minimum=0, maximum=0.25, latex_label = '$\\\\sigma_{\\\\chi_1}$')\n",
    "priorsA[\"sigma_chi_2\"] = Uniform(minimum=0, maximum=0.25, latex_label = '$\\\\sigma_{\\\\chi_2}$')\n",
    "\n",
    "# spin orientation\n",
    "priorsA[\"xi_spin\"] = Uniform(minimum=0, maximum=1, latex_label='$\\\\xi$')\n",
    "priorsA[\"sigma_1\"] = Uniform(minimum=0, maximum=4, latex_label='$\\\\sigma{1}$')\n",
    "priorsA[\"sigma_2\"] = Uniform(minimum=0, maximum=4, latex_label='$\\\\sigma{2}$')"
   ]
  },
  {
   "cell_type": "code",
   "execution_count": 19,
   "metadata": {},
   "outputs": [
    {
     "ename": "KeyError",
     "evalue": "'amax_1'",
     "output_type": "error",
     "traceback": [
      "\u001b[0;31m---------------------------------------------------------------------------\u001b[0m",
      "\u001b[0;31mKeyError\u001b[0m                                  Traceback (most recent call last)",
      "\u001b[0;32m<ipython-input-19-3a32f8ae25dd>\u001b[0m in \u001b[0;36m<module>\u001b[0;34m\u001b[0m\n\u001b[0;32m----> 1\u001b[0;31m \u001b[0mprior_samples\u001b[0m \u001b[0;34m=\u001b[0m \u001b[0mpriorsA\u001b[0m\u001b[0;34m.\u001b[0m\u001b[0msample\u001b[0m\u001b[0;34m(\u001b[0m\u001b[0;36m100\u001b[0m\u001b[0;34m)\u001b[0m\u001b[0;34m\u001b[0m\u001b[0;34m\u001b[0m\u001b[0m\n\u001b[0m",
      "\u001b[0;32m~/anaconda3/envs/gwspin/lib/python3.8/site-packages/bilby/core/prior/dict.py\u001b[0m in \u001b[0;36msample\u001b[0;34m(self, size)\u001b[0m\n\u001b[1;32m    311\u001b[0m         \u001b[0mdict\u001b[0m\u001b[0;34m:\u001b[0m \u001b[0mDictionary\u001b[0m \u001b[0mof\u001b[0m \u001b[0mthe\u001b[0m \u001b[0msamples\u001b[0m\u001b[0;34m\u001b[0m\u001b[0;34m\u001b[0m\u001b[0m\n\u001b[1;32m    312\u001b[0m         \"\"\"\n\u001b[0;32m--> 313\u001b[0;31m         \u001b[0;32mreturn\u001b[0m \u001b[0mself\u001b[0m\u001b[0;34m.\u001b[0m\u001b[0msample_subset_constrained\u001b[0m\u001b[0;34m(\u001b[0m\u001b[0mkeys\u001b[0m\u001b[0;34m=\u001b[0m\u001b[0mlist\u001b[0m\u001b[0;34m(\u001b[0m\u001b[0mself\u001b[0m\u001b[0;34m.\u001b[0m\u001b[0mkeys\u001b[0m\u001b[0;34m(\u001b[0m\u001b[0;34m)\u001b[0m\u001b[0;34m)\u001b[0m\u001b[0;34m,\u001b[0m \u001b[0msize\u001b[0m\u001b[0;34m=\u001b[0m\u001b[0msize\u001b[0m\u001b[0;34m)\u001b[0m\u001b[0;34m\u001b[0m\u001b[0;34m\u001b[0m\u001b[0m\n\u001b[0m\u001b[1;32m    314\u001b[0m \u001b[0;34m\u001b[0m\u001b[0m\n\u001b[1;32m    315\u001b[0m     \u001b[0;32mdef\u001b[0m \u001b[0msample_subset_constrained_as_array\u001b[0m\u001b[0;34m(\u001b[0m\u001b[0mself\u001b[0m\u001b[0;34m,\u001b[0m \u001b[0mkeys\u001b[0m\u001b[0;34m=\u001b[0m\u001b[0miter\u001b[0m\u001b[0;34m(\u001b[0m\u001b[0;34m[\u001b[0m\u001b[0;34m]\u001b[0m\u001b[0;34m)\u001b[0m\u001b[0;34m,\u001b[0m \u001b[0msize\u001b[0m\u001b[0;34m=\u001b[0m\u001b[0;32mNone\u001b[0m\u001b[0;34m)\u001b[0m\u001b[0;34m:\u001b[0m\u001b[0;34m\u001b[0m\u001b[0;34m\u001b[0m\u001b[0m\n",
      "\u001b[0;32m~/anaconda3/envs/gwspin/lib/python3.8/site-packages/bilby/core/prior/dict.py\u001b[0m in \u001b[0;36msample_subset_constrained\u001b[0;34m(self, keys, size)\u001b[0m\n\u001b[1;32m    379\u001b[0m                 \u001b[0;32mfor\u001b[0m \u001b[0mkey\u001b[0m \u001b[0;32min\u001b[0m \u001b[0msamples\u001b[0m\u001b[0;34m:\u001b[0m\u001b[0;34m\u001b[0m\u001b[0;34m\u001b[0m\u001b[0m\n\u001b[1;32m    380\u001b[0m                     all_samples[key] = np.hstack(\n\u001b[0;32m--> 381\u001b[0;31m                         [all_samples[key], samples[key][keep].flatten()])\n\u001b[0m\u001b[1;32m    382\u001b[0m             all_samples = {key: np.reshape(all_samples[key][:needed], size)\n\u001b[1;32m    383\u001b[0m                            \u001b[0;32mfor\u001b[0m \u001b[0mkey\u001b[0m \u001b[0;32min\u001b[0m \u001b[0mall_samples\u001b[0m\u001b[0;34m\u001b[0m\u001b[0;34m\u001b[0m\u001b[0m\n",
      "\u001b[0;31mKeyError\u001b[0m: 'amax_1'"
     ]
    }
   ],
   "source": [
    "prior_samples = priorsA.sample(100)"
   ]
  },
  {
   "cell_type": "code",
   "execution_count": null,
   "metadata": {},
   "outputs": [],
   "source": []
  },
  {
   "cell_type": "code",
   "execution_count": null,
   "metadata": {},
   "outputs": [],
   "source": [
    "def chieff(a1, a2, q, cost1, cost2):\n",
    "    chi_eff = (a1*cost1 + a2*q*cost2)/(1+q)\n",
    "    return chi_eff\n",
    "\n",
    "def chiP(a1, a2, q, cost1, cost2):\n",
    "    q1 = a1 * sin(arccos(cost1))\n",
    "    q2 = ((4*q + 3)/(4 + 3*q)) * q * a2 * sin(arccos(cost2))\n",
    "    return np.max([q1, q2])"
   ]
  }
 ],
 "metadata": {
  "kernelspec": {
   "display_name": "Python 3",
   "language": "python",
   "name": "python3"
  },
  "language_info": {
   "codemirror_mode": {
    "name": "ipython",
    "version": 3
   },
   "file_extension": ".py",
   "mimetype": "text/x-python",
   "name": "python",
   "nbconvert_exporter": "python",
   "pygments_lexer": "ipython3",
   "version": "3.8.5"
  }
 },
 "nbformat": 4,
 "nbformat_minor": 4
}
