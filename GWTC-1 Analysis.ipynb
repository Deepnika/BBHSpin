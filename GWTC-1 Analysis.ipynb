{
 "cells": [
  {
   "cell_type": "markdown",
   "metadata": {},
   "source": [
    "## Download GWTC-1 data"
   ]
  },
  {
   "cell_type": "code",
   "execution_count": 1,
   "metadata": {
    "scrolled": true
   },
   "outputs": [
    {
     "name": "stdout",
     "output_type": "stream",
     "text": [
      "--2020-08-12 22:14:47--  https://dcc.ligo.org/public/0157/P1800370/002/GWTC-1_sample_release.tar.gz\n",
      "Resolving dcc.ligo.org (dcc.ligo.org)... 131.215.125.144\n",
      "Connecting to dcc.ligo.org (dcc.ligo.org)|131.215.125.144|:443... connected.\n",
      "HTTP request sent, awaiting response... 200 OK\n",
      "Length: 89895447 (86M) [application/x-gzip]\n",
      "Saving to: ‘GWTC-1_sample_release.tar.gz’\n",
      "\n",
      "GWTC-1_sample_relea 100%[===================>]  85.73M   109KB/s    in 15m 21s \n",
      "\n",
      "2020-08-12 22:30:11 (95.3 KB/s) - ‘GWTC-1_sample_release.tar.gz’ saved [89895447/89895447]\n",
      "\n"
     ]
    }
   ],
   "source": [
    "!wget https://dcc.ligo.org/public/0157/P1800370/002/GWTC-1_sample_release.tar.gz"
   ]
  },
  {
   "cell_type": "code",
   "execution_count": 2,
   "metadata": {},
   "outputs": [
    {
     "name": "stdout",
     "output_type": "stream",
     "text": [
      "./GWTC-1_sample_release/\n",
      "./GWTC-1_sample_release/GW170729_GWTC-1.hdf5\n",
      "./GWTC-1_sample_release/GW151226_GWTC-1.hdf5\n",
      "./GWTC-1_sample_release/GW170809_GWTC-1.hdf5\n",
      "./GWTC-1_sample_release/GW170104_GWTC-1.hdf5\n",
      "./GWTC-1_sample_release/GW170817_GWTC-1.hdf5\n",
      "./GWTC-1_sample_release/GW170608_GWTC-1.hdf5\n",
      "./GWTC-1_sample_release/GW170814_GWTC-1.hdf5\n",
      "./GWTC-1_sample_release/GW151012_GWTC-1.hdf5\n",
      "./GWTC-1_sample_release/GW170809_priorChoices_GWTC-1.hdf5\n",
      "./GWTC-1_sample_release/GW170818_GWTC-1.hdf5\n",
      "./GWTC-1_sample_release/GW150914_GWTC-1.hdf5\n",
      "./GWTC-1_sample_release/GW170823_GWTC-1.hdf5\n"
     ]
    }
   ],
   "source": [
    "!tar -xvzf GWTC-1_sample_release.tar.gz"
   ]
  },
  {
   "cell_type": "markdown",
   "metadata": {},
   "source": [
    "## Imports"
   ]
  },
  {
   "cell_type": "code",
   "execution_count": 51,
   "metadata": {},
   "outputs": [
    {
     "name": "stdout",
     "output_type": "stream",
     "text": [
      "Populating the interactive namespace from numpy and matplotlib\n"
     ]
    }
   ],
   "source": [
    "import bilby\n",
    "import gwpopulation as gwpop\n",
    "import numpy as np\n",
    "import matplotlib.pyplot as plt\n",
    "import h5py\n",
    "import pandas as pd\n",
    "import corner\n",
    "\n",
    "from astropy import cosmology, units\n",
    "from scipy.interpolate import interp1d\n",
    "\n",
    "from bilby.core.prior import Uniform, LogUniform, PriorDict, Constraint\n",
    "from gwpopulation.models import mass, spin\n",
    "\n",
    "%pylab inline"
   ]
  },
  {
   "cell_type": "markdown",
   "metadata": {},
   "source": [
    "## Viewing the contents of the files\n",
    "\n",
    "- The Default model uses this waveform: `IMRPhenomPv2` - Inspiral-Merger-Ringdown Phenomena v2 \n",
    "- `SEOBNRv3` - Spin-Aligned Effective One Body Numerical Relativity\n",
    "- The Gaussian model uses this waveform: `Overall` which combines the above two models"
   ]
  },
  {
   "cell_type": "code",
   "execution_count": 4,
   "metadata": {},
   "outputs": [
    {
     "data": {
      "text/plain": [
       "<KeysViewHDF5 ['IMRPhenomPv2_posterior', 'Overall_posterior', 'SEOBNRv3_posterior', 'prior']>"
      ]
     },
     "execution_count": 4,
     "metadata": {},
     "output_type": "execute_result"
    }
   ],
   "source": [
    "f = h5py.File('GWTC-1_sample_release/GW150914_GWTC-1.hdf5', 'r')\n",
    "f.keys()"
   ]
  },
  {
   "cell_type": "code",
   "execution_count": 5,
   "metadata": {},
   "outputs": [
    {
     "data": {
      "text/plain": [
       "Index(['costheta_jn', 'luminosity_distance_Mpc', 'right_ascension',\n",
       "       'declination', 'm1_detector_frame_Msun', 'm2_detector_frame_Msun',\n",
       "       'spin1', 'spin2', 'costilt1', 'costilt2'],\n",
       "      dtype='object')"
      ]
     },
     "execution_count": 5,
     "metadata": {},
     "output_type": "execute_result"
    }
   ],
   "source": [
    "df1 = pd.DataFrame(np.array(f['IMRPhenomPv2_posterior']))\n",
    "df1.keys()"
   ]
  },
  {
   "cell_type": "markdown",
   "metadata": {},
   "source": [
    "### Changing the names of some of the parameters to make them work with gwpopulation\n",
    "\n",
    "We do this for `IMRPhenomPv2_posterior` first."
   ]
  },
  {
   "cell_type": "code",
   "execution_count": 52,
   "metadata": {},
   "outputs": [],
   "source": [
    "parameter_translator = dict(\n",
    "    mass_1_det = 'm1_detector_frame_Msun',\n",
    "    mass_2_det = 'm2_detector_frame_Msun',\n",
    "    luminosity_distance = 'luminosity_distance_Mpc',\n",
    "    a_1 = 'spin1',\n",
    "    a_2 = 'spin2',\n",
    "    cos_tilt_1 = 'costilt1',\n",
    "    cos_tilt_2 = 'costilt2')"
   ]
  },
  {
   "cell_type": "code",
   "execution_count": 53,
   "metadata": {
    "scrolled": true
   },
   "outputs": [],
   "source": [
    "posteriors = list()\n",
    "priors = list()\n",
    "\n",
    "file = 'GWTC-1_sample_release/GW{}_GWTC-1.hdf5'\n",
    "\n",
    "events = ['150914', '151012', '151226', '170104', '170608', '170729', '170809', '170814', \n",
    "          '170818', '170823']\n",
    "\n",
    "for event in events:\n",
    "    _posterior = pd.DataFrame()\n",
    "    _prior = pd.DataFrame()\n",
    "    with h5py.File(file.format(event), 'r') as ff:\n",
    "        for my_key, gwtc_key in parameter_translator.items():\n",
    "            _posterior[my_key] = ff['IMRPhenomPv2_posterior'][gwtc_key]\n",
    "            _prior[my_key] = ff['prior'][gwtc_key]\n",
    "    posteriors.append(_posterior)\n",
    "    priors.append(_prior)"
   ]
  },
  {
   "cell_type": "code",
   "execution_count": 55,
   "metadata": {},
   "outputs": [
    {
     "data": {
      "text/html": [
       "<div>\n",
       "<style scoped>\n",
       "    .dataframe tbody tr th:only-of-type {\n",
       "        vertical-align: middle;\n",
       "    }\n",
       "\n",
       "    .dataframe tbody tr th {\n",
       "        vertical-align: top;\n",
       "    }\n",
       "\n",
       "    .dataframe thead th {\n",
       "        text-align: right;\n",
       "    }\n",
       "</style>\n",
       "<table border=\"1\" class=\"dataframe\">\n",
       "  <thead>\n",
       "    <tr style=\"text-align: right;\">\n",
       "      <th></th>\n",
       "      <th>mass_1_det</th>\n",
       "      <th>mass_2_det</th>\n",
       "      <th>luminosity_distance</th>\n",
       "      <th>a_1</th>\n",
       "      <th>a_2</th>\n",
       "      <th>cos_tilt_1</th>\n",
       "      <th>cos_tilt_2</th>\n",
       "    </tr>\n",
       "  </thead>\n",
       "  <tbody>\n",
       "    <tr>\n",
       "      <th>0</th>\n",
       "      <td>69.441911</td>\n",
       "      <td>45.307698</td>\n",
       "      <td>1587.709660</td>\n",
       "      <td>0.710862</td>\n",
       "      <td>0.329071</td>\n",
       "      <td>-0.729440</td>\n",
       "      <td>0.648406</td>\n",
       "    </tr>\n",
       "    <tr>\n",
       "      <th>1</th>\n",
       "      <td>69.719526</td>\n",
       "      <td>45.297547</td>\n",
       "      <td>1361.813595</td>\n",
       "      <td>0.826819</td>\n",
       "      <td>0.786825</td>\n",
       "      <td>0.463214</td>\n",
       "      <td>0.416947</td>\n",
       "    </tr>\n",
       "    <tr>\n",
       "      <th>2</th>\n",
       "      <td>48.511864</td>\n",
       "      <td>39.084524</td>\n",
       "      <td>1786.684917</td>\n",
       "      <td>0.533594</td>\n",
       "      <td>0.114619</td>\n",
       "      <td>-0.841181</td>\n",
       "      <td>-0.534239</td>\n",
       "    </tr>\n",
       "    <tr>\n",
       "      <th>3</th>\n",
       "      <td>21.601124</td>\n",
       "      <td>10.014871</td>\n",
       "      <td>1630.223664</td>\n",
       "      <td>0.033215</td>\n",
       "      <td>0.846267</td>\n",
       "      <td>-0.961511</td>\n",
       "      <td>0.174599</td>\n",
       "    </tr>\n",
       "    <tr>\n",
       "      <th>4</th>\n",
       "      <td>77.740300</td>\n",
       "      <td>42.433984</td>\n",
       "      <td>1157.158151</td>\n",
       "      <td>0.473868</td>\n",
       "      <td>0.056880</td>\n",
       "      <td>0.037607</td>\n",
       "      <td>0.953797</td>\n",
       "    </tr>\n",
       "    <tr>\n",
       "      <th>...</th>\n",
       "      <td>...</td>\n",
       "      <td>...</td>\n",
       "      <td>...</td>\n",
       "      <td>...</td>\n",
       "      <td>...</td>\n",
       "      <td>...</td>\n",
       "      <td>...</td>\n",
       "    </tr>\n",
       "    <tr>\n",
       "      <th>34388</th>\n",
       "      <td>69.609696</td>\n",
       "      <td>29.467936</td>\n",
       "      <td>1526.467081</td>\n",
       "      <td>0.124020</td>\n",
       "      <td>0.694278</td>\n",
       "      <td>-0.562501</td>\n",
       "      <td>0.626963</td>\n",
       "    </tr>\n",
       "    <tr>\n",
       "      <th>34389</th>\n",
       "      <td>34.375390</td>\n",
       "      <td>13.076269</td>\n",
       "      <td>1199.753762</td>\n",
       "      <td>0.028998</td>\n",
       "      <td>0.401757</td>\n",
       "      <td>-0.164754</td>\n",
       "      <td>-0.312023</td>\n",
       "    </tr>\n",
       "    <tr>\n",
       "      <th>34390</th>\n",
       "      <td>57.574401</td>\n",
       "      <td>35.328709</td>\n",
       "      <td>1574.084034</td>\n",
       "      <td>0.213279</td>\n",
       "      <td>0.160484</td>\n",
       "      <td>0.103354</td>\n",
       "      <td>-0.006787</td>\n",
       "    </tr>\n",
       "    <tr>\n",
       "      <th>34391</th>\n",
       "      <td>51.772700</td>\n",
       "      <td>24.741988</td>\n",
       "      <td>1185.847593</td>\n",
       "      <td>0.240349</td>\n",
       "      <td>0.015032</td>\n",
       "      <td>-0.581687</td>\n",
       "      <td>0.952311</td>\n",
       "    </tr>\n",
       "    <tr>\n",
       "      <th>34392</th>\n",
       "      <td>34.012570</td>\n",
       "      <td>15.791306</td>\n",
       "      <td>1696.667724</td>\n",
       "      <td>0.220915</td>\n",
       "      <td>0.115574</td>\n",
       "      <td>0.689564</td>\n",
       "      <td>-0.840330</td>\n",
       "    </tr>\n",
       "  </tbody>\n",
       "</table>\n",
       "<p>34393 rows × 7 columns</p>\n",
       "</div>"
      ],
      "text/plain": [
       "       mass_1_det  mass_2_det  luminosity_distance       a_1       a_2  \\\n",
       "0       69.441911   45.307698          1587.709660  0.710862  0.329071   \n",
       "1       69.719526   45.297547          1361.813595  0.826819  0.786825   \n",
       "2       48.511864   39.084524          1786.684917  0.533594  0.114619   \n",
       "3       21.601124   10.014871          1630.223664  0.033215  0.846267   \n",
       "4       77.740300   42.433984          1157.158151  0.473868  0.056880   \n",
       "...           ...         ...                  ...       ...       ...   \n",
       "34388   69.609696   29.467936          1526.467081  0.124020  0.694278   \n",
       "34389   34.375390   13.076269          1199.753762  0.028998  0.401757   \n",
       "34390   57.574401   35.328709          1574.084034  0.213279  0.160484   \n",
       "34391   51.772700   24.741988          1185.847593  0.240349  0.015032   \n",
       "34392   34.012570   15.791306          1696.667724  0.220915  0.115574   \n",
       "\n",
       "       cos_tilt_1  cos_tilt_2  \n",
       "0       -0.729440    0.648406  \n",
       "1        0.463214    0.416947  \n",
       "2       -0.841181   -0.534239  \n",
       "3       -0.961511    0.174599  \n",
       "4        0.037607    0.953797  \n",
       "...           ...         ...  \n",
       "34388   -0.562501    0.626963  \n",
       "34389   -0.164754   -0.312023  \n",
       "34390    0.103354   -0.006787  \n",
       "34391   -0.581687    0.952311  \n",
       "34392    0.689564   -0.840330  \n",
       "\n",
       "[34393 rows x 7 columns]"
      ]
     },
     "execution_count": 55,
     "metadata": {},
     "output_type": "execute_result"
    }
   ],
   "source": [
    "priors[0]"
   ]
  },
  {
   "cell_type": "code",
   "execution_count": 59,
   "metadata": {},
   "outputs": [
    {
     "data": {
      "text/plain": [
       "[<matplotlib.lines.Line2D at 0x7f85722cdcd0>]"
      ]
     },
     "execution_count": 59,
     "metadata": {},
     "output_type": "execute_result"
    },
    {
     "data": {
      "image/png": "[encoded data removed]",
      "text/plain": [
       "<Figure size 432x288 with 1 Axes>"
      ]
     },
     "metadata": {
      "needs_background": "light"
     },
     "output_type": "display_data"
    }
   ],
   "source": [
    "plt.plot(priors[0]['mass_1_det'], 'o')"
   ]
  },
  {
   "cell_type": "code",
   "execution_count": 4,
   "metadata": {},
   "outputs": [
    {
     "data": {
      "text/html": [
       "<div>\n",
       "<style scoped>\n",
       "    .dataframe tbody tr th:only-of-type {\n",
       "        vertical-align: middle;\n",
       "    }\n",
       "\n",
       "    .dataframe tbody tr th {\n",
       "        vertical-align: top;\n",
       "    }\n",
       "\n",
       "    .dataframe thead th {\n",
       "        text-align: right;\n",
       "    }\n",
       "</style>\n",
       "<table border=\"1\" class=\"dataframe\">\n",
       "  <thead>\n",
       "    <tr style=\"text-align: right;\">\n",
       "      <th></th>\n",
       "      <th>mass_1_det</th>\n",
       "      <th>mass_2_det</th>\n",
       "      <th>luminosity_distance</th>\n",
       "      <th>a_1</th>\n",
       "      <th>a_2</th>\n",
       "      <th>cos_tilt_1</th>\n",
       "      <th>cos_tilt_2</th>\n",
       "    </tr>\n",
       "  </thead>\n",
       "  <tbody>\n",
       "    <tr>\n",
       "      <th>0</th>\n",
       "      <td>43.561878</td>\n",
       "      <td>30.006974</td>\n",
       "      <td>360.963036</td>\n",
       "      <td>0.481479</td>\n",
       "      <td>0.551643</td>\n",
       "      <td>0.012162</td>\n",
       "      <td>0.137818</td>\n",
       "    </tr>\n",
       "    <tr>\n",
       "      <th>1</th>\n",
       "      <td>37.006684</td>\n",
       "      <td>35.723611</td>\n",
       "      <td>538.067256</td>\n",
       "      <td>0.323226</td>\n",
       "      <td>0.225597</td>\n",
       "      <td>0.454174</td>\n",
       "      <td>-0.482123</td>\n",
       "    </tr>\n",
       "    <tr>\n",
       "      <th>2</th>\n",
       "      <td>35.747480</td>\n",
       "      <td>34.267309</td>\n",
       "      <td>378.730720</td>\n",
       "      <td>0.490409</td>\n",
       "      <td>0.229346</td>\n",
       "      <td>-0.069300</td>\n",
       "      <td>-0.493216</td>\n",
       "    </tr>\n",
       "    <tr>\n",
       "      <th>3</th>\n",
       "      <td>45.168491</td>\n",
       "      <td>26.692544</td>\n",
       "      <td>446.937909</td>\n",
       "      <td>0.907815</td>\n",
       "      <td>0.128135</td>\n",
       "      <td>-0.127557</td>\n",
       "      <td>-0.694896</td>\n",
       "    </tr>\n",
       "    <tr>\n",
       "      <th>4</th>\n",
       "      <td>36.308165</td>\n",
       "      <td>35.889917</td>\n",
       "      <td>496.628291</td>\n",
       "      <td>0.144858</td>\n",
       "      <td>0.437158</td>\n",
       "      <td>0.487946</td>\n",
       "      <td>-0.237507</td>\n",
       "    </tr>\n",
       "    <tr>\n",
       "      <th>...</th>\n",
       "      <td>...</td>\n",
       "      <td>...</td>\n",
       "      <td>...</td>\n",
       "      <td>...</td>\n",
       "      <td>...</td>\n",
       "      <td>...</td>\n",
       "      <td>...</td>\n",
       "    </tr>\n",
       "    <tr>\n",
       "      <th>40831</th>\n",
       "      <td>38.577778</td>\n",
       "      <td>31.417375</td>\n",
       "      <td>503.472940</td>\n",
       "      <td>0.268453</td>\n",
       "      <td>0.194847</td>\n",
       "      <td>0.039890</td>\n",
       "      <td>-0.925528</td>\n",
       "    </tr>\n",
       "    <tr>\n",
       "      <th>40832</th>\n",
       "      <td>37.253314</td>\n",
       "      <td>33.156328</td>\n",
       "      <td>478.421089</td>\n",
       "      <td>0.805262</td>\n",
       "      <td>0.823590</td>\n",
       "      <td>0.655502</td>\n",
       "      <td>-0.985068</td>\n",
       "    </tr>\n",
       "    <tr>\n",
       "      <th>40833</th>\n",
       "      <td>40.528821</td>\n",
       "      <td>30.134671</td>\n",
       "      <td>516.916074</td>\n",
       "      <td>0.437801</td>\n",
       "      <td>0.408049</td>\n",
       "      <td>-0.277677</td>\n",
       "      <td>-0.280263</td>\n",
       "    </tr>\n",
       "    <tr>\n",
       "      <th>40834</th>\n",
       "      <td>35.683458</td>\n",
       "      <td>34.021918</td>\n",
       "      <td>464.564783</td>\n",
       "      <td>0.214438</td>\n",
       "      <td>0.819591</td>\n",
       "      <td>-0.557688</td>\n",
       "      <td>-0.119711</td>\n",
       "    </tr>\n",
       "    <tr>\n",
       "      <th>40835</th>\n",
       "      <td>37.076340</td>\n",
       "      <td>34.457461</td>\n",
       "      <td>460.556753</td>\n",
       "      <td>0.325657</td>\n",
       "      <td>0.517163</td>\n",
       "      <td>-0.289037</td>\n",
       "      <td>0.054623</td>\n",
       "    </tr>\n",
       "  </tbody>\n",
       "</table>\n",
       "<p>40836 rows × 7 columns</p>\n",
       "</div>"
      ],
      "text/plain": [
       "       mass_1_det  mass_2_det  luminosity_distance       a_1       a_2  \\\n",
       "0       43.561878   30.006974           360.963036  0.481479  0.551643   \n",
       "1       37.006684   35.723611           538.067256  0.323226  0.225597   \n",
       "2       35.747480   34.267309           378.730720  0.490409  0.229346   \n",
       "3       45.168491   26.692544           446.937909  0.907815  0.128135   \n",
       "4       36.308165   35.889917           496.628291  0.144858  0.437158   \n",
       "...           ...         ...                  ...       ...       ...   \n",
       "40831   38.577778   31.417375           503.472940  0.268453  0.194847   \n",
       "40832   37.253314   33.156328           478.421089  0.805262  0.823590   \n",
       "40833   40.528821   30.134671           516.916074  0.437801  0.408049   \n",
       "40834   35.683458   34.021918           464.564783  0.214438  0.819591   \n",
       "40835   37.076340   34.457461           460.556753  0.325657  0.517163   \n",
       "\n",
       "       cos_tilt_1  cos_tilt_2  \n",
       "0        0.012162    0.137818  \n",
       "1        0.454174   -0.482123  \n",
       "2       -0.069300   -0.493216  \n",
       "3       -0.127557   -0.694896  \n",
       "4        0.487946   -0.237507  \n",
       "...           ...         ...  \n",
       "40831    0.039890   -0.925528  \n",
       "40832    0.655502   -0.985068  \n",
       "40833   -0.277677   -0.280263  \n",
       "40834   -0.557688   -0.119711  \n",
       "40835   -0.289037    0.054623  \n",
       "\n",
       "[40836 rows x 7 columns]"
      ]
     },
     "execution_count": 4,
     "metadata": {},
     "output_type": "execute_result"
    }
   ],
   "source": [
    "posteriors[0]"
   ]
  },
  {
   "cell_type": "markdown",
   "metadata": {},
   "source": [
    "### Some Important Definitions\n",
    "\n",
    "- Individual masses = mi; Individual spins = Si\n",
    "- Total Mass = m1 + m2\n",
    "- Mass ratio (q) = m2/m1, where m1 ≥ m2.\n",
    "- Effective spin which is a combination of the spin components along the orbital angular momentum direction Lˆ, χeff = (S1/m1 + S2/m2)* Lˆ/M\n",
    "- We will also characterize BH spins using the dimensionless spin variables χi = Si/m2i\n",
    "\n",
    "Due to the expansion of spacetime as the gravitational wave is propagating, the frequencies measured by the instrument are redshifted relative to those emitted at the source (Thorne 1983). We capture these effects by distinguishing between masses as they would be measured in the source frame, denoted as above, and the redshifted masses, (1+z)mi, which are measured in the detector frame. \n",
    "\n",
    "- Hence m(source) = mass_det / (1+z)\n",
    "\n",
    "Meanwhile, the amplitude of the wave scales inversely with the luminosity distance (Misner et al. 1973). We use the GW measurement of the luminosity distance to obtain the cosmological redshift and therefore convert between detector-frame and source-frame masses. We assume a fixed Planck 2015 (Planck Collaboration et al. 2016) cosmology throughout to con- vert between a source’s luminosity distance and its redshift (Hogg 1999).\n",
    "\n",
    "To do this, first create a function that takes in luminosity distance and gives back redshift. Here that function is `dl_to_z`."
   ]
  },
  {
   "cell_type": "code",
   "execution_count": 10,
   "metadata": {},
   "outputs": [
    {
     "data": {
      "image/png": "[encoded data removed]",
      "text/plain": [
       "<Figure size 432x288 with 1 Axes>"
      ]
     },
     "metadata": {
      "needs_background": "light"
     },
     "output_type": "display_data"
    }
   ],
   "source": [
    "luminosity_distances = np.linspace(1, 10000, 1000)\n",
    "redshifts = np.array([cosmology.z_at_value(cosmology.Planck15.luminosity_distance, \n",
    "                                                   dl * units.Mpc) for dl in luminosity_distances])\n",
    "dl_to_z = interp1d(luminosity_distances, redshifts)\n",
    "\n",
    "plt.plot(luminosity_distances, redshifts)\n",
    "plt.xlabel('Luminosity Distances (Mpc)')\n",
    "plt.ylabel('Redshifts')\n",
    "plt.show()"
   ]
  },
  {
   "cell_type": "code",
   "execution_count": 19,
   "metadata": {},
   "outputs": [],
   "source": [
    "def chi_eff(a1, a2, m1, m2, cost1, cost2):\n",
    "    chieff = (a1*m1*cost1 + a2*m2*cost2)/(m1+m2)\n",
    "    return chieff"
   ]
  },
  {
   "cell_type": "code",
   "execution_count": 20,
   "metadata": {},
   "outputs": [],
   "source": [
    "for posterior in posteriors:\n",
    "    posterior['redshift'] = dl_to_z(posterior['luminosity_distance'])\n",
    "    posterior['mass_1'] = posterior['mass_1_det'] / (1 + posterior['redshift'])\n",
    "    posterior['mass_2'] = posterior['mass_2_det'] / (1 + posterior['redshift'])\n",
    "    posterior['mass_ratio'] = posterior['mass_2'] / posterior['mass_1']\n",
    "    posterior['chi_eff'] = chi_eff(posterior['a_1'], posterior['a_2'], \n",
    "                                posterior['mass_1'], posterior['mass_2'], \n",
    "                                posterior['cos_tilt_1'], posterior['cos_tilt_2'])"
   ]
  },
  {
   "cell_type": "code",
   "execution_count": 21,
   "metadata": {},
   "outputs": [
    {
     "data": {
      "text/html": [
       "<div>\n",
       "<style scoped>\n",
       "    .dataframe tbody tr th:only-of-type {\n",
       "        vertical-align: middle;\n",
       "    }\n",
       "\n",
       "    .dataframe tbody tr th {\n",
       "        vertical-align: top;\n",
       "    }\n",
       "\n",
       "    .dataframe thead th {\n",
       "        text-align: right;\n",
       "    }\n",
       "</style>\n",
       "<table border=\"1\" class=\"dataframe\">\n",
       "  <thead>\n",
       "    <tr style=\"text-align: right;\">\n",
       "      <th></th>\n",
       "      <th>mass_1_det</th>\n",
       "      <th>mass_2_det</th>\n",
       "      <th>luminosity_distance</th>\n",
       "      <th>a_1</th>\n",
       "      <th>a_2</th>\n",
       "      <th>cos_tilt_1</th>\n",
       "      <th>cos_tilt_2</th>\n",
       "      <th>redshift</th>\n",
       "      <th>mass_1</th>\n",
       "      <th>mass_2</th>\n",
       "      <th>mass_ratio</th>\n",
       "      <th>chi_eff</th>\n",
       "    </tr>\n",
       "  </thead>\n",
       "  <tbody>\n",
       "    <tr>\n",
       "      <th>0</th>\n",
       "      <td>43.561878</td>\n",
       "      <td>30.006974</td>\n",
       "      <td>360.963036</td>\n",
       "      <td>0.481479</td>\n",
       "      <td>0.551643</td>\n",
       "      <td>0.012162</td>\n",
       "      <td>0.137818</td>\n",
       "      <td>0.077120</td>\n",
       "      <td>40.442921</td>\n",
       "      <td>27.858525</td>\n",
       "      <td>0.688836</td>\n",
       "      <td>0.034477</td>\n",
       "    </tr>\n",
       "    <tr>\n",
       "      <th>1</th>\n",
       "      <td>37.006684</td>\n",
       "      <td>35.723611</td>\n",
       "      <td>538.067256</td>\n",
       "      <td>0.323226</td>\n",
       "      <td>0.225597</td>\n",
       "      <td>0.454174</td>\n",
       "      <td>-0.482123</td>\n",
       "      <td>0.112285</td>\n",
       "      <td>33.270867</td>\n",
       "      <td>32.117319</td>\n",
       "      <td>0.965329</td>\n",
       "      <td>0.021272</td>\n",
       "    </tr>\n",
       "    <tr>\n",
       "      <th>2</th>\n",
       "      <td>35.747480</td>\n",
       "      <td>34.267309</td>\n",
       "      <td>378.730720</td>\n",
       "      <td>0.490409</td>\n",
       "      <td>0.229346</td>\n",
       "      <td>-0.069300</td>\n",
       "      <td>-0.493216</td>\n",
       "      <td>0.080717</td>\n",
       "      <td>33.077567</td>\n",
       "      <td>31.707947</td>\n",
       "      <td>0.958594</td>\n",
       "      <td>-0.072715</td>\n",
       "    </tr>\n",
       "    <tr>\n",
       "      <th>3</th>\n",
       "      <td>45.168491</td>\n",
       "      <td>26.692544</td>\n",
       "      <td>446.937909</td>\n",
       "      <td>0.907815</td>\n",
       "      <td>0.128135</td>\n",
       "      <td>-0.127557</td>\n",
       "      <td>-0.694896</td>\n",
       "      <td>0.094378</td>\n",
       "      <td>41.273212</td>\n",
       "      <td>24.390609</td>\n",
       "      <td>0.590955</td>\n",
       "      <td>-0.105859</td>\n",
       "    </tr>\n",
       "    <tr>\n",
       "      <th>4</th>\n",
       "      <td>36.308165</td>\n",
       "      <td>35.889917</td>\n",
       "      <td>496.628291</td>\n",
       "      <td>0.144858</td>\n",
       "      <td>0.437158</td>\n",
       "      <td>0.487946</td>\n",
       "      <td>-0.237507</td>\n",
       "      <td>0.104189</td>\n",
       "      <td>32.882193</td>\n",
       "      <td>32.503410</td>\n",
       "      <td>0.988481</td>\n",
       "      <td>-0.016067</td>\n",
       "    </tr>\n",
       "    <tr>\n",
       "      <th>...</th>\n",
       "      <td>...</td>\n",
       "      <td>...</td>\n",
       "      <td>...</td>\n",
       "      <td>...</td>\n",
       "      <td>...</td>\n",
       "      <td>...</td>\n",
       "      <td>...</td>\n",
       "      <td>...</td>\n",
       "      <td>...</td>\n",
       "      <td>...</td>\n",
       "      <td>...</td>\n",
       "      <td>...</td>\n",
       "    </tr>\n",
       "    <tr>\n",
       "      <th>40831</th>\n",
       "      <td>38.577778</td>\n",
       "      <td>31.417375</td>\n",
       "      <td>503.472940</td>\n",
       "      <td>0.268453</td>\n",
       "      <td>0.194847</td>\n",
       "      <td>0.039890</td>\n",
       "      <td>-0.925528</td>\n",
       "      <td>0.105532</td>\n",
       "      <td>34.895216</td>\n",
       "      <td>28.418332</td>\n",
       "      <td>0.814390</td>\n",
       "      <td>-0.075042</td>\n",
       "    </tr>\n",
       "    <tr>\n",
       "      <th>40832</th>\n",
       "      <td>37.253314</td>\n",
       "      <td>33.156328</td>\n",
       "      <td>478.421089</td>\n",
       "      <td>0.805262</td>\n",
       "      <td>0.823590</td>\n",
       "      <td>0.655502</td>\n",
       "      <td>-0.985068</td>\n",
       "      <td>0.100608</td>\n",
       "      <td>33.847949</td>\n",
       "      <td>30.125472</td>\n",
       "      <td>0.890024</td>\n",
       "      <td>-0.102760</td>\n",
       "    </tr>\n",
       "    <tr>\n",
       "      <th>40833</th>\n",
       "      <td>40.528821</td>\n",
       "      <td>30.134671</td>\n",
       "      <td>516.916074</td>\n",
       "      <td>0.437801</td>\n",
       "      <td>0.408049</td>\n",
       "      <td>-0.277677</td>\n",
       "      <td>-0.280263</td>\n",
       "      <td>0.108162</td>\n",
       "      <td>36.572999</td>\n",
       "      <td>27.193371</td>\n",
       "      <td>0.743537</td>\n",
       "      <td>-0.118494</td>\n",
       "    </tr>\n",
       "    <tr>\n",
       "      <th>40834</th>\n",
       "      <td>35.683458</td>\n",
       "      <td>34.021918</td>\n",
       "      <td>464.564783</td>\n",
       "      <td>0.214438</td>\n",
       "      <td>0.819591</td>\n",
       "      <td>-0.557688</td>\n",
       "      <td>-0.119711</td>\n",
       "      <td>0.097872</td>\n",
       "      <td>32.502395</td>\n",
       "      <td>30.988976</td>\n",
       "      <td>0.953437</td>\n",
       "      <td>-0.109108</td>\n",
       "    </tr>\n",
       "    <tr>\n",
       "      <th>40835</th>\n",
       "      <td>37.076340</td>\n",
       "      <td>34.457461</td>\n",
       "      <td>460.556753</td>\n",
       "      <td>0.325657</td>\n",
       "      <td>0.517163</td>\n",
       "      <td>-0.289037</td>\n",
       "      <td>0.054623</td>\n",
       "      <td>0.097079</td>\n",
       "      <td>33.795510</td>\n",
       "      <td>31.408372</td>\n",
       "      <td>0.929365</td>\n",
       "      <td>-0.035179</td>\n",
       "    </tr>\n",
       "  </tbody>\n",
       "</table>\n",
       "<p>40836 rows × 12 columns</p>\n",
       "</div>"
      ],
      "text/plain": [
       "       mass_1_det  mass_2_det  luminosity_distance       a_1       a_2  \\\n",
       "0       43.561878   30.006974           360.963036  0.481479  0.551643   \n",
       "1       37.006684   35.723611           538.067256  0.323226  0.225597   \n",
       "2       35.747480   34.267309           378.730720  0.490409  0.229346   \n",
       "3       45.168491   26.692544           446.937909  0.907815  0.128135   \n",
       "4       36.308165   35.889917           496.628291  0.144858  0.437158   \n",
       "...           ...         ...                  ...       ...       ...   \n",
       "40831   38.577778   31.417375           503.472940  0.268453  0.194847   \n",
       "40832   37.253314   33.156328           478.421089  0.805262  0.823590   \n",
       "40833   40.528821   30.134671           516.916074  0.437801  0.408049   \n",
       "40834   35.683458   34.021918           464.564783  0.214438  0.819591   \n",
       "40835   37.076340   34.457461           460.556753  0.325657  0.517163   \n",
       "\n",
       "       cos_tilt_1  cos_tilt_2  redshift     mass_1     mass_2  mass_ratio  \\\n",
       "0        0.012162    0.137818  0.077120  40.442921  27.858525    0.688836   \n",
       "1        0.454174   -0.482123  0.112285  33.270867  32.117319    0.965329   \n",
       "2       -0.069300   -0.493216  0.080717  33.077567  31.707947    0.958594   \n",
       "3       -0.127557   -0.694896  0.094378  41.273212  24.390609    0.590955   \n",
       "4        0.487946   -0.237507  0.104189  32.882193  32.503410    0.988481   \n",
       "...           ...         ...       ...        ...        ...         ...   \n",
       "40831    0.039890   -0.925528  0.105532  34.895216  28.418332    0.814390   \n",
       "40832    0.655502   -0.985068  0.100608  33.847949  30.125472    0.890024   \n",
       "40833   -0.277677   -0.280263  0.108162  36.572999  27.193371    0.743537   \n",
       "40834   -0.557688   -0.119711  0.097872  32.502395  30.988976    0.953437   \n",
       "40835   -0.289037    0.054623  0.097079  33.795510  31.408372    0.929365   \n",
       "\n",
       "        chi_eff  \n",
       "0      0.034477  \n",
       "1      0.021272  \n",
       "2     -0.072715  \n",
       "3     -0.105859  \n",
       "4     -0.016067  \n",
       "...         ...  \n",
       "40831 -0.075042  \n",
       "40832 -0.102760  \n",
       "40833 -0.118494  \n",
       "40834 -0.109108  \n",
       "40835 -0.035179  \n",
       "\n",
       "[40836 rows x 12 columns]"
      ]
     },
     "execution_count": 21,
     "metadata": {},
     "output_type": "execute_result"
    }
   ],
   "source": [
    "posteriors[0]"
   ]
  },
  {
   "cell_type": "markdown",
   "metadata": {},
   "source": [
    "## Specify the Model\n",
    "\n",
    "#### Model A - Default (Model C as shown in the table below) \n",
    "\n",
    "Model for mass distribution: Talbot and Thrane 2018\n",
    "\n",
    "- gwpop.models.mass.SinglePeakSmoothedMassDistribution()\n",
    "\n",
    "Beta Distribution described by the model:\n",
    "\n",
    "- gwpop.models.spin.independent_spin_magnitude_beta\n",
    "\n",
    "Spin orientation represented by Talbot and Thrane 2017:\n",
    "\n",
    "- gwpop.models.spin.independent_spin_orientation_gaussian_isotropic\n",
    "\n",
    "\n",
    "Priors:\n",
    "We adopt a prior on the spin magnitude model parameters which are uniform over the values of E[a] and Var[a] which satisfy αa, βa ≥ 1, avoiding numerically challenging singular spin distributions. To describe the spin orientation, we assume that the tilt angles between each black hole spin and the orbital angular momentum, ti, are drawn from a mixture of two distributions: an isotropic component, and a preferentially aligned component, represented by a truncated Gaussian distribution in costi peaked at costi = 1"
   ]
  },
  {
   "cell_type": "code",
   "execution_count": 22,
   "metadata": {},
   "outputs": [],
   "source": [
    "modelA = bilby.hyper.model.Model([mass.SmoothedMassDistribution(),\n",
    "                                  spin.independent_spin_magnitude_beta, \n",
    "                                  spin.independent_spin_orientation_gaussian_isotropic])"
   ]
  },
  {
   "cell_type": "markdown",
   "metadata": {},
   "source": [
    "### Following is a snippet of prior models and prior ranges. The default model is Model C.\n",
    "\n",
    "<img src=\"ModelParameters.png\">\n",
    "\n",
    "<img src=\"SpinParametersA.png\">\n",
    "\n",
    "<font color='green'>Just confirming, the values of alpha and beta are already constrained to be greater than 1 right (by the boundary conditions of other parameters)?</font>"
   ]
  },
  {
   "cell_type": "markdown",
   "metadata": {},
   "source": [
    "<font color='green'>\n",
    "    <h3>Am I doing something wrong with the prior? </h3> \n",
    "    <br>\n",
    "    I need to know why I get a keyerror with alpha_chi_1 while running the sampler.\n",
    "</font>\n",
    "\n",
    "Will something like this help?\n",
    "\n",
    "~~~\n",
    "priors = bilby.prior.PriorDict(dict(\n",
    "    x=bilby.prior.Uniform(0, 1, 'x'),\n",
    "    y=bilby.prior.Cosine('y'),\n",
    "    ratio=bilby.prior.Constraint(minimum=0, maximum=1, name='ratio')),\n",
    "    conversion_function=conv)\n",
    "~~~"
   ]
  },
  {
   "cell_type": "markdown",
   "metadata": {},
   "source": [
    "<font color='green'>What is the right way to use gwpopulation.conversions in this case when we are dealing with mean and variance of beta distribution?</font>"
   ]
  },
  {
   "cell_type": "code",
   "execution_count": 19,
   "metadata": {},
   "outputs": [
    {
     "ename": "TypeError",
     "evalue": "unsupported operand type(s) for /=: 'Uniform' and 'int'",
     "output_type": "error",
     "traceback": [
      "\u001b[0;31m---------------------------------------------------------------------------\u001b[0m",
      "\u001b[0;31mTypeError\u001b[0m                                 Traceback (most recent call last)",
      "\u001b[0;32m<ipython-input-19-5f4bc1b48a00>\u001b[0m in \u001b[0;36m<module>\u001b[0;34m\u001b[0m\n\u001b[1;32m      9\u001b[0m \u001b[0;34m\u001b[0m\u001b[0m\n\u001b[1;32m     10\u001b[0m priorsA['alpha_chi_1'], priorsA['beta_chi_1'], a = mu_chi_var_chi_max_to_alpha_beta_max(\n\u001b[0;32m---> 11\u001b[0;31m                                                 priorsA['mu_chi_1'], priorsA['sigma_chi_1'], priorsA['amax_1'])\n\u001b[0m\u001b[1;32m     12\u001b[0m \u001b[0;34m\u001b[0m\u001b[0m\n\u001b[1;32m     13\u001b[0m \u001b[0;31m# priorsA['alpha_chi_1'] = Constraint(minimum = 1, maximum = 2, latex_label = '$\\\\alpha_{\\\\chi}_1$')\u001b[0m\u001b[0;34m\u001b[0m\u001b[0;34m\u001b[0m\u001b[0;34m\u001b[0m\u001b[0m\n",
      "\u001b[0;32m<ipython-input-18-cdce3902a455>\u001b[0m in \u001b[0;36mmu_chi_var_chi_max_to_alpha_beta_max\u001b[0;34m(mu_chi, var_chi, amax)\u001b[0m\n\u001b[1;32m     62\u001b[0m     \u001b[0mConvert\u001b[0m \u001b[0mbetween\u001b[0m \u001b[0mparameters\u001b[0m \u001b[0;32mfor\u001b[0m \u001b[0mbeta\u001b[0m \u001b[0mdistribution\u001b[0m\u001b[0;34m\u001b[0m\u001b[0;34m\u001b[0m\u001b[0m\n\u001b[1;32m     63\u001b[0m     \"\"\"\n\u001b[0;32m---> 64\u001b[0;31m     \u001b[0mmu_chi\u001b[0m \u001b[0;34m/=\u001b[0m \u001b[0mamax\u001b[0m\u001b[0;34m\u001b[0m\u001b[0;34m\u001b[0m\u001b[0m\n\u001b[0m\u001b[1;32m     65\u001b[0m     \u001b[0mvar_chi\u001b[0m \u001b[0;34m/=\u001b[0m \u001b[0mamax\u001b[0m \u001b[0;34m**\u001b[0m \u001b[0;36m2\u001b[0m\u001b[0;34m\u001b[0m\u001b[0;34m\u001b[0m\u001b[0m\n\u001b[1;32m     66\u001b[0m     \u001b[0malpha\u001b[0m \u001b[0;34m=\u001b[0m \u001b[0;34m(\u001b[0m\u001b[0mmu_chi\u001b[0m \u001b[0;34m**\u001b[0m \u001b[0;36m2\u001b[0m \u001b[0;34m*\u001b[0m \u001b[0;34m(\u001b[0m\u001b[0;36m1\u001b[0m \u001b[0;34m-\u001b[0m \u001b[0mmu_chi\u001b[0m\u001b[0;34m)\u001b[0m \u001b[0;34m-\u001b[0m \u001b[0mmu_chi\u001b[0m \u001b[0;34m*\u001b[0m \u001b[0mvar_chi\u001b[0m\u001b[0;34m)\u001b[0m \u001b[0;34m/\u001b[0m \u001b[0mvar_chi\u001b[0m\u001b[0;34m\u001b[0m\u001b[0;34m\u001b[0m\u001b[0m\n",
      "\u001b[0;31mTypeError\u001b[0m: unsupported operand type(s) for /=: 'Uniform' and 'int'"
     ]
    }
   ],
   "source": [
    "priorsA = PriorDict(conversion_function = gwpop.conversions.convert_to_beta_parameters)\n",
    "\n",
    "priorsA['amax_1'] = 1\n",
    "priorsA['amax_2'] = 1\n",
    "priorsA['mu_chi_1'] = Uniform(minimum=0, maximum=1, latex_label = '$\\\\mu_{\\\\chi_1}$')\n",
    "priorsA['mu_chi_2'] = Uniform(minimum=0, maximum=1, latex_label = '$\\\\mu_{\\\\chi_2}$')\n",
    "priorsA['sigma_chi_1'] = Uniform(minimum=0, maximum=0.25, latex_label = '$\\\\sigma_{\\\\chi_1}$')\n",
    "priorsA['sigma_chi_2'] = Uniform(minimum=0, maximum=0.25, latex_label = '$\\\\sigma_{\\\\chi_2}$')\n",
    "\n",
    "priorsA['alpha_chi_1'], priorsA['beta_chi_1'], a = mu_chi_var_chi_max_to_alpha_beta_max(\n",
    "                                                priorsA['mu_chi_1'], priorsA['sigma_chi_1'], priorsA['amax_1'])\n",
    "\n",
    "# priorsA['alpha_chi_1'] = Constraint(minimum = 1, maximum = 2, latex_label = '$\\\\alpha_{\\\\chi}_1$')\n",
    "# priorsA['alpha_chi_2'] = Constraint(minimum = 1, maximum = 2, latex_label = '$\\\\alpha_{\\\\chi}_2$')\n",
    "# priorsA['beta_chi_1'] = Constraint(minimum = 1, maximum = 2, latex_label = '$\\\\beta_{\\\\chi}_1$')\n",
    "# priorsA['beta_chi_2'] = Constraint(minimum = 1, maximum = 2, latex_label = '$\\\\beta_{\\\\chi}_2$')"
   ]
  },
  {
   "cell_type": "code",
   "execution_count": 13,
   "metadata": {},
   "outputs": [
    {
     "data": {
      "image/png": "[encoded data removed]",
      "text/plain": [
       "<Figure size 396x396 with 4 Axes>"
      ]
     },
     "metadata": {
      "needs_background": "light"
     },
     "output_type": "display_data"
    }
   ],
   "source": [
    "prior_samples = priorsA.sample(10000)\n",
    "prior_samples_array = np.array([prior_samples['mu_chi_1'], prior_samples['sigma_chi_1']]).T\n",
    "corner.corner(prior_samples_array, labels=['mu', 'sigma'])\n",
    "plt.show()"
   ]
  },
  {
   "cell_type": "code",
   "execution_count": 14,
   "metadata": {},
   "outputs": [
    {
     "data": {
      "text/plain": [
       "1"
      ]
     },
     "execution_count": 14,
     "metadata": {},
     "output_type": "execute_result"
    }
   ],
   "source": [
    "priorsA.evaluate_constraints(prior_samples)"
   ]
  },
  {
   "cell_type": "code",
   "execution_count": 15,
   "metadata": {},
   "outputs": [
    {
     "data": {
      "text/plain": [
       "Constraint(minimum=1, maximum=2, name=None, latex_label='$\\\\alpha_{\\\\chi}_1$', unit=None)"
      ]
     },
     "execution_count": 15,
     "metadata": {},
     "output_type": "execute_result"
    }
   ],
   "source": [
    "priorsA['alpha_chi_1']"
   ]
  },
  {
   "cell_type": "code",
   "execution_count": 16,
   "metadata": {},
   "outputs": [
    {
     "data": {
      "text/plain": [
       "{'amax_1': array([1., 1., 1., ..., 1., 1., 1.]),\n",
       " 'amax_2': array([1., 1., 1., ..., 1., 1., 1.]),\n",
       " 'mu_chi_1': array([0.35182948, 0.60324305, 0.24520403, ..., 0.95397099,\n",
       "        0.22845118, 0.85968327]),\n",
       " 'mu_chi_2': array([0.34157225, 0.06087052, 0.90319998, ..., 0.03217047,\n",
       "        0.94248347, 0.53769854]),\n",
       " 'sigma_chi_1': array([2.14502847e-01, 1.35247477e-01, 9.87769610e-05, ...,\n",
       "        4.30999871e-02, 2.07583245e-01, 1.88858513e-01]),\n",
       " 'sigma_chi_2': array([0.1412625 , 0.12100163, 0.20603701, ..., 0.20154739,\n",
       "        0.01385402, 0.17921267])}"
      ]
     },
     "execution_count": 16,
     "metadata": {},
     "output_type": "execute_result"
    }
   ],
   "source": [
    "prior_samples"
   ]
  },
  {
   "cell_type": "code",
   "execution_count": 9,
   "metadata": {},
   "outputs": [],
   "source": [
    "def convert_to_beta_parameters(parameters, remove=False):\n",
    "    \"\"\"\n",
    "    Convert to parameters for standard beta distribution\n",
    "    \"\"\"\n",
    "    added_keys = list()\n",
    "    converted = parameters.copy()\n",
    "\n",
    "    def _convert(suffix):\n",
    "        alpha = f\"alpha_chi{suffix}\"\n",
    "        beta = f\"beta_chi{suffix}\"\n",
    "        mu = f\"mu_chi{suffix}\"\n",
    "        sigma = f\"sigma_chi{suffix}\"\n",
    "        amax = f\"amax{suffix}\"\n",
    "\n",
    "        if alpha not in parameters.keys() or beta not in parameters.keys():\n",
    "            needed = True\n",
    "            print('hi')\n",
    "        elif converted[alpha] is None or converted[beta] is None:\n",
    "            needed = True\n",
    "        else:\n",
    "            needed = False\n",
    "            done = True\n",
    "\n",
    "        if needed:\n",
    "            if mu in converted.keys() and sigma in converted.keys():\n",
    "                print('hu')\n",
    "                done = True\n",
    "                (\n",
    "                    converted[alpha],\n",
    "                    converted[beta],\n",
    "                    _,\n",
    "                ) = mu_chi_var_chi_max_to_alpha_beta_max(parameters[mu], parameters[sigma], parameters[amax])\n",
    "                if remove:\n",
    "                    added_keys.append(alpha)\n",
    "                    added_keys.append(beta)\n",
    "            else:\n",
    "                done = False\n",
    "        return done\n",
    "\n",
    "    done = False\n",
    "\n",
    "    for suffix in [\"\"]:\n",
    "        _done = _convert(suffix)\n",
    "        done = done or _done\n",
    "    if not done:\n",
    "        _ = _convert(\"\")\n",
    "\n",
    "    return converted, added_keys\n",
    "\n",
    "\n",
    "def alpha_beta_max_to_mu_chi_var_chi_max(alpha, beta, amax):\n",
    "    \"\"\"\n",
    "    Convert between parameters for beta distribution\n",
    "    \"\"\"\n",
    "    mu_chi = alpha / (alpha + beta) * amax\n",
    "    var_chi = alpha * beta / ((alpha + beta) ** 2 * (alpha + beta + 1)) * amax ** 2\n",
    "    return mu_chi, var_chi, amax\n",
    "\n",
    "\n",
    "def mu_chi_var_chi_max_to_alpha_beta_max(mu_chi, var_chi, amax):\n",
    "    \"\"\"\n",
    "    Convert between parameters for beta distribution\n",
    "    \"\"\"\n",
    "    mu_chi /= amax\n",
    "    var_chi /= amax ** 2\n",
    "    alpha = (mu_chi ** 2 * (1 - mu_chi) - mu_chi * var_chi) / var_chi\n",
    "    beta = (mu_chi * (1 - mu_chi) ** 2 - (1 - mu_chi) * var_chi) / var_chi\n",
    "    return alpha, beta, amax"
   ]
  },
  {
   "cell_type": "code",
   "execution_count": 54,
   "metadata": {},
   "outputs": [],
   "source": [
    "# def conv(parameters):\n",
    "#     for suffix in [\"_1\", \"_2\"]:\n",
    "#         parameters[\"alpha_chi{suffix}\"\"] = parameters['x'] / parameters['y']\n",
    "#     return parameters\n",
    "\n",
    "# priorsA = bilby.prior.PriorDict(dict(\n",
    "    \n",
    "#     # mass\n",
    "#     alpha = Uniform(minimum=-4, maximum=12, latex_label='$\\\\alpha$'), \n",
    "#     beta = Uniform(minimum=-4, maximum=12, latex_label='$\\\\beta$'), \n",
    "#     mmin = Uniform(minimum=5, maximum=10, latex_label='$m_{\\\\min}$'), \n",
    "#     mmax = Uniform(minimum=30, maximum=100, latex_label='$m_{\\\\max}$'), \n",
    "#     lam = Uniform(minimum=0, maximum=1, latex_label='$\\\\lambda_{m}$'), \n",
    "#     mpp = Uniform(minimum=20, maximum=50, latex_label='$\\\\mu_{m}$'), \n",
    "#     sigpp = Uniform(minimum=0, maximum=10, latex_label='$\\\\sigma_{m}$'), \n",
    "#     delta_m = Uniform(minimum=0, maximum=10, latex_label='$\\\\sigma_{m}$'), \n",
    "\n",
    "# #     spin magnitude\n",
    "#     amax_1 = 1, \n",
    "#     amax_2 = 1, \n",
    "#     mu_chi_1 = Uniform(minimum=0, maximum=1, latex_label = '$\\\\mu_{\\\\chi_1}$'), \n",
    "#     mu_chi_2 = Uniform(minimum=0, maximum=1, latex_label = '$\\\\mu_{\\\\chi_2}$'), \n",
    "#     sigma_chi_1 = Uniform(minimum=0, maximum=0.25, latex_label = '$\\\\sigma_{\\\\chi_1}$'), \n",
    "#     sigma_chi_2 = Uniform(minimum=0, maximum=0.25, latex_label = '$\\\\sigma_{\\\\chi_2}$'), \n",
    "#     alpha_chi_1 = Constraint(minimum = 1, maximum = 1000, latex_label = '$\\\\alpha_{\\\\chi1}$'), \n",
    "#     alpha_chi_2 = Constraint(minimum = 1, maximum = 1000, latex_label = '$\\\\alpha_{\\\\chi2}$'), \n",
    "#     beta_chi_1 = Constraint(minimum = 1, maximum = 1000, latex_label = '$\\\\beta_{\\\\chi1}$'), \n",
    "#     beta_chi_2 = Constraint(minimum = 1, maximum = 1000, latex_label = '$\\\\beta_{\\\\chi2}$'), \n",
    "\n",
    "#     # spin orientation\n",
    "#     xi_spin = Uniform(minimum=0, maximum=1, latex_label='$\\\\xi$'), \n",
    "#     sigma_1 = Uniform(minimum=0, maximum=4, latex_label='$\\\\sigma{1}$'), \n",
    "#     sigma_2 = Uniform(minimum=0, maximum=4, latex_label='$\\\\sigma{2}$')), \n",
    "                               \n",
    "#                                conversion_function = convert_to_beta_parameters)\n",
    "\n",
    "\n",
    "\n",
    "# priorsA = PriorDict(dict(), \n",
    "#                     conversion_function = convert_to_beta_parameters)\n",
    "\n",
    "# # rate\n",
    "# # priorsA['rate'] = LogUniform(minimum=1e-20, maximum=1e20, latex_label='$R$')\n",
    "\n",
    "# # mass\n",
    "# priorsA['alpha'] = Uniform(minimum=-4, maximum=12, latex_label='$\\\\alpha$')\n",
    "# priorsA['beta'] = Uniform(minimum=-4, maximum=12, latex_label='$\\\\beta$')\n",
    "# priorsA['mmin'] = Uniform(minimum=5, maximum=10, latex_label='$m_{\\\\min}$')\n",
    "# priorsA['mmax'] = Uniform(minimum=30, maximum=100, latex_label='$m_{\\\\max}$')\n",
    "# priorsA['lam'] = Uniform(minimum=0, maximum=1, latex_label='$\\\\lambda_{m}$')\n",
    "# priorsA['mpp'] = Uniform(minimum=20, maximum=50, latex_label='$\\\\mu_{m}$')\n",
    "# priorsA['sigpp'] = Uniform(minimum=0, maximum=10, latex_label='$\\\\sigma_{m}$')\n",
    "# priorsA['delta_m'] = Uniform(minimum=0, maximum=10, latex_label='$\\\\sigma_{m}$')\n",
    "\n",
    "# # spin magnitude\n",
    "# priorsA['amax_1'] = 1\n",
    "# priorsA['amax_2'] = 1\n",
    "# priorsA['mu_chi_1'] = Uniform(minimum=0, maximum=1, latex_label = '$\\\\mu_{\\\\chi_1}$')\n",
    "# priorsA['mu_chi_2'] = Uniform(minimum=0, maximum=1, latex_label = '$\\\\mu_{\\\\chi_2}$')\n",
    "# priorsA['sigma_chi_1'] = Uniform(minimum=0, maximum=0.25, latex_label = '$\\\\sigma_{\\\\chi_1}$')\n",
    "# priorsA['sigma_chi_2'] = Uniform(minimum=0, maximum=0.25, latex_label = '$\\\\sigma_{\\\\chi_2}$')\n",
    "\n",
    "# priorsA['alpha_chi_1'], priorsA['beta_chi_1'] = conv(priorsA['mu_chi_1'], priorsA['sigma_chi_1'],\n",
    "# priorsA['amax_1'])\n",
    "    \n",
    "# # priorsA['alpha_chi_1'] = Constraint(minimum = 1, maximum = 1000, latex_label = '$\\\\alpha_{\\\\chi1}$')\n",
    "# # priorsA['alpha_chi_2'] = Constraint(minimum = 1, maximum = 1000, latex_label = '$\\\\alpha_{\\\\chi2}$')\n",
    "# # priorsA['beta_chi_1'] = Constraint(minimum = 1, maximum = 1000, latex_label = '$\\\\beta_{\\\\chi1}$')\n",
    "# # priorsA['beta_chi_2'] = Constraint(minimum = 1, maximum = 1000, latex_label = '$\\\\beta_{\\\\chi2}$')\n",
    "\n",
    "# # spin orientation\n",
    "# priorsA['xi_spin'] = Uniform(minimum=0, maximum=1, latex_label='$\\\\xi$')\n",
    "# priorsA['sigma_1'] = Uniform(minimum=0, maximum=4, latex_label='$\\\\sigma{1}$')\n",
    "# priorsA['sigma_2'] = Uniform(minimum=0, maximum=4, latex_label='$\\\\sigma{2}$')"
   ]
  },
  {
   "cell_type": "code",
   "execution_count": 63,
   "metadata": {
    "scrolled": false
   },
   "outputs": [
    {
     "ename": "KeyError",
     "evalue": "'mu_chi_1'",
     "output_type": "error",
     "traceback": [
      "\u001b[0;31m---------------------------------------------------------------------------\u001b[0m",
      "\u001b[0;31mKeyError\u001b[0m                                  Traceback (most recent call last)",
      "\u001b[0;32m<ipython-input-63-5caa94b9a51d>\u001b[0m in \u001b[0;36m<module>\u001b[0;34m\u001b[0m\n\u001b[1;32m      1\u001b[0m \u001b[0mprior_samples\u001b[0m \u001b[0;34m=\u001b[0m \u001b[0mpriorsA\u001b[0m\u001b[0;34m.\u001b[0m\u001b[0msample\u001b[0m\u001b[0;34m(\u001b[0m\u001b[0;36m10000\u001b[0m\u001b[0;34m)\u001b[0m\u001b[0;34m\u001b[0m\u001b[0;34m\u001b[0m\u001b[0m\n\u001b[0;32m----> 2\u001b[0;31m \u001b[0mprior_samples_array\u001b[0m \u001b[0;34m=\u001b[0m \u001b[0mnp\u001b[0m\u001b[0;34m.\u001b[0m\u001b[0marray\u001b[0m\u001b[0;34m(\u001b[0m\u001b[0;34m[\u001b[0m\u001b[0mprior_samples\u001b[0m\u001b[0;34m[\u001b[0m\u001b[0;34m'mu_chi_1'\u001b[0m\u001b[0;34m]\u001b[0m\u001b[0;34m,\u001b[0m \u001b[0mprior_samples\u001b[0m\u001b[0;34m[\u001b[0m\u001b[0;34m'sigma_chi_1'\u001b[0m\u001b[0;34m]\u001b[0m\u001b[0;34m**\u001b[0m\u001b[0;36m2\u001b[0m\u001b[0;34m]\u001b[0m\u001b[0;34m)\u001b[0m\u001b[0;34m.\u001b[0m\u001b[0mT\u001b[0m\u001b[0;34m\u001b[0m\u001b[0;34m\u001b[0m\u001b[0m\n\u001b[0m\u001b[1;32m      3\u001b[0m \u001b[0mcorner\u001b[0m\u001b[0;34m.\u001b[0m\u001b[0mcorner\u001b[0m\u001b[0;34m(\u001b[0m\u001b[0mprior_samples_array\u001b[0m\u001b[0;34m,\u001b[0m \u001b[0mlabels\u001b[0m \u001b[0;34m=\u001b[0m \u001b[0;34m[\u001b[0m\u001b[0;34m'$\\\\mu_{\\\\chi}$'\u001b[0m\u001b[0;34m,\u001b[0m \u001b[0;34m'$\\\\sigma_{\\\\chi}$'\u001b[0m\u001b[0;34m]\u001b[0m\u001b[0;34m)\u001b[0m\u001b[0;34m\u001b[0m\u001b[0;34m\u001b[0m\u001b[0m\n\u001b[1;32m      4\u001b[0m \u001b[0mplt\u001b[0m\u001b[0;34m.\u001b[0m\u001b[0mshow\u001b[0m\u001b[0;34m(\u001b[0m\u001b[0;34m)\u001b[0m\u001b[0;34m\u001b[0m\u001b[0;34m\u001b[0m\u001b[0m\n",
      "\u001b[0;31mKeyError\u001b[0m: 'mu_chi_1'"
     ]
    }
   ],
   "source": [
    "prior_samples = priorsA.sample(10000)\n",
    "prior_samples_array = np.array([prior_samples['mu_chi_1'], prior_samples['sigma_chi_1']**2]).T\n",
    "corner.corner(prior_samples_array, labels = ['$\\\\mu_{\\\\chi}$', '$\\\\sigma_{\\\\chi}$'])\n",
    "plt.show()"
   ]
  },
  {
   "cell_type": "code",
   "execution_count": 10,
   "metadata": {},
   "outputs": [],
   "source": [
    "priorsA = bilby.prior.PriorDict(dict(\n",
    "    \n",
    "    # mass\n",
    "    alpha = Uniform(minimum=-4, maximum=12, latex_label='$\\\\alpha$'), \n",
    "    beta = Uniform(minimum=-4, maximum=12, latex_label='$\\\\beta$'), \n",
    "    mmin = Uniform(minimum=5, maximum=10, latex_label='$m_{\\\\min}$'), \n",
    "    mmax = Uniform(minimum=30, maximum=100, latex_label='$m_{\\\\max}$'), \n",
    "    lam = Uniform(minimum=0, maximum=1, latex_label='$\\\\lambda_{m}$'), \n",
    "    mpp = Uniform(minimum=20, maximum=50, latex_label='$\\\\mu_{m}$'), \n",
    "    sigpp = Uniform(minimum=0, maximum=10, latex_label='$\\\\sigma_{m}$'), \n",
    "    delta_m = Uniform(minimum=0, maximum=10, latex_label='$\\\\sigma_{m}$'), \n",
    "\n",
    "#     spin magnitude\n",
    "    amax = 1,  \n",
    "    mu_chi = Uniform(minimum=0, maximum=1, latex_label = '$\\\\mu_{\\\\chi_1}$'), \n",
    "#     mu_chi_2 = Uniform(minimum=0, maximum=1, latex_label = '$\\\\mu_{\\\\chi_2}$'), \n",
    "    sigma_chi = Uniform(minimum=0, maximum=0.25, latex_label = '$\\\\sigma_{\\\\chi_1}$'), \n",
    "#     sigma_chi_2 = Uniform(minimum=0, maximum=0.25, latex_label = '$\\\\sigma_{\\\\chi_2}$'), \n",
    "#     alpha_chi = Constraint(minimum = 1, maximum = 1000, latex_label = '$\\\\alpha_{\\\\chi1}$'), \n",
    "#     alpha_chi_2 = Constraint(minimum = 1, maximum = 1000, latex_label = '$\\\\alpha_{\\\\chi2}$'), \n",
    "#     beta_chi = Constraint(minimum = 1, maximum = 1000, latex_label = '$\\\\beta_{\\\\chi1}$'), \n",
    "#     beta_chi_2 = Constraint(minimum = 1, maximum = 1000, latex_label = '$\\\\beta_{\\\\chi2}$'), \n",
    "\n",
    "    # spin orientation\n",
    "    xi_spin = Uniform(minimum=0, maximum=1, latex_label='$\\\\xi$'), \n",
    "    sigma_1 = Uniform(minimum=0, maximum=4, latex_label='$\\\\sigma{1}$'), \n",
    "    sigma_2 = Uniform(minimum=0, maximum=4, latex_label='$\\\\sigma{2}$')), \n",
    "                               \n",
    "                               conversion_function = convert_to_beta_parameters)\n"
   ]
  },
  {
   "cell_type": "code",
   "execution_count": 11,
   "metadata": {},
   "outputs": [
    {
     "name": "stdout",
     "output_type": "stream",
     "text": [
      "hi\n",
      "hu\n"
     ]
    },
    {
     "data": {
      "image/png": "[encoded data removed]",
      "text/plain": [
       "<Figure size 396x396 with 4 Axes>"
      ]
     },
     "metadata": {
      "needs_background": "light"
     },
     "output_type": "display_data"
    }
   ],
   "source": [
    "prior_samples = priorsA.sample(10000)\n",
    "prior_samples_array = np.array([prior_samples['mu_chi'], prior_samples['sigma_chi']**2]).T\n",
    "corner.corner(prior_samples_array, labels = ['$\\\\mu_{\\\\chi}$', '$\\\\sigma_{\\\\chi}$'])\n",
    "plt.show()"
   ]
  },
  {
   "cell_type": "code",
   "execution_count": 49,
   "metadata": {},
   "outputs": [],
   "source": [
    "# def conv(mu_chi, var_chi, amax):\n",
    "#     mu_chi /= amax\n",
    "#     var_chi /= amax ** 2\n",
    "#     alpha = (mu_chi ** 2 * (1 - mu_chi) - mu_chi * var_chi) / var_chi\n",
    "#     beta = (mu_chi * (1 - mu_chi) ** 2 - (1 - mu_chi) * var_chi) / var_chi\n",
    "#     return alpha, beta"
   ]
  },
  {
   "cell_type": "code",
   "execution_count": 47,
   "metadata": {},
   "outputs": [
    {
     "data": {
      "text/plain": [
       "{'alpha': array([-3.55085504,  3.40800609, -0.72341774, ...,  5.11984224,\n",
       "         7.85958875,  0.94987944]),\n",
       " 'beta': array([ 6.41948246,  3.56233538, -3.8645112 , ..., 10.21729049,\n",
       "         8.37493   ,  0.09222859]),\n",
       " 'mmin': array([7.10951833, 5.7521077 , 9.47404911, ..., 8.17737996,\n",
       "        6.7367078 , 9.98794494]),\n",
       " 'mmax': array([59.75589998, 77.9770466 , 38.76445791, ..., 31.51835834,\n",
       "        97.90981044, 93.52590847]),\n",
       " 'lam': array([0.74422799, 0.3602063 , 0.46022576, ..., 0.05637886,\n",
       "        0.851417  , 0.83606191]),\n",
       " 'mpp': array([26.50981156, 38.186211  , 44.6852682 , ..., 49.57252453,\n",
       "        42.58001828, 40.34890913]),\n",
       " 'sigpp': array([5.33933619, 2.82258367, 4.86992904, ..., 9.71659314,\n",
       "        5.19377797, 0.6349404 ]),\n",
       " 'delta_m': array([9.62598941, 4.80479433, 6.75038623, ..., 6.20298927,\n",
       "        3.15003746, 9.03937535]),\n",
       " 'amax_1': array([1., 1., 1., ..., 1., 1., 1.]),\n",
       " 'amax_2': array([1., 1., 1., ..., 1., 1., 1.]),\n",
       " 'mu_chi_1': array([0.5438232 , 0.001375  , 0.39060834, ..., 0.39172657,\n",
       "        0.66200982, 0.13283131]),\n",
       " 'mu_chi_2': array([0.71017989, 0.08883628, 0.1210526 , ..., 0.73475053,\n",
       "        0.98129425, 0.5153909 ]),\n",
       " 'sigma_chi_1': array([0.18358059, 0.11050838, 0.03871485, ..., 0.01968363,\n",
       "        0.08306329, 0.01822759]),\n",
       " 'sigma_chi_2': array([0.22663333, 0.1223189 , 0.13566447, ..., 0.06910873,\n",
       "        0.2275614 , 0.00819784]),\n",
       " 'xi_spin': array([0.85706349, 0.42222562, 0.25073252, ..., 0.79831659,\n",
       "        0.83895984, 0.85457005]),\n",
       " 'sigma_1': array([1.09011553, 2.42167571, 0.93607224, ..., 2.91938918,\n",
       "        1.8626685 , 0.65890453]),\n",
       " 'sigma_2': array([2.66384293, 1.65922353, 2.03903   , ..., 3.16857622,\n",
       "        1.52128494, 0.98659314])}"
      ]
     },
     "execution_count": 47,
     "metadata": {},
     "output_type": "execute_result"
    }
   ],
   "source": [
    "# prior_samples = priorsA.sample(10000)\n",
    "# prior_samples\n",
    "# # prior_samples_array = np.array([prior_samples['alpha_chi_1'], prior_samples['alpha_chi_2']]).T\n",
    "# # corner.corner(prior_samples_array, labels=['mu', 'sigma'])\n",
    "# # plt.show()"
   ]
  },
  {
   "cell_type": "code",
   "execution_count": 81,
   "metadata": {},
   "outputs": [
    {
     "name": "stderr",
     "output_type": "stream",
     "text": [
      "15:50 bilby WARNING : Cannot import cupy, falling back to numpy.\n",
      "15:50 bilby INFO    : No prior values provided, defaulting to 1.\n"
     ]
    }
   ],
   "source": [
    "likelihoodA = gwpop.hyperpe.HyperparameterLikelihood(posteriors=posteriors, \n",
    "                                                     hyper_prior=modelA, \n",
    "                                                     conversion_function = convert_to_beta_parameters)"
   ]
  },
  {
   "cell_type": "code",
   "execution_count": 82,
   "metadata": {},
   "outputs": [
    {
     "name": "stdout",
     "output_type": "stream",
     "text": [
      "hi\n",
      "hu\n"
     ]
    },
    {
     "name": "stderr",
     "output_type": "stream",
     "text": [
      "/home/deepnika/anaconda3/envs/bilbyenv/lib/python3.7/site-packages/gwpopulation-0.5.0-py3.7.egg/gwpopulation/models/mass.py:434: RuntimeWarning: overflow encountered in exp\n",
      "  window[smoothing_region] = 1 / (xp.exp(exponent) + 1)\n"
     ]
    },
    {
     "data": {
      "text/plain": [
       "-110.94861601505495"
      ]
     },
     "execution_count": 82,
     "metadata": {},
     "output_type": "execute_result"
    }
   ],
   "source": [
    "likelihoodA.parameters.update(priorsA.sample())\n",
    "likelihoodA.log_likelihood_ratio()"
   ]
  },
  {
   "cell_type": "code",
   "execution_count": 83,
   "metadata": {},
   "outputs": [
    {
     "data": {
      "text/plain": [
       "{'alpha': 5.34151251969673,\n",
       " 'beta': 8.881536686442852,\n",
       " 'mmin': 6.124592505619419,\n",
       " 'mmax': 90.66029761378196,\n",
       " 'lam': 0.35460129534356355,\n",
       " 'mpp': 46.05257189452252,\n",
       " 'sigpp': 0.44462768318188406,\n",
       " 'delta_m': 5.546649647924989,\n",
       " 'amax_1': 1.0,\n",
       " 'amax_2': 1.0,\n",
       " 'mu_chi_1': 0.31552178748239124,\n",
       " 'mu_chi_2': 0.9382195439424111,\n",
       " 'sigma_chi_1': 0.14971300781643337,\n",
       " 'sigma_chi_2': 0.04434578209600415,\n",
       " 'xi_spin': 0.7363273031949286,\n",
       " 'sigma_1': 3.0659464696688077,\n",
       " 'sigma_2': 3.120052165735451,\n",
       " 'alpha_chi_1': 0.06148470960785457,\n",
       " 'beta_chi_1': 0.09942648845575826,\n",
       " 'alpha_chi_2': 0.005597712252721128,\n",
       " 'beta_chi_2': 0.006913998489175552,\n",
       " 'amax': 1.0,\n",
       " 'mu_chi': 0.30989383324708797,\n",
       " 'sigma_chi': 0.2407176807067459,\n",
       " 'alpha_chi': 2.065697729019037,\n",
       " 'beta_chi': 6.8134867626849935}"
      ]
     },
     "execution_count": 83,
     "metadata": {},
     "output_type": "execute_result"
    }
   ],
   "source": [
    "likelihoodA.parameters"
   ]
  },
  {
   "cell_type": "code",
   "execution_count": 30,
   "metadata": {
    "scrolled": false
   },
   "outputs": [
    {
     "ename": "NameError",
     "evalue": "name 'likelihoodA' is not defined",
     "output_type": "error",
     "traceback": [
      "\u001b[0;31m---------------------------------------------------------------------------\u001b[0m",
      "\u001b[0;31mNameError\u001b[0m                                 Traceback (most recent call last)",
      "\u001b[0;32m<ipython-input-30-8a360f48d8cc>\u001b[0m in \u001b[0;36m<module>\u001b[0;34m\u001b[0m\n\u001b[0;32m----> 1\u001b[0;31m resultA = bilby.run_sampler(likelihood = likelihoodA, priors = priorsA, sampler='emcee', nlive=5, \n\u001b[0m\u001b[1;32m      2\u001b[0m                             \u001b[0mlabel\u001b[0m\u001b[0;34m=\u001b[0m\u001b[0;34m'Default'\u001b[0m\u001b[0;34m,\u001b[0m \u001b[0moutdir\u001b[0m \u001b[0;34m=\u001b[0m \u001b[0;34m'Default'\u001b[0m\u001b[0;34m,\u001b[0m \u001b[0mclean\u001b[0m \u001b[0;34m=\u001b[0m \u001b[0;32mTrue\u001b[0m\u001b[0;34m,\u001b[0m\u001b[0;34m\u001b[0m\u001b[0;34m\u001b[0m\u001b[0m\n\u001b[1;32m      3\u001b[0m                            conversion_function=bilby.gw.conversion.generate_all_bbh_parameters)\n",
      "\u001b[0;31mNameError\u001b[0m: name 'likelihoodA' is not defined"
     ]
    }
   ],
   "source": [
    "resultA = bilby.run_sampler(likelihood = likelihoodA, priors = priorsA, sampler='emcee', nlive=5, \n",
    "                            label='Default', outdir = 'Default', clean = True, \n",
    "                           conversion_function=bilby.gw.conversion.generate_all_bbh_parameters)"
   ]
  },
  {
   "cell_type": "code",
   "execution_count": null,
   "metadata": {},
   "outputs": [],
   "source": []
  },
  {
   "cell_type": "markdown",
   "metadata": {},
   "source": [
    "# Part 2"
   ]
  },
  {
   "cell_type": "code",
   "execution_count": 12,
   "metadata": {},
   "outputs": [],
   "source": [
    "import bilby\n",
    "import gwpopulation as gwpop\n",
    "import numpy as np\n",
    "import matplotlib.pyplot as plt\n",
    "import h5py\n",
    "import pandas as pd\n",
    "import corner\n",
    "\n",
    "from astropy import cosmology, units\n",
    "from scipy.interpolate import interp1d\n",
    "from scipy.special import erf\n",
    "\n",
    "from bilby.core.prior import Uniform, LogUniform, PriorDict, Constraint\n",
    "from gwpopulation.models import mass, spin"
   ]
  },
  {
   "cell_type": "markdown",
   "metadata": {},
   "source": [
    "# Model B - Gaussian\n",
    "\n",
    "This paper uses `Overall_posterior`."
   ]
  },
  {
   "cell_type": "code",
   "execution_count": 5,
   "metadata": {},
   "outputs": [],
   "source": [
    "parameter_translator = dict(\n",
    "    mass_1_det = 'm1_detector_frame_Msun',\n",
    "    mass_2_det = 'm2_detector_frame_Msun',\n",
    "    luminosity_distance = 'luminosity_distance_Mpc',\n",
    "    a_1 = 'spin1',\n",
    "    a_2 = 'spin2',\n",
    "    cos_tilt_1 = 'costilt1',\n",
    "    cos_tilt_2 = 'costilt2')"
   ]
  },
  {
   "cell_type": "code",
   "execution_count": 6,
   "metadata": {},
   "outputs": [],
   "source": [
    "file = 'GWTC-1_sample_release/GW{}_GWTC-1.hdf5'\n",
    "\n",
    "events = ['150914', '151012', '151226', '170104', '170608', '170729', '170809', '170814', \n",
    "          '170818', '170823']\n",
    "\n",
    "posteriorsB = list()\n",
    "\n",
    "for event in events:\n",
    "    _posterior = pd.DataFrame()\n",
    "    _prior = pd.DataFrame()\n",
    "    with h5py.File(file.format(event), 'r') as ff:\n",
    "        for my_key, gwtc_key in parameter_translator.items():\n",
    "            _posterior[my_key] = ff['Overall_posterior'][gwtc_key]\n",
    "    posteriorsB.append(_posterior)"
   ]
  },
  {
   "cell_type": "code",
   "execution_count": 7,
   "metadata": {},
   "outputs": [],
   "source": [
    "luminosity_distances = np.linspace(1, 10000, 1000)\n",
    "redshifts = np.array([cosmology.z_at_value(cosmology.Planck15.luminosity_distance, \n",
    "                                                   dl * units.Mpc) for dl in luminosity_distances])\n",
    "dl_to_z = interp1d(luminosity_distances, redshifts)"
   ]
  },
  {
   "cell_type": "code",
   "execution_count": 8,
   "metadata": {},
   "outputs": [],
   "source": [
    "def chi_eff(a1, a2, q, cost1, cost2):\n",
    "    chieff = (a1*cost1 + a2*q*cost2)/(1+q)\n",
    "    return chieff"
   ]
  },
  {
   "cell_type": "code",
   "execution_count": 9,
   "metadata": {},
   "outputs": [],
   "source": [
    "for posterior in posteriorsB:\n",
    "    posterior['redshift'] = dl_to_z(posterior['luminosity_distance'])\n",
    "    posterior['mass_1'] = posterior['mass_1_det'] / (1 + posterior['redshift'])\n",
    "    posterior['mass_2'] = posterior['mass_2_det'] / (1 + posterior['redshift'])\n",
    "    posterior['mass_ratio'] = posterior['mass_2'] / posterior['mass_1']\n",
    "    posterior['chi_eff'] = chi_eff(posterior['a_1'], posterior['a_2'], posterior['mass_ratio'], \n",
    "                                   posterior['cos_tilt_1'], posterior['cos_tilt_2'])"
   ]
  },
  {
   "cell_type": "code",
   "execution_count": 10,
   "metadata": {
    "scrolled": false
   },
   "outputs": [
    {
     "data": {
      "text/html": [
       "<div>\n",
       "<style scoped>\n",
       "    .dataframe tbody tr th:only-of-type {\n",
       "        vertical-align: middle;\n",
       "    }\n",
       "\n",
       "    .dataframe tbody tr th {\n",
       "        vertical-align: top;\n",
       "    }\n",
       "\n",
       "    .dataframe thead th {\n",
       "        text-align: right;\n",
       "    }\n",
       "</style>\n",
       "<table border=\"1\" class=\"dataframe\">\n",
       "  <thead>\n",
       "    <tr style=\"text-align: right;\">\n",
       "      <th></th>\n",
       "      <th>mass_1_det</th>\n",
       "      <th>mass_2_det</th>\n",
       "      <th>luminosity_distance</th>\n",
       "      <th>a_1</th>\n",
       "      <th>a_2</th>\n",
       "      <th>cos_tilt_1</th>\n",
       "      <th>cos_tilt_2</th>\n",
       "      <th>redshift</th>\n",
       "      <th>mass_1</th>\n",
       "      <th>mass_2</th>\n",
       "      <th>mass_ratio</th>\n",
       "      <th>chi_eff</th>\n",
       "    </tr>\n",
       "  </thead>\n",
       "  <tbody>\n",
       "    <tr>\n",
       "      <th>0</th>\n",
       "      <td>40.823686</td>\n",
       "      <td>26.440697</td>\n",
       "      <td>429.439630</td>\n",
       "      <td>0.720602</td>\n",
       "      <td>0.536915</td>\n",
       "      <td>-0.591917</td>\n",
       "      <td>0.188768</td>\n",
       "      <td>0.090895</td>\n",
       "      <td>37.422188</td>\n",
       "      <td>24.237614</td>\n",
       "      <td>0.647680</td>\n",
       "      <td>-0.219031</td>\n",
       "    </tr>\n",
       "    <tr>\n",
       "      <th>1</th>\n",
       "      <td>34.626875</td>\n",
       "      <td>34.212308</td>\n",
       "      <td>337.154490</td>\n",
       "      <td>0.238156</td>\n",
       "      <td>0.410068</td>\n",
       "      <td>-0.076179</td>\n",
       "      <td>-0.517005</td>\n",
       "      <td>0.072273</td>\n",
       "      <td>32.292953</td>\n",
       "      <td>31.906329</td>\n",
       "      <td>0.988028</td>\n",
       "      <td>-0.114491</td>\n",
       "    </tr>\n",
       "    <tr>\n",
       "      <th>2</th>\n",
       "      <td>36.142271</td>\n",
       "      <td>33.174642</td>\n",
       "      <td>487.316326</td>\n",
       "      <td>0.297883</td>\n",
       "      <td>0.187064</td>\n",
       "      <td>-0.335351</td>\n",
       "      <td>-0.821574</td>\n",
       "      <td>0.102359</td>\n",
       "      <td>32.786286</td>\n",
       "      <td>30.094216</td>\n",
       "      <td>0.917890</td>\n",
       "      <td>-0.125640</td>\n",
       "    </tr>\n",
       "    <tr>\n",
       "      <th>3</th>\n",
       "      <td>41.569619</td>\n",
       "      <td>31.876132</td>\n",
       "      <td>488.540224</td>\n",
       "      <td>0.347413</td>\n",
       "      <td>0.059700</td>\n",
       "      <td>0.109706</td>\n",
       "      <td>-0.500742</td>\n",
       "      <td>0.102600</td>\n",
       "      <td>37.701443</td>\n",
       "      <td>28.909964</td>\n",
       "      <td>0.766813</td>\n",
       "      <td>0.008597</td>\n",
       "    </tr>\n",
       "    <tr>\n",
       "      <th>4</th>\n",
       "      <td>37.869125</td>\n",
       "      <td>33.759950</td>\n",
       "      <td>463.788715</td>\n",
       "      <td>0.147665</td>\n",
       "      <td>0.086681</td>\n",
       "      <td>-0.761297</td>\n",
       "      <td>0.988754</td>\n",
       "      <td>0.097718</td>\n",
       "      <td>34.498038</td>\n",
       "      <td>30.754659</td>\n",
       "      <td>0.891490</td>\n",
       "      <td>-0.019038</td>\n",
       "    </tr>\n",
       "    <tr>\n",
       "      <th>...</th>\n",
       "      <td>...</td>\n",
       "      <td>...</td>\n",
       "      <td>...</td>\n",
       "      <td>...</td>\n",
       "      <td>...</td>\n",
       "      <td>...</td>\n",
       "      <td>...</td>\n",
       "      <td>...</td>\n",
       "      <td>...</td>\n",
       "      <td>...</td>\n",
       "      <td>...</td>\n",
       "      <td>...</td>\n",
       "    </tr>\n",
       "    <tr>\n",
       "      <th>8345</th>\n",
       "      <td>40.383795</td>\n",
       "      <td>31.959753</td>\n",
       "      <td>460.559361</td>\n",
       "      <td>0.088515</td>\n",
       "      <td>0.577331</td>\n",
       "      <td>0.870492</td>\n",
       "      <td>-0.264759</td>\n",
       "      <td>0.097079</td>\n",
       "      <td>36.810276</td>\n",
       "      <td>29.131669</td>\n",
       "      <td>0.791400</td>\n",
       "      <td>-0.024515</td>\n",
       "    </tr>\n",
       "    <tr>\n",
       "      <th>8346</th>\n",
       "      <td>38.164225</td>\n",
       "      <td>35.639218</td>\n",
       "      <td>449.985818</td>\n",
       "      <td>0.122339</td>\n",
       "      <td>0.190940</td>\n",
       "      <td>0.783595</td>\n",
       "      <td>0.267030</td>\n",
       "      <td>0.094983</td>\n",
       "      <td>34.853703</td>\n",
       "      <td>32.547725</td>\n",
       "      <td>0.933838</td>\n",
       "      <td>0.074193</td>\n",
       "    </tr>\n",
       "    <tr>\n",
       "      <th>8347</th>\n",
       "      <td>37.670359</td>\n",
       "      <td>34.004716</td>\n",
       "      <td>513.756334</td>\n",
       "      <td>0.439794</td>\n",
       "      <td>0.470269</td>\n",
       "      <td>-0.208949</td>\n",
       "      <td>0.113237</td>\n",
       "      <td>0.107545</td>\n",
       "      <td>34.012487</td>\n",
       "      <td>30.702786</td>\n",
       "      <td>0.902692</td>\n",
       "      <td>-0.023033</td>\n",
       "    </tr>\n",
       "    <tr>\n",
       "      <th>8348</th>\n",
       "      <td>36.746741</td>\n",
       "      <td>35.672009</td>\n",
       "      <td>399.113830</td>\n",
       "      <td>0.163340</td>\n",
       "      <td>0.423884</td>\n",
       "      <td>0.160240</td>\n",
       "      <td>0.171165</td>\n",
       "      <td>0.084824</td>\n",
       "      <td>33.873472</td>\n",
       "      <td>32.882775</td>\n",
       "      <td>0.970753</td>\n",
       "      <td>0.049020</td>\n",
       "    </tr>\n",
       "    <tr>\n",
       "      <th>8349</th>\n",
       "      <td>36.593879</td>\n",
       "      <td>35.531190</td>\n",
       "      <td>356.054689</td>\n",
       "      <td>0.269740</td>\n",
       "      <td>0.290810</td>\n",
       "      <td>0.706934</td>\n",
       "      <td>-0.714106</td>\n",
       "      <td>0.076123</td>\n",
       "      <td>34.005300</td>\n",
       "      <td>33.017783</td>\n",
       "      <td>0.970960</td>\n",
       "      <td>-0.005556</td>\n",
       "    </tr>\n",
       "  </tbody>\n",
       "</table>\n",
       "<p>8350 rows × 12 columns</p>\n",
       "</div>"
      ],
      "text/plain": [
       "      mass_1_det  mass_2_det  luminosity_distance       a_1       a_2  \\\n",
       "0      40.823686   26.440697           429.439630  0.720602  0.536915   \n",
       "1      34.626875   34.212308           337.154490  0.238156  0.410068   \n",
       "2      36.142271   33.174642           487.316326  0.297883  0.187064   \n",
       "3      41.569619   31.876132           488.540224  0.347413  0.059700   \n",
       "4      37.869125   33.759950           463.788715  0.147665  0.086681   \n",
       "...          ...         ...                  ...       ...       ...   \n",
       "8345   40.383795   31.959753           460.559361  0.088515  0.577331   \n",
       "8346   38.164225   35.639218           449.985818  0.122339  0.190940   \n",
       "8347   37.670359   34.004716           513.756334  0.439794  0.470269   \n",
       "8348   36.746741   35.672009           399.113830  0.163340  0.423884   \n",
       "8349   36.593879   35.531190           356.054689  0.269740  0.290810   \n",
       "\n",
       "      cos_tilt_1  cos_tilt_2  redshift     mass_1     mass_2  mass_ratio  \\\n",
       "0      -0.591917    0.188768  0.090895  37.422188  24.237614    0.647680   \n",
       "1      -0.076179   -0.517005  0.072273  32.292953  31.906329    0.988028   \n",
       "2      -0.335351   -0.821574  0.102359  32.786286  30.094216    0.917890   \n",
       "3       0.109706   -0.500742  0.102600  37.701443  28.909964    0.766813   \n",
       "4      -0.761297    0.988754  0.097718  34.498038  30.754659    0.891490   \n",
       "...          ...         ...       ...        ...        ...         ...   \n",
       "8345    0.870492   -0.264759  0.097079  36.810276  29.131669    0.791400   \n",
       "8346    0.783595    0.267030  0.094983  34.853703  32.547725    0.933838   \n",
       "8347   -0.208949    0.113237  0.107545  34.012487  30.702786    0.902692   \n",
       "8348    0.160240    0.171165  0.084824  33.873472  32.882775    0.970753   \n",
       "8349    0.706934   -0.714106  0.076123  34.005300  33.017783    0.970960   \n",
       "\n",
       "       chi_eff  \n",
       "0    -0.219031  \n",
       "1    -0.114491  \n",
       "2    -0.125640  \n",
       "3     0.008597  \n",
       "4    -0.019038  \n",
       "...        ...  \n",
       "8345 -0.024515  \n",
       "8346  0.074193  \n",
       "8347 -0.023033  \n",
       "8348  0.049020  \n",
       "8349 -0.005556  \n",
       "\n",
       "[8350 rows x 12 columns]"
      ]
     },
     "execution_count": 10,
     "metadata": {},
     "output_type": "execute_result"
    }
   ],
   "source": [
    "posteriorsB[0]"
   ]
  },
  {
   "cell_type": "markdown",
   "metadata": {},
   "source": [
    "### Sampling effective spins ($\\chi_{eff}$) from a truncated Gaussian\n",
    "\n",
    "Effective spins are drawn from a simple truncated Gaussian.\n",
    "\n",
    "<img src=\"chieff.png\">\n"
   ]
  },
  {
   "cell_type": "code",
   "execution_count": 29,
   "metadata": {},
   "outputs": [],
   "source": [
    "def truncated_gaussian(dataset, mu, var):\n",
    "    norm = (2/(np.pi*var))**0.5 * (erf((1-mu)/(2*var)**0.5) + erf((1+mu)/(2*var)**0.5))**(-1)\n",
    "    prob = np.exp(-(dataset['chi_eff'] - mu)**2 / (2 * var))\n",
    "    return norm*prob"
   ]
  },
  {
   "cell_type": "code",
   "execution_count": 30,
   "metadata": {},
   "outputs": [],
   "source": [
    "chieff_prior = PriorDict(dict(mu = Uniform(minimum = -1, maximum = 1, latex_label = \"$\\\\mu$\"),\n",
    "                              var = Uniform(minimum = 0, maximum = 1, latex_label = \"$\\\\sigma^2$\")))"
   ]
  },
  {
   "cell_type": "code",
   "execution_count": 31,
   "metadata": {},
   "outputs": [
    {
     "name": "stderr",
     "output_type": "stream",
     "text": [
      "05:26 bilby WARNING : Cannot import cupy, falling back to numpy.\n",
      "05:26 bilby INFO    : No prior values provided, defaulting to 1.\n"
     ]
    }
   ],
   "source": [
    "likelihoodB = gwpop.hyperpe.HyperparameterLikelihood(posteriors = posteriorsB,\n",
    "                                                     hyper_prior = truncated_gaussian)"
   ]
  },
  {
   "cell_type": "code",
   "execution_count": 32,
   "metadata": {},
   "outputs": [],
   "source": [
    "likelihoodB.parameters.update(chieff_prior.sample())"
   ]
  },
  {
   "cell_type": "code",
   "execution_count": 38,
   "metadata": {},
   "outputs": [
    {
     "name": "stderr",
     "output_type": "stream",
     "text": [
      "05:36 bilby INFO    : Running for label 'Default', output will be saved to 'Default'\n",
      "05:36 bilby INFO    : Search parameters:\n",
      "05:36 bilby INFO    :   mu = Uniform(minimum=-1, maximum=1, name=None, latex_label='$\\\\mu$', unit=None, boundary=None)\n",
      "05:36 bilby INFO    :   var = Uniform(minimum=0, maximum=1, name=None, latex_label='$\\\\sigma^2$', unit=None, boundary=None)\n",
      "05:36 bilby INFO    : Single likelihood evaluation took 1.462e-03 s\n"
     ]
    },
    {
     "name": "stdout",
     "output_type": "stream",
     "text": [
      "\r",
      "0it [00:00, ?it/s]"
     ]
    },
    {
     "name": "stderr",
     "output_type": "stream",
     "text": [
      "05:36 bilby INFO    : Using sampler Dynesty with kwargs {'bound': 'multi', 'sample': 'rwalk', 'verbose': True, 'periodic': None, 'reflective': None, 'check_point_delta_t': 600, 'nlive': 150, 'first_update': None, 'walks': 100, 'npdim': None, 'rstate': None, 'queue_size': 1, 'pool': None, 'use_pool': None, 'live_points': None, 'logl_args': None, 'logl_kwargs': None, 'ptform_args': None, 'ptform_kwargs': None, 'enlarge': 1.5, 'bootstrap': None, 'vol_dec': 0.5, 'vol_check': 8.0, 'facc': 0.2, 'slices': 5, 'update_interval': 90, 'print_func': <bound method Dynesty._print_func of <bilby.core.sampler.dynesty.Dynesty object at 0x7f8573b6b590>>, 'dlogz': 0.1, 'maxiter': None, 'maxcall': None, 'logl_max': inf, 'add_live': True, 'print_progress': True, 'save_bounds': False, 'n_effective': None, 'maxmcmc': 5000, 'nact': 5}\n",
      "05:36 bilby INFO    : Checkpoint every check_point_delta_t = 600s\n",
      "05:36 bilby INFO    : Using dynesty version 1.0.1\n",
      "05:36 bilby INFO    : Generating initial points from the prior\n",
      "05:36 bilby INFO    : Using the bilby-implemented rwalk sample method with ACT estimated walks\n"
     ]
    },
    {
     "name": "stdout",
     "output_type": "stream",
     "text": [
      "537it [00:15,  2.36it/s, bound:18 nc:321 ncall:1.1e+04 eff:4.7% logz-ratio=-3.98+/-0.17 dlogz:7.778>0.1] "
     ]
    },
    {
     "name": "stderr",
     "output_type": "stream",
     "text": [
      "/home/deepnika/anaconda3/envs/bilbyenv/lib/python3.7/site-packages/gwpopulation-0.5.0-py3.7.egg/gwpopulation/hyperpe.py:138: RuntimeWarning: divide by zero encountered in log\n",
      "  xp.sum(self.hyper_prior.prob(self.data) / self.sampling_prior, axis=-1)\n"
     ]
    },
    {
     "name": "stdout",
     "output_type": "stream",
     "text": [
      "1551it [02:38,  7.15it/s, bound:1032 nc:101 ncall:1.2e+05 eff:1.3% logz-ratio=1.04+/-0.27 dlogz:0.101>0.1]"
     ]
    },
    {
     "name": "stderr",
     "output_type": "stream",
     "text": [
      "05:38 bilby INFO    : Written checkpoint file Default/Default_resume.pickle\n",
      "05:38 bilby INFO    : Writing 562 current samples to Default/Default_samples.dat\n"
     ]
    },
    {
     "name": "stdout",
     "output_type": "stream",
     "text": [
      "\r",
      "1551it [02:45,  9.36it/s, bound:1032 nc:  1 ncall:1.2e+05 eff:1.4% logz-ratio=1.11+/-0.28 dlogz:0.001>0.1]"
     ]
    },
    {
     "name": "stderr",
     "output_type": "stream",
     "text": [
      "05:38 bilby INFO    : Sampling time: 0:02:38.147837\n",
      "05:38 bilby INFO    : Summary of results:\n",
      "nsamples: 1701\n",
      "ln_noise_evidence:    nan\n",
      "ln_evidence:    nan +/-  0.284\n",
      "ln_bayes_factor:  1.107 +/-  0.284\n",
      "\n"
     ]
    },
    {
     "name": "stdout",
     "output_type": "stream",
     "text": [
      "\n",
      "\n"
     ]
    }
   ],
   "source": [
    "resultA = bilby.run_sampler(likelihood = likelihoodB, priors = chieff_prior, sampler='dynesty', nlive=150, \n",
    "                            label='Default', outdir = 'Default', clean = True)"
   ]
  },
  {
   "cell_type": "code",
   "execution_count": 43,
   "metadata": {},
   "outputs": [
    {
     "data": {
      "image/png": "[encoded data removed]",
      "text/plain": [
       "<Figure size 396x396 with 4 Axes>"
      ]
     },
     "execution_count": 43,
     "metadata": {},
     "output_type": "execute_result"
    }
   ],
   "source": [
    "resultA.plot_corner(plot_density = True)"
   ]
  },
  {
   "cell_type": "code",
   "execution_count": 49,
   "metadata": {
    "scrolled": false
   },
   "outputs": [
    {
     "name": "stderr",
     "output_type": "stream",
     "text": [
      "09:16 bilby INFO    : Plotting mu marginal distribution\n",
      "09:16 bilby INFO    : Plotting mu marginal distribution\n"
     ]
    }
   ],
   "source": [
    "resultA.plot_marginals([''])"
   ]
  },
  {
   "cell_type": "code",
   "execution_count": null,
   "metadata": {},
   "outputs": [],
   "source": [
    "priorsB = bilby.prior.PriorDict(dict(\n",
    "    \n",
    "    # mass\n",
    "    alpha = Uniform(minimum=-4, maximum=12, latex_label='$\\\\alpha$'), \n",
    "    beta = Uniform(minimum=-4, maximum=12, latex_label='$\\\\beta$'), \n",
    "    mmin = Uniform(minimum=5, maximum=10, latex_label='$m_{\\\\min}$'), \n",
    "    mmax = Uniform(minimum=30, maximum=100, latex_label='$m_{\\\\max}$'), \n",
    "    lam = Uniform(minimum=0, maximum=1, latex_label='$\\\\lambda_{m}$'), \n",
    "    mpp = Uniform(minimum=20, maximum=50, latex_label='$\\\\mu_{m}$'), \n",
    "    sigpp = Uniform(minimum=0, maximum=10, latex_label='$\\\\sigma_{m}$'), \n",
    "    delta_m = Uniform(minimum=0, maximum=10, latex_label='$\\\\sigma_{m}$'), \n",
    "\n",
    "    # spin magnitude\n",
    "    amax = 1,  \n",
    "    mu_chi = Uniform(minimum=0, maximum=1, latex_label = '$\\\\mu_{\\\\chi_1}$'), \n",
    "#     mu_chi_2 = Uniform(minimum=0, maximum=1, latex_label = '$\\\\mu_{\\\\chi_2}$'), \n",
    "    sigma_chi = Uniform(minimum=0, maximum=0.25, latex_label = '$\\\\sigma_{\\\\chi_1}$'), \n",
    "#     sigma_chi_2 = Uniform(minimum=0, maximum=0.25, latex_label = '$\\\\sigma_{\\\\chi_2}$'), \n",
    "#     alpha_chi = Constraint(minimum = 1, maximum = 1000, latex_label = '$\\\\alpha_{\\\\chi1}$'), \n",
    "#     alpha_chi_2 = Constraint(minimum = 1, maximum = 1000, latex_label = '$\\\\alpha_{\\\\chi2}$'), \n",
    "#     beta_chi = Constraint(minimum = 1, maximum = 1000, latex_label = '$\\\\beta_{\\\\chi1}$'), \n",
    "#     beta_chi_2 = Constraint(minimum = 1, maximum = 1000, latex_label = '$\\\\beta_{\\\\chi2}$'), \n",
    "\n",
    "    # spin orientation\n",
    "    xi_spin = Uniform(minimum=0, maximum=1, latex_label='$\\\\xi$'), \n",
    "    sigma_1 = Uniform(minimum=0, maximum=4, latex_label='$\\\\sigma{1}$'), \n",
    "    sigma_2 = Uniform(minimum=0, maximum=4, latex_label='$\\\\sigma{2}$')), \n",
    "                               \n",
    "                               conversion_function = convert_to_beta_parameters)"
   ]
  },
  {
   "cell_type": "code",
   "execution_count": 17,
   "metadata": {},
   "outputs": [],
   "source": [
    "modelB = bilby.hyper.model.Model([mass.])"
   ]
  },
  {
   "cell_type": "code",
   "execution_count": 67,
   "metadata": {},
   "outputs": [],
   "source": [
    "priorsB = PriorDict()\n",
    "\n",
    "priorsB['mu'] = Uniform(minimum = -1, maximum = 1, latex_label='$\\\\mu$')\n",
    "priorsB['var'] = Uniform(minimum = 0, maximum = 1, latex_label='$\\\\sigma^2$')\n",
    "\n",
    "# rate\n",
    "# priorsB['rate'] = LogUniform()\n",
    "\n",
    "# mass\n",
    "priorsB['mass_1'] = LogUniform(minimum = , maximum = , latex_label = \"$mass_1$\")\n",
    "priorsB['mass_ratio'] = Uniform(minimum = , maximum = , latex_label = \"$q$\")\n",
    "priorsB['lam'] = 2.7\n",
    "priorsB['mmin'] = 5\n"
   ]
  },
  {
   "cell_type": "code",
   "execution_count": null,
   "metadata": {},
   "outputs": [],
   "source": []
  },
  {
   "cell_type": "code",
   "execution_count": 69,
   "metadata": {
    "scrolled": false
   },
   "outputs": [],
   "source": [
    "# likelihoodB.parameters.update(priorsB.sample())\n",
    "# # likelihoodB.log_likelihood_ratio()\n",
    "\n",
    "# resultB = bilby.run_sampler(likelihood = likelihoodB, priors = priorsB, sampler='dynesty', nlive=100)"
   ]
  },
  {
   "cell_type": "markdown",
   "metadata": {},
   "source": [
    "The posterior distribution for mean and variance is:\n",
    "\n",
    "<img src=\"posterior_mu_var.png\">"
   ]
  },
  {
   "cell_type": "markdown",
   "metadata": {},
   "source": [
    "# Rough Work"
   ]
  },
  {
   "cell_type": "markdown",
   "metadata": {},
   "source": [
    "A coalescing compact binary in a quasicircular orbit can be completely characterized by its intrinsic parameters, namely its individual masses mi and spins Si, and its seven extrinsic parameters: right ascension, declination, luminosity distance, coalescence time, and three Euler angles characterizing its orientation (e.g., inclination,\n",
    "orbital phase, and polarization). In this work, we will also use the total mass M = m1 + m2 and mass ratio q\n",
    "defined in the following way:\n",
    "\n",
    "q = m2/m1, where m1 ≥ m2. (1)\n",
    "\n",
    "We will also refer to two other commonly used mass parametrizations: \n",
    "the chirp mass Mc = (m1m2)\n",
    "3/5/(m1 + m2)\n",
    "1/5 and the symmetric mass ratio\n",
    "η = m1m2/(m1 + m2)\n",
    "2\n",
    "With regard to spin, we define an effective spin [46–48], which is a combination of the spin components along the orbital angular momentum direction Lˆ, in the following way:\n",
    "\n",
    "χeff = (S1/m1 + S2/m2) · Lˆ/M (2)\n",
    "\n",
    "where S1 and S2 are the spins on the individual BH. We will also characterize BH spins using the dimensionless\n",
    "spin variables\n",
    "\n",
    "χi = Si/m2i. (3)\n",
    "\n",
    "We will express these dimensionless spins in terms of Cartesian components χi,x, χi,y, χi,z, expressed relative\n",
    "to a frame with ˆz = Lˆ and (for simplicity) at the orbital frequency corresponding to the earliest time of astrophysical interest (e.g., an orbital frequency of ' 10 Hz)."
   ]
  },
  {
   "cell_type": "markdown",
   "metadata": {},
   "source": [
    "170817 not inculded in this analysis"
   ]
  },
  {
   "cell_type": "code",
   "execution_count": 11,
   "metadata": {},
   "outputs": [
    {
     "data": {
      "text/plain": [
       "<KeysViewHDF5 ['IMRPhenomPv2NRT_highSpin_posterior', 'IMRPhenomPv2NRT_highSpin_prior', 'IMRPhenomPv2NRT_lowSpin_posterior', 'IMRPhenomPv2NRT_lowSpin_prior']>"
      ]
     },
     "execution_count": 11,
     "metadata": {},
     "output_type": "execute_result"
    }
   ],
   "source": [
    "# Since this file has different headers\n",
    "\n",
    "f = h5py.File('GWTC-1_sample_release/GW170817_GWTC-1.hdf5', 'r')\n",
    "f.keys()"
   ]
  },
  {
   "cell_type": "code",
   "execution_count": 27,
   "metadata": {},
   "outputs": [],
   "source": [
    "luminosity_prior = luminosity_distances ** 2\n",
    "\n",
    "dz_ddl = np.gradient(redshifts, luminosity_distances)\n",
    "plt.plot(dz_ddl)\n",
    "plt.show()\n",
    "\n",
    "redshift_prior = scipy.interpolate.interp1d(redshifts, luminosity_prior/(dz_ddl*(1 + redshifts)))"
   ]
  }
 ],
 "metadata": {
  "kernelspec": {
   "display_name": "Environment (conda_bilbyenv)",
   "language": "python",
   "name": "conda_bilbyenv"
  },
  "language_info": {
   "codemirror_mode": {
    "name": "ipython",
    "version": 3
   },
   "file_extension": ".py",
   "mimetype": "text/x-python",
   "name": "python",
   "nbconvert_exporter": "python",
   "pygments_lexer": "ipython3",
   "version": "3.7.7"
  }
 },
 "nbformat": 4,
 "nbformat_minor": 2
}
