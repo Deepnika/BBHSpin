{
 "cells": [
  {
   "cell_type": "markdown",
   "metadata": {},
   "source": [
    "## Imports"
   ]
  },
  {
   "cell_type": "code",
   "execution_count": 1,
   "metadata": {},
   "outputs": [
    {
     "name": "stdout",
     "output_type": "stream",
     "text": [
      "Populating the interactive namespace from numpy and matplotlib\n"
     ]
    }
   ],
   "source": [
    "import bilby\n",
    "import gwpopulation as gwpop\n",
    "import numpy as np\n",
    "import matplotlib.pyplot as plt\n",
    "import h5py\n",
    "import pandas as pd\n",
    "import corner\n",
    "import seaborn as sns\n",
    "\n",
    "from astropy import cosmology, units\n",
    "from scipy.interpolate import interp1d\n",
    "from scipy.special import erf\n",
    "\n",
    "from bilby.core.prior import Uniform, LogUniform, PriorDict, Constraint\n",
    "from gwpopulation.models import mass, spin\n",
    "\n",
    "%pylab inline"
   ]
  },
  {
   "cell_type": "markdown",
   "metadata": {},
   "source": [
    "# Model B - Gaussian\n",
    "\n",
    "This paper uses `Overall_posterior`."
   ]
  },
  {
   "cell_type": "code",
   "execution_count": 2,
   "metadata": {},
   "outputs": [],
   "source": [
    "parameter_translator = dict(\n",
    "    mass_1_det = 'm1_detector_frame_Msun',\n",
    "    mass_2_det = 'm2_detector_frame_Msun',\n",
    "    luminosity_distance = 'luminosity_distance_Mpc',\n",
    "    a_1 = 'spin1',\n",
    "    a_2 = 'spin2',\n",
    "    cos_tilt_1 = 'costilt1',\n",
    "    cos_tilt_2 = 'costilt2')"
   ]
  },
  {
   "cell_type": "code",
   "execution_count": 3,
   "metadata": {},
   "outputs": [],
   "source": [
    "file = 'GWTC-1_sample_release/GW{}_GWTC-1.hdf5'\n",
    "\n",
    "events = ['150914', '151012', '151226', '170104', '170608', '170729', '170809', '170814', \n",
    "          '170818', '170823']\n",
    "\n",
    "posteriorsB = []\n",
    "priorsB = []\n",
    "event_name = []\n",
    "\n",
    "for event in events:\n",
    "    _posterior = pd.DataFrame()\n",
    "    _prior = pd.DataFrame()\n",
    "    with h5py.File(file.format(event), 'r') as ff:\n",
    "        for my_key, gwtc_key in parameter_translator.items():\n",
    "            _posterior[my_key] = ff['Overall_posterior'][gwtc_key]\n",
    "    posteriorsB.append(_posterior)\n",
    "    event_name.append(event)"
   ]
  },
  {
   "cell_type": "code",
   "execution_count": 4,
   "metadata": {},
   "outputs": [],
   "source": [
    "luminosity_distances = np.linspace(1, 10000, 1000)\n",
    "redshifts = np.array([cosmology.z_at_value(cosmology.Planck15.luminosity_distance, \n",
    "                                                   dl * units.Mpc) for dl in luminosity_distances])\n",
    "dl_to_z = interp1d(luminosity_distances, redshifts)"
   ]
  },
  {
   "cell_type": "code",
   "execution_count": 5,
   "metadata": {},
   "outputs": [],
   "source": [
    "for posterior in posteriorsB:\n",
    "    posterior['redshift'] = dl_to_z(posterior['luminosity_distance'])\n",
    "    posterior['mass_1'] = posterior['mass_1_det'] / (1 + posterior['redshift'])\n",
    "    posterior['mass_2'] = posterior['mass_2_det'] / (1 + posterior['redshift'])\n",
    "    posterior['mass_ratio'] = posterior['mass_2'] / posterior['mass_1']"
   ]
  },
  {
   "cell_type": "markdown",
   "metadata": {},
   "source": [
    "### Sampling effective spins ($\\chi_{eff}$) by parameter estimation\n",
    "\n",
    "$$\\chi_{eff} = \\frac{a_1 cost_1 + a_2 q cost_2}{1+q}$$\n",
    "\n",
    "For each gravitational wave we obtain a set of discrete samples p($\\chi_{eff}$|data) (given by `posterior['chieff']` here)\n",
    "\n",
    "Effective spins are drawn from a simple truncated Gaussian.\n",
    "\n",
    "<img src=\"chieff.png\">\n"
   ]
  },
  {
   "cell_type": "code",
   "execution_count": 2,
   "metadata": {},
   "outputs": [],
   "source": [
    "def chieff(a1, a2, m1, m2, cost1, cost2):\n",
    "    chieff = (a1*m1*cost1 + a2*m2*cost2)/(m1+m2)\n",
    "    return chieff"
   ]
  },
  {
   "cell_type": "code",
   "execution_count": 7,
   "metadata": {},
   "outputs": [],
   "source": [
    "for posterior in posteriorsB:\n",
    "    posterior['chieff'] = chieff(posterior['a_1'], posterior['a_2'], \n",
    "                                 posterior['mass_1'], posterior['mass_2'], \n",
    "                                 posterior['cos_tilt_1'], posterior['cos_tilt_2'])"
   ]
  },
  {
   "cell_type": "markdown",
   "metadata": {},
   "source": [
    "<font color = 'green'>\n",
    "    <h3>I have a doubt here. Should I be using this LALprior already given with the GWTC-1 catalogue, or should I simulate a new prior?</h3>\n",
    "    \n",
    "</font>\n",
    "\n",
    "Here, simulating the LALprior:"
   ]
  },
  {
   "cell_type": "code",
   "execution_count": 3,
   "metadata": {},
   "outputs": [],
   "source": [
    "# def conv(parameters):\n",
    "#     parameters['mass_ratio'] = parameters['mass_2'] / parameters['mass_1']\n",
    "#     return parameters\n",
    "\n",
    "\n",
    "simulated_LALprior = bilby.prior.PriorDict(dict(\n",
    "    mass_1 = Uniform(minimum = 0, maximum = 1, latex_label = 'm1'), \n",
    "#     mass_2 = bilby.prior.Cosine('m2'),\n",
    "    mass_2 = Uniform(minimum = 0, maximum = 1), \n",
    "#     mass_ratio = bilby.prior.Constraint(minimum = 0, maximum = 1, latex_label = 'mass_ratio'), \n",
    "    a_1 = Uniform(minimum = 0, maximum = 1, latex_label = 'a1'), \n",
    "    a_2 = Uniform(minimum = 0, maximum = 1, latex_label = 'a2'), \n",
    "    cos_tilt_1 = Uniform(minimum = -1, maximum = 1, latex_label = 'cost1'), \n",
    "    cos_tilt_2 = Uniform(minimum = -1, maximum = 1, latex_label = 'cost2')))\n",
    "#                                            conversion_function = conv)"
   ]
  },
  {
   "cell_type": "code",
   "execution_count": 3,
   "metadata": {
    "scrolled": false
   },
   "outputs": [
    {
     "ename": "KeyError",
     "evalue": "'ratio'",
     "output_type": "error",
     "traceback": [
      "\u001b[0;31m---------------------------------------------------------------------------\u001b[0m",
      "\u001b[0;31mKeyError\u001b[0m                                  Traceback (most recent call last)",
      "\u001b[0;32m<ipython-input-3-29b8cf66773e>\u001b[0m in \u001b[0;36m<module>\u001b[0;34m\u001b[0m\n\u001b[1;32m      9\u001b[0m     conversion_function=conv)\n\u001b[1;32m     10\u001b[0m \u001b[0;34m\u001b[0m\u001b[0m\n\u001b[0;32m---> 11\u001b[0;31m \u001b[0mprior_samples\u001b[0m \u001b[0;34m=\u001b[0m \u001b[0mpriors\u001b[0m\u001b[0;34m.\u001b[0m\u001b[0msample\u001b[0m\u001b[0;34m(\u001b[0m\u001b[0;36m1000\u001b[0m\u001b[0;34m)\u001b[0m\u001b[0;34m\u001b[0m\u001b[0;34m\u001b[0m\u001b[0m\n\u001b[0m\u001b[1;32m     12\u001b[0m \u001b[0mprior_samples_array\u001b[0m \u001b[0;34m=\u001b[0m \u001b[0mnp\u001b[0m\u001b[0;34m.\u001b[0m\u001b[0marray\u001b[0m\u001b[0;34m(\u001b[0m\u001b[0;34m[\u001b[0m\u001b[0mprior_samples\u001b[0m\u001b[0;34m[\u001b[0m\u001b[0;34m'x'\u001b[0m\u001b[0;34m]\u001b[0m\u001b[0;34m,\u001b[0m \u001b[0mprior_samples\u001b[0m\u001b[0;34m[\u001b[0m\u001b[0;34m'y'\u001b[0m\u001b[0;34m]\u001b[0m\u001b[0;34m]\u001b[0m\u001b[0;34m)\u001b[0m\u001b[0;34m.\u001b[0m\u001b[0mT\u001b[0m\u001b[0;34m\u001b[0m\u001b[0;34m\u001b[0m\u001b[0m\n\u001b[1;32m     13\u001b[0m \u001b[0mcorner\u001b[0m\u001b[0;34m.\u001b[0m\u001b[0mcorner\u001b[0m\u001b[0;34m(\u001b[0m\u001b[0mprior_samples_array\u001b[0m\u001b[0;34m,\u001b[0m \u001b[0mlabels\u001b[0m\u001b[0;34m=\u001b[0m\u001b[0;34m[\u001b[0m\u001b[0;34m'x'\u001b[0m\u001b[0;34m,\u001b[0m \u001b[0;34m'y'\u001b[0m\u001b[0;34m]\u001b[0m\u001b[0;34m)\u001b[0m\u001b[0;34m\u001b[0m\u001b[0;34m\u001b[0m\u001b[0m\n",
      "\u001b[0;32m~/anaconda3/envs/bilbyenv/lib/python3.7/site-packages/bilby/core/prior/dict.py\u001b[0m in \u001b[0;36msample\u001b[0;34m(self, size)\u001b[0m\n\u001b[1;32m    311\u001b[0m         \u001b[0mdict\u001b[0m\u001b[0;34m:\u001b[0m \u001b[0mDictionary\u001b[0m \u001b[0mof\u001b[0m \u001b[0mthe\u001b[0m \u001b[0msamples\u001b[0m\u001b[0;34m\u001b[0m\u001b[0;34m\u001b[0m\u001b[0m\n\u001b[1;32m    312\u001b[0m         \"\"\"\n\u001b[0;32m--> 313\u001b[0;31m         \u001b[0;32mreturn\u001b[0m \u001b[0mself\u001b[0m\u001b[0;34m.\u001b[0m\u001b[0msample_subset_constrained\u001b[0m\u001b[0;34m(\u001b[0m\u001b[0mkeys\u001b[0m\u001b[0;34m=\u001b[0m\u001b[0mlist\u001b[0m\u001b[0;34m(\u001b[0m\u001b[0mself\u001b[0m\u001b[0;34m.\u001b[0m\u001b[0mkeys\u001b[0m\u001b[0;34m(\u001b[0m\u001b[0;34m)\u001b[0m\u001b[0;34m)\u001b[0m\u001b[0;34m,\u001b[0m \u001b[0msize\u001b[0m\u001b[0;34m=\u001b[0m\u001b[0msize\u001b[0m\u001b[0;34m)\u001b[0m\u001b[0;34m\u001b[0m\u001b[0;34m\u001b[0m\u001b[0m\n\u001b[0m\u001b[1;32m    314\u001b[0m \u001b[0;34m\u001b[0m\u001b[0m\n\u001b[1;32m    315\u001b[0m     \u001b[0;32mdef\u001b[0m \u001b[0msample_subset_constrained_as_array\u001b[0m\u001b[0;34m(\u001b[0m\u001b[0mself\u001b[0m\u001b[0;34m,\u001b[0m \u001b[0mkeys\u001b[0m\u001b[0;34m=\u001b[0m\u001b[0miter\u001b[0m\u001b[0;34m(\u001b[0m\u001b[0;34m[\u001b[0m\u001b[0;34m]\u001b[0m\u001b[0;34m)\u001b[0m\u001b[0;34m,\u001b[0m \u001b[0msize\u001b[0m\u001b[0;34m=\u001b[0m\u001b[0;32mNone\u001b[0m\u001b[0;34m)\u001b[0m\u001b[0;34m:\u001b[0m\u001b[0;34m\u001b[0m\u001b[0;34m\u001b[0m\u001b[0m\n",
      "\u001b[0;32m~/anaconda3/envs/bilbyenv/lib/python3.7/site-packages/bilby/core/prior/dict.py\u001b[0m in \u001b[0;36msample_subset_constrained\u001b[0;34m(self, keys, size)\u001b[0m\n\u001b[1;32m    379\u001b[0m                 \u001b[0;32mfor\u001b[0m \u001b[0mkey\u001b[0m \u001b[0;32min\u001b[0m \u001b[0msamples\u001b[0m\u001b[0;34m:\u001b[0m\u001b[0;34m\u001b[0m\u001b[0;34m\u001b[0m\u001b[0m\n\u001b[1;32m    380\u001b[0m                     all_samples[key] = np.hstack(\n\u001b[0;32m--> 381\u001b[0;31m                         [all_samples[key], samples[key][keep].flatten()])\n\u001b[0m\u001b[1;32m    382\u001b[0m             all_samples = {key: np.reshape(all_samples[key][:needed], size)\n\u001b[1;32m    383\u001b[0m                            \u001b[0;32mfor\u001b[0m \u001b[0mkey\u001b[0m \u001b[0;32min\u001b[0m \u001b[0mall_samples\u001b[0m\u001b[0;34m\u001b[0m\u001b[0;34m\u001b[0m\u001b[0m\n",
      "\u001b[0;31mKeyError\u001b[0m: 'ratio'"
     ]
    }
   ],
   "source": [
    "def conv(parameters):\n",
    "    parameters['ratio'] = parameters['x'] / parameters['y']\n",
    "    return parameters\n",
    "\n",
    "priors = bilby.prior.ConditionalPriorDict(dict(\n",
    "    x=bilby.prior.Uniform(0, 1, 'x'),\n",
    "    y=bilby.prior.Cosine('y'),\n",
    "    ratio=bilby.prior.Constraint(minimum=0, maximum=1, name='ratio')),\n",
    "    conversion_function=conv)\n",
    "\n",
    "prior_samples = priors.sample(1000)\n",
    "prior_samples_array = np.array([prior_samples['x'], prior_samples['y']]).T\n",
    "corner.corner(prior_samples_array, labels=['x', 'y'])\n",
    "plt.show()"
   ]
  },
  {
   "cell_type": "code",
   "execution_count": 4,
   "metadata": {},
   "outputs": [],
   "source": [
    "def convert_x_y_to_z(parameters):\n",
    "    \"\"\"\n",
    "    Function to convert between sampled parameters and constraint parameter.\n",
    "\n",
    "    Parameters\n",
    "    ----------\n",
    "    parameters: dict\n",
    "        Dictionary containing sampled parameter values, 'x', 'y'.\n",
    "\n",
    "    Returns\n",
    "    -------\n",
    "    dict: Dictionary with constraint parameter 'z' added.\n",
    "    \"\"\"\n",
    "    parameters['z'] = parameters['x'] - parameters['y']\n",
    "    return parameters"
   ]
  },
  {
   "cell_type": "code",
   "execution_count": 9,
   "metadata": {},
   "outputs": [],
   "source": [
    "from bilby.core.prior import ConditionalPriorDict, Uniform, Constraint\n",
    "\n",
    "priors = ConditionalPriorDict(conversion_function=convert_x_y_to_z)\n",
    "priors['x'] = Uniform(minimum=0, maximum=10)\n",
    "priors['y'] = Uniform(minimum=0, maximum=10)\n",
    "priors['z'] = Constraint(minimum=0, maximum=10)"
   ]
  },
  {
   "cell_type": "code",
   "execution_count": 10,
   "metadata": {},
   "outputs": [
    {
     "ename": "KeyError",
     "evalue": "'z'",
     "output_type": "error",
     "traceback": [
      "\u001b[0;31m---------------------------------------------------------------------------\u001b[0m",
      "\u001b[0;31mKeyError\u001b[0m                                  Traceback (most recent call last)",
      "\u001b[0;32m<ipython-input-10-5c6ac1f70036>\u001b[0m in \u001b[0;36m<module>\u001b[0;34m\u001b[0m\n\u001b[1;32m      1\u001b[0m \u001b[0;32mimport\u001b[0m \u001b[0mmatplotlib\u001b[0m\u001b[0;34m.\u001b[0m\u001b[0mpyplot\u001b[0m \u001b[0;32mas\u001b[0m \u001b[0mplt\u001b[0m\u001b[0;34m\u001b[0m\u001b[0;34m\u001b[0m\u001b[0m\n\u001b[1;32m      2\u001b[0m \u001b[0;34m\u001b[0m\u001b[0m\n\u001b[0;32m----> 3\u001b[0;31m \u001b[0msamples\u001b[0m \u001b[0;34m=\u001b[0m \u001b[0mpriors\u001b[0m\u001b[0;34m.\u001b[0m\u001b[0msample\u001b[0m\u001b[0;34m(\u001b[0m\u001b[0;36m1000000\u001b[0m\u001b[0;34m)\u001b[0m\u001b[0;34m\u001b[0m\u001b[0;34m\u001b[0m\u001b[0m\n\u001b[0m\u001b[1;32m      4\u001b[0m \u001b[0mplt\u001b[0m\u001b[0;34m.\u001b[0m\u001b[0mhist2d\u001b[0m\u001b[0;34m(\u001b[0m\u001b[0msamples\u001b[0m\u001b[0;34m[\u001b[0m\u001b[0;34m'x'\u001b[0m\u001b[0;34m]\u001b[0m\u001b[0;34m,\u001b[0m \u001b[0msamples\u001b[0m\u001b[0;34m[\u001b[0m\u001b[0;34m'y'\u001b[0m\u001b[0;34m]\u001b[0m\u001b[0;34m,\u001b[0m \u001b[0mbins\u001b[0m\u001b[0;34m=\u001b[0m\u001b[0;36m100\u001b[0m\u001b[0;34m,\u001b[0m \u001b[0mcmap\u001b[0m\u001b[0;34m=\u001b[0m\u001b[0;34m'Blues'\u001b[0m\u001b[0;34m)\u001b[0m\u001b[0;34m\u001b[0m\u001b[0;34m\u001b[0m\u001b[0m\n\u001b[1;32m      5\u001b[0m \u001b[0mplt\u001b[0m\u001b[0;34m.\u001b[0m\u001b[0mxlabel\u001b[0m\u001b[0;34m(\u001b[0m\u001b[0;34m'$x$'\u001b[0m\u001b[0;34m)\u001b[0m\u001b[0;34m\u001b[0m\u001b[0;34m\u001b[0m\u001b[0m\n",
      "\u001b[0;32m~/anaconda3/envs/bilbyenv/lib/python3.7/site-packages/bilby/core/prior/dict.py\u001b[0m in \u001b[0;36msample\u001b[0;34m(self, size)\u001b[0m\n\u001b[1;32m    311\u001b[0m         \u001b[0mdict\u001b[0m\u001b[0;34m:\u001b[0m \u001b[0mDictionary\u001b[0m \u001b[0mof\u001b[0m \u001b[0mthe\u001b[0m \u001b[0msamples\u001b[0m\u001b[0;34m\u001b[0m\u001b[0;34m\u001b[0m\u001b[0m\n\u001b[1;32m    312\u001b[0m         \"\"\"\n\u001b[0;32m--> 313\u001b[0;31m         \u001b[0;32mreturn\u001b[0m \u001b[0mself\u001b[0m\u001b[0;34m.\u001b[0m\u001b[0msample_subset_constrained\u001b[0m\u001b[0;34m(\u001b[0m\u001b[0mkeys\u001b[0m\u001b[0;34m=\u001b[0m\u001b[0mlist\u001b[0m\u001b[0;34m(\u001b[0m\u001b[0mself\u001b[0m\u001b[0;34m.\u001b[0m\u001b[0mkeys\u001b[0m\u001b[0;34m(\u001b[0m\u001b[0;34m)\u001b[0m\u001b[0;34m)\u001b[0m\u001b[0;34m,\u001b[0m \u001b[0msize\u001b[0m\u001b[0;34m=\u001b[0m\u001b[0msize\u001b[0m\u001b[0;34m)\u001b[0m\u001b[0;34m\u001b[0m\u001b[0;34m\u001b[0m\u001b[0m\n\u001b[0m\u001b[1;32m    314\u001b[0m \u001b[0;34m\u001b[0m\u001b[0m\n\u001b[1;32m    315\u001b[0m     \u001b[0;32mdef\u001b[0m \u001b[0msample_subset_constrained_as_array\u001b[0m\u001b[0;34m(\u001b[0m\u001b[0mself\u001b[0m\u001b[0;34m,\u001b[0m \u001b[0mkeys\u001b[0m\u001b[0;34m=\u001b[0m\u001b[0miter\u001b[0m\u001b[0;34m(\u001b[0m\u001b[0;34m[\u001b[0m\u001b[0;34m]\u001b[0m\u001b[0;34m)\u001b[0m\u001b[0;34m,\u001b[0m \u001b[0msize\u001b[0m\u001b[0;34m=\u001b[0m\u001b[0;32mNone\u001b[0m\u001b[0;34m)\u001b[0m\u001b[0;34m:\u001b[0m\u001b[0;34m\u001b[0m\u001b[0;34m\u001b[0m\u001b[0m\n",
      "\u001b[0;32m~/anaconda3/envs/bilbyenv/lib/python3.7/site-packages/bilby/core/prior/dict.py\u001b[0m in \u001b[0;36msample_subset_constrained\u001b[0;34m(self, keys, size)\u001b[0m\n\u001b[1;32m    379\u001b[0m                 \u001b[0;32mfor\u001b[0m \u001b[0mkey\u001b[0m \u001b[0;32min\u001b[0m \u001b[0msamples\u001b[0m\u001b[0;34m:\u001b[0m\u001b[0;34m\u001b[0m\u001b[0;34m\u001b[0m\u001b[0m\n\u001b[1;32m    380\u001b[0m                     all_samples[key] = np.hstack(\n\u001b[0;32m--> 381\u001b[0;31m                         [all_samples[key], samples[key][keep].flatten()])\n\u001b[0m\u001b[1;32m    382\u001b[0m             all_samples = {key: np.reshape(all_samples[key][:needed], size)\n\u001b[1;32m    383\u001b[0m                            \u001b[0;32mfor\u001b[0m \u001b[0mkey\u001b[0m \u001b[0;32min\u001b[0m \u001b[0mall_samples\u001b[0m\u001b[0;34m\u001b[0m\u001b[0;34m\u001b[0m\u001b[0m\n",
      "\u001b[0;31mKeyError\u001b[0m: 'z'"
     ]
    }
   ],
   "source": [
    "import matplotlib.pyplot as plt\n",
    "\n",
    "samples = priors.sample(1000000)\n",
    "plt.hist2d(samples['x'], samples['y'], bins=100, cmap='Blues')\n",
    "plt.xlabel('$x$')\n",
    "plt.ylabel('$y$')\n",
    "plt.tight_layout()\n",
    "plt.show()\n",
    "plt.close()"
   ]
  },
  {
   "cell_type": "code",
   "execution_count": 7,
   "metadata": {
    "scrolled": false
   },
   "outputs": [
    {
     "data": {
      "text/plain": [
       "array({'mass_1': array([0.37459127, 0.42259339, 0.37484628, ..., 0.30105061,\n",
       "       0.20295791, 0.17913632]), 'mass_2': array([0.58427267, 0.88766025, 0.08202153, ..., 0.72532684,\n",
       "       0.14631046, 0.31092982]), 'a_1': array([0.53108374, 0.76609201, 0.51433587, ..., 0.63179824,\n",
       "       0.40936997, 0.5549133 ]), 'a_2': array([0.97360776, 0.84087397, 0.42278715, ..., 0.26772749,\n",
       "       0.96490872, 0.06524988]), 'cos_tilt_1': array([ 0.31239518,  0.3432398 ,  0.15470395, ..., -0.16719828,\n",
       "       -0.11684972, -0.34318602]), 'cos_tilt_2': array([-0.57975947, -0.68578883,  0.27760798, ..., -0.70566417,\n",
       "       -0.98348104,  0.5185064 ])}, dtype=object)"
      ]
     },
     "execution_count": 7,
     "metadata": {},
     "output_type": "execute_result"
    }
   ],
   "source": [
    "chi_samples = simulated_LALprior.sample(1000)\n",
    "\n",
    "# chi_samples\n",
    "\n",
    "chi_samples_array = np.array([chi_samples['mass_1'], chi_samples['mass_2'], \n",
    "                          chi_samples['a_1'], chi_samples['a_2'], \n",
    "                          chi_samples['cos_tilt_1'], chi_samples['cos_tilt_2']]).T\n",
    "\n",
    "# chi_samples_array = np.array(chi_samples)\n",
    "\n",
    "chi_samples_array\n",
    "\n",
    "# chi_eff_prior = []\n",
    "\n",
    "# chi_eff_prior = chieff(chi_samples_array['a_1'], chi_samples_array['a_2'], \n",
    "#                  chi_samples_array['mass_1'], chi_samples_array['mass_2'], \n",
    "#                  chi_samples_array['cos_tilt_1'], chi_samples_array['cos_tilt_2'])\n",
    "\n",
    "# corner.corner(chi_samples_array, labels=['a_1', 'a_2', 'mass_1', 'mass_2', 'cos_tilt_1', 'cos_tilt_2'])\n",
    "# # plt.show()"
   ]
  },
  {
   "cell_type": "code",
   "execution_count": 30,
   "metadata": {},
   "outputs": [
    {
     "ename": "NameError",
     "evalue": "name 'chi_eff_prior' is not defined",
     "output_type": "error",
     "traceback": [
      "\u001b[0;31m---------------------------------------------------------------------------\u001b[0m",
      "\u001b[0;31mNameError\u001b[0m                                 Traceback (most recent call last)",
      "\u001b[0;32m<ipython-input-30-f1a24c2af4f1>\u001b[0m in \u001b[0;36m<module>\u001b[0;34m\u001b[0m\n\u001b[0;32m----> 1\u001b[0;31m \u001b[0msns\u001b[0m\u001b[0;34m.\u001b[0m\u001b[0mdistplot\u001b[0m\u001b[0;34m(\u001b[0m\u001b[0mchi_eff_prior\u001b[0m\u001b[0;34m)\u001b[0m\u001b[0;34m\u001b[0m\u001b[0;34m\u001b[0m\u001b[0m\n\u001b[0m",
      "\u001b[0;31mNameError\u001b[0m: name 'chi_eff_prior' is not defined"
     ]
    }
   ],
   "source": [
    "sns.distplot(chi_eff_prior)"
   ]
  },
  {
   "cell_type": "code",
   "execution_count": null,
   "metadata": {},
   "outputs": [],
   "source": [
    "chi_eff_lal_prior = ss.gaussian_kde(chi_eff_prior)"
   ]
  },
  {
   "cell_type": "code",
   "execution_count": null,
   "metadata": {},
   "outputs": [],
   "source": []
  },
  {
   "cell_type": "code",
   "execution_count": null,
   "metadata": {},
   "outputs": [],
   "source": []
  },
  {
   "cell_type": "code",
   "execution_count": null,
   "metadata": {},
   "outputs": [],
   "source": []
  },
  {
   "cell_type": "markdown",
   "metadata": {},
   "source": [
    "## Hyper-prior models\n",
    "\n",
    "### $\\chi_{\\mathrm{eff}}$ \n",
    "\n",
    "Effective spins are drawn from a simple truncated Gaussian.\n",
    "\n",
    "<img src=\"chieff.png\">"
   ]
  },
  {
   "cell_type": "code",
   "execution_count": null,
   "metadata": {},
   "outputs": [],
   "source": []
  },
  {
   "cell_type": "markdown",
   "metadata": {},
   "source": [
    "### Joint mass and redshift model:\n",
    "\n",
    "$$p_{astro}(m_1, m_2, z) \\propto \\frac{(1+z)^{1.7}}{m_1(m_1 - M_{min})} \\frac{dV_c}{dz}$$\n",
    "\n",
    "where $m_1$ and $m_2$ are source frame masses.\n",
    "\n",
    "As a first step, we assume that the underlying mass distribution does not vary across cosmic time, so that we can factor the joint mass-redshift distribution as:\n",
    "\n",
    "$$p(m_1, m_2, z) = p(m_1, m_2) p(z)$$\n",
    "\n",
    "This assumption may break down over a large range of redshifts, as many formation scenarios predict some dependence of the mass distribution on the merger redshift. However, LIGO is only sensitive to redshifts z <~ 1.5, for which this is a good approximation. \n",
    "\n",
    "<br>\n",
    "\n",
    "<font color = 'green'>\n",
    "I am highly skeptical about my implementation of the mass model. Please suggest corrections. Note that this model does not impose a maximum mass cutoff.\n",
    "</font>\n",
    "\n",
    "This is the model given in gwpop.models.redshift:\n",
    "\n",
    "$$p(z|\\gamma, \\kappa, z_p) \\propto \\frac{1}{1 + z}\\frac{dV_c}{dz} \\psi(z|\\gamma, \\kappa, z_p)$$\n",
    "\n",
    "$$\\psi(z|\\gamma, \\kappa, z_p) = \\frac{(1 + z)^\\gamma}{1 + (\\frac{1 + z}{1 + z_p})^\\kappa}$$\n",
    "\n",
    "However, I rewrote its simplified version here, (to account for f(z) as in https://arxiv.org/pdf/1805.10270.pdf (9))"
   ]
  },
  {
   "cell_type": "code",
   "execution_count": null,
   "metadata": {},
   "outputs": [],
   "source": []
  }
 ],
 "metadata": {
  "kernelspec": {
   "display_name": "Environment (conda_bilbyenv)",
   "language": "python",
   "name": "conda_bilbyenv"
  },
  "language_info": {
   "codemirror_mode": {
    "name": "ipython",
    "version": 3
   },
   "file_extension": ".py",
   "mimetype": "text/x-python",
   "name": "python",
   "nbconvert_exporter": "python",
   "pygments_lexer": "ipython3",
   "version": "3.7.7"
  }
 },
 "nbformat": 4,
 "nbformat_minor": 4
}
